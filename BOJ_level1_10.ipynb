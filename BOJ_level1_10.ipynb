{
 "cells": [
  {
   "cell_type": "markdown",
   "id": "5dd1ad58-0022-422e-bcdd-1f5cda77c58e",
   "metadata": {},
   "source": [
    "# BOJ_Level\n",
    "## Lv.1 입출력과 사칙연산 - Lv.10 기하:직사각형과 삼각형\n",
    "### 1단계 입출력과 사칙연산"
   ]
  },
  {
   "cell_type": "code",
   "execution_count": null,
   "id": "c4708bb1-7077-4cdb-9103-8ed3af482c34",
   "metadata": {},
   "outputs": [],
   "source": [
    "''' map(int, input().split())\n",
    "input() : 입력값은 '문자열'로 인식\n",
    "split() : 문자열을 리스트로 구분(ex: 입력값을 두 개 이상으로 구분)\n",
    "int() : ()안을 정수형으로 바꿔주며, List[]는 정수형으로 변경 불가함\n",
    "map(적용할함수, 반복가능자료형)\n",
    "'''\n",
    "A, B = map(int, input().split())\n",
    "\n",
    "print(A+B)\n",
    "print(A-B)\n",
    "print(A*B)\n",
    "print(A/B)\n",
    "print(A%B)"
   ]
  },
  {
   "cell_type": "code",
   "execution_count": null,
   "id": "ec65a603-b243-409f-ac01-24ebc69c91a2",
   "metadata": {},
   "outputs": [],
   "source": [
    "print(input()+\"??!\")"
   ]
  },
  {
   "cell_type": "code",
   "execution_count": null,
   "id": "e5ed081f-8a45-4ad9-b420-a4a79bfb3452",
   "metadata": {},
   "outputs": [],
   "source": [
    "east = int(input())-543\n",
    "print(east)"
   ]
  },
  {
   "cell_type": "code",
   "execution_count": null,
   "id": "5c1dea82-92ec-4aa3-913d-4b5112564fb5",
   "metadata": {},
   "outputs": [],
   "source": [
    "A,B,C = map(int, input().split())\n",
    "\n",
    "print((A+B)%C)\n",
    "print(((A%C) + (B%C))%C)\n",
    "print((A*B)%C)\n",
    "print(((A%C) * (B%C))%C)"
   ]
  },
  {
   "cell_type": "code",
   "execution_count": null,
   "id": "c177700f-f991-482d-8ac7-0b8b9df017af",
   "metadata": {},
   "outputs": [],
   "source": [
    "A = int(input())\n",
    "B = int(input())\n",
    "\n",
    "print(A*(B%10))\n",
    "print(A*(((B%100)-(B%10)))//10) #이것을 lambda x: ~ 식으로 간단히 할 수 없을까? print(A*(B//10)%10)\n",
    "print(A*(B//100))\n",
    "print(A*B)"
   ]
  },
  {
   "cell_type": "code",
   "execution_count": null,
   "id": "e2313be3-de40-40bf-999c-f23164a1de23",
   "metadata": {},
   "outputs": [],
   "source": [
    "A,B,C = map(int, input().split())\n",
    "print(A+B+C)"
   ]
  },
  {
   "cell_type": "code",
   "execution_count": null,
   "id": "eab37a5b-658d-409c-9a1e-32103299ca56",
   "metadata": {},
   "outputs": [],
   "source": [
    "# 역슬래시(\\)는 \\\\ 2n개를 연속해서 넣어야 n개로 인식된다\n",
    "cat = \"\"\"\\\\    /\\\\\n",
    " )  ( ')\n",
    "(  /  )\n",
    " \\\\(__)| \"\"\"\n",
    "print(cat)"
   ]
  },
  {
   "cell_type": "code",
   "execution_count": null,
   "id": "7b6324cf-cd2f-43ed-a4be-024897ddfd45",
   "metadata": {},
   "outputs": [],
   "source": [
    "dog = '''|\\\\_/|\n",
    "|q p|   /}\n",
    "( 0 )\"\"\"\\\\\n",
    "|\"^\"`    |\n",
    "||_/=\\\\\\\\__|'''\n",
    "print(dog)"
   ]
  },
  {
   "cell_type": "markdown",
   "id": "81a8a76b-5273-4f34-99f6-299ba071a9f2",
   "metadata": {},
   "source": [
    "### 2단계 조건문"
   ]
  },
  {
   "cell_type": "code",
   "execution_count": null,
   "id": "0951083a-f4a5-4d2e-9add-7eccbf9e471f",
   "metadata": {},
   "outputs": [],
   "source": [
    "#두 수 비교하기\n",
    "A, B = map(int, input().split())\n",
    "if A>B:\n",
    "    print('>')\n",
    "elif A<B:\n",
    "    print('<')\n",
    "else:\n",
    "    print('==')"
   ]
  },
  {
   "cell_type": "code",
   "execution_count": null,
   "id": "21094120-1c4f-4e20-b822-bb4e403308c4",
   "metadata": {},
   "outputs": [],
   "source": [
    "#시험 성적\n",
    "score = int(input())\n",
    "if 90 <= score <= 100: print(\"A\")\n",
    "elif 80 <= score < 90: print(\"B\")\n",
    "elif 70 <= score < 80: print(\"C\")\n",
    "elif 60 <= score < 70: print(\"D\")\n",
    "elif 0 <= score < 60: print(\"F\")"
   ]
  },
  {
   "cell_type": "code",
   "execution_count": null,
   "id": "4a2684e6-324d-4253-bca6-10bd7cc20686",
   "metadata": {},
   "outputs": [],
   "source": [
    "#윤년\n",
    "y_leap = int(input())\n",
    "if y_leap % 4 == 0 and y_leap % 100 != 0 or y_leap % 400 == 0: print(\"1\")\n",
    "else: print(\"0\")"
   ]
  },
  {
   "cell_type": "code",
   "execution_count": null,
   "id": "2d9018b2-943b-4673-913f-90a1e2c9e189",
   "metadata": {},
   "outputs": [],
   "source": [
    "#사분면 고르기\n",
    "x = int(input())\n",
    "y = int(input())\n",
    "\n",
    "if x > 0:\n",
    "    print('1') if y > 0 else print('4') # A(결과) if 조건 else B : 조건문에 ':' 안씀\n",
    "elif x < 0:\n",
    "    print('2') if y > 0 else print('3')"
   ]
  },
  {
   "cell_type": "code",
   "execution_count": null,
   "id": "5ae3d7ff-efd5-4554-a2a4-bafe7351dba7",
   "metadata": {},
   "outputs": [],
   "source": [
    "#알람 시계\n",
    "h, m = map(int, input().split())\n",
    "\n",
    "if h != 0 and 45 <= m: print(h, m-45)\n",
    "elif h != 0 and m < 45: print(h-1, m+15)\n",
    "elif h == 0 and 45 <= m: print(h, m-45)\n",
    "elif h == 0 and m < 45: print(h+23, m+15)"
   ]
  },
  {
   "cell_type": "code",
   "execution_count": null,
   "id": "8f2b8d72-b0bb-44bf-86ab-4591607da24b",
   "metadata": {},
   "outputs": [],
   "source": [
    "#오븐 시계\n",
    "a, b = map(int, input().split())\n",
    "c = int(input())\n",
    "\n",
    "if b+c >= 60:\n",
    "    a = a + (b+c)//60\n",
    "    b = (b+c)%60\n",
    "else:\n",
    "    b = b+c\n",
    "if 24<=a:\n",
    "    a = a-24\n",
    "print(a, b)"
   ]
  },
  {
   "cell_type": "code",
   "execution_count": null,
   "id": "10f92486-395a-4919-ba84-6a6b1acfc60d",
   "metadata": {},
   "outputs": [],
   "source": [
    "#주사위 세개\n",
    "a,b,c = map(int, input().split())\n",
    "m = 0\n",
    "if a == b == c:\n",
    "    m = 10000 + a*1000\n",
    "elif a == b or b == c:\n",
    "    m = 1000 + b*100\n",
    "elif a == c:\n",
    "    m = 1000 + c*100\n",
    "else:\n",
    "    if a>b and a>c: m = a*100\n",
    "    elif b>c and b>a: m = b*100\n",
    "    else: m = c*100\n",
    "print(m)"
   ]
  },
  {
   "cell_type": "markdown",
   "id": "f4e91578-e7f8-4d99-8629-f14f3a43c19c",
   "metadata": {},
   "source": [
    "## 3단계 반복문"
   ]
  },
  {
   "cell_type": "code",
   "execution_count": null,
   "id": "eeed3ce0-42b6-4208-9944-b19dffab67ea",
   "metadata": {},
   "outputs": [],
   "source": [
    "'''\n",
    "for 카운터변수 in range(반복횟수):\n",
    "    반복해서 실행할 명령\n",
    "\n",
    "현재 몇 번째 반복인지를 알려주는 변수를 카운터 변수(counter variable)이라고 한다.\n",
    "카운터 변수는 반복 실행될 때마다 현재의 실행 횟수에 해당하는 숫자가 들어가게 되는데,\n",
    "가장 처음 실행할 때는 아직 한 번도 실행한 적이 없기 때문에 0이 된다.\n",
    "'''\n",
    "for i in range(10):\n",
    "    print(i, end=\" \") # 0 1 2 3 4 5 6 7 8 9 <- i는 '횟수'이므로 자연수값"
   ]
  },
  {
   "cell_type": "code",
   "execution_count": 1,
   "id": "00759611-4da4-40cf-be86-f97750dcdf69",
   "metadata": {},
   "outputs": [
    {
     "name": "stdin",
     "output_type": "stream",
     "text": [
      " 9\n"
     ]
    },
    {
     "name": "stdout",
     "output_type": "stream",
     "text": [
      "9 * 1 = 9\n",
      "9 * 2 = 18\n",
      "9 * 3 = 27\n",
      "9 * 4 = 36\n",
      "9 * 5 = 45\n",
      "9 * 6 = 54\n",
      "9 * 7 = 63\n",
      "9 * 8 = 72\n",
      "9 * 9 = 81\n"
     ]
    }
   ],
   "source": [
    "#구구단 2739\n",
    "n = int(input())\n",
    "\n",
    "for i in range(1,10):\n",
    "    print(n, \"*\", i, \"=\", n*i)"
   ]
  },
  {
   "cell_type": "code",
   "execution_count": null,
   "id": "b6ae9b4d-f7a6-421a-89bb-87c1d0e54fa1",
   "metadata": {},
   "outputs": [],
   "source": [
    "#A+B-3 10950\n",
    "t = int(input())\n",
    "\n",
    "for x in range(t):\n",
    "    a,b = map(int, input().split())\n",
    "    print(a+b)"
   ]
  },
  {
   "cell_type": "code",
   "execution_count": null,
   "id": "8d91d145-b137-4573-ad04-eeeeaa939fe6",
   "metadata": {},
   "outputs": [],
   "source": [
    "#합 8393\n",
    "n = int(input())\n",
    "\n",
    "for i in range(1,n):\n",
    "    n += i\n",
    "print(n)\n",
    "\n",
    "''' 런타임에러\n",
    "for i in range(1,n+1):\n",
    "    sum = (1+n)*n // 2\n",
    "print(sum)'''"
   ]
  },
  {
   "cell_type": "code",
   "execution_count": null,
   "id": "e7a80668-94c2-4ac4-b571-11ef8ec4d090",
   "metadata": {},
   "outputs": [],
   "source": [
    "#영수증 25304\n",
    "x = int(input())\n",
    "n = int(input())\n",
    "\n",
    "sum = 0\n",
    "for i in range(n):\n",
    "    a,b = map(int, input().split())\n",
    "    sum += a*b\n",
    "\n",
    "if x == sum:\n",
    "    print(\"Yes\")\n",
    "else:\n",
    "    print(\"No\")"
   ]
  },
  {
   "cell_type": "code",
   "execution_count": null,
   "id": "5ec96392-99eb-49c7-9e36-e1ed1c90e5d8",
   "metadata": {},
   "outputs": [],
   "source": [
    "#코딩은 체육과목 입니다 25314\n",
    "n = int(input())\n",
    "\n",
    "for i in range(1,n):\n",
    "    i = (n//4)*\"long \"\n",
    " \n",
    "print(i, \"int\", sep = \"\") #sep(seperation)은 앞과 연결시켜 출력, end는 줄바꿈 '안'함"
   ]
  },
  {
   "cell_type": "code",
   "execution_count": null,
   "id": "f32b231d-948b-4df0-8d7e-939a4525bf0f",
   "metadata": {},
   "outputs": [],
   "source": [
    "#빠른 A+B 15552\n",
    "import sys\n",
    "t = int(input())\n",
    "\n",
    "for i in range(t):\n",
    "    a, b = map(int, sys.stdin.readline().split()) #ValueError: not enough values to unpack (expected 2, got 0)\n",
    "    print(a+b)"
   ]
  },
  {
   "cell_type": "code",
   "execution_count": null,
   "id": "0f537235-e989-4ca2-8c61-5b6341fb96ae",
   "metadata": {},
   "outputs": [],
   "source": [
    "#A+B-7 11021\n",
    "t = int(input())\n",
    "\n",
    "for i in range(0,t):\n",
    "    a, b = map(int, input().split())\n",
    "    print(f\"Case #{i+1}:\", a+b)"
   ]
  },
  {
   "cell_type": "code",
   "execution_count": null,
   "id": "f9a71e5d-90da-4da2-9a62-f1d6c89b3f96",
   "metadata": {},
   "outputs": [],
   "source": [
    "#A+B-8 11022\n",
    "t = int(input())\n",
    "\n",
    "for i in range(0,t):\n",
    "    a, b = map(int, input().split())\n",
    "    print(f\"Case #{i+1}: {a} + {b} =\", a+b)"
   ]
  },
  {
   "cell_type": "code",
   "execution_count": 35,
   "id": "409426db-3056-44b9-b19d-8e05bf1cb8ab",
   "metadata": {},
   "outputs": [
    {
     "name": "stdin",
     "output_type": "stream",
     "text": [
      " 5\n"
     ]
    },
    {
     "name": "stdout",
     "output_type": "stream",
     "text": [
      "*\n",
      "**\n",
      "***\n",
      "****\n",
      "*****\n"
     ]
    }
   ],
   "source": [
    "#별 찍기-1 2438\n",
    "t = int(input())\n",
    "\n",
    "for i in range(0,t):\n",
    "    print(\"*\"*(i+1)) # 1*, 2*, 3*가 아닌 *, **, ***로 계산된다. 숫자가 아니더라도 곱셈이 됨"
   ]
  },
  {
   "cell_type": "code",
   "execution_count": 34,
   "id": "828edb86-510a-4c3a-935a-6c7d80b75b89",
   "metadata": {},
   "outputs": [
    {
     "name": "stdin",
     "output_type": "stream",
     "text": [
      " 5\n"
     ]
    },
    {
     "name": "stdout",
     "output_type": "stream",
     "text": [
      "    *\n",
      "   **\n",
      "  ***\n",
      " ****\n",
      "*****\n"
     ]
    }
   ],
   "source": [
    "#별 찍기-2 2439\n",
    "'''다시풀어보기'''\n",
    "t = int(input())\n",
    "\n",
    "for i in range(1,t+1):\n",
    "    print(\" \"*(t-i) + \"*\"*i) #,는 왼쪽 공백이 추가되므로 +사용"
   ]
  },
  {
   "cell_type": "code",
   "execution_count": null,
   "id": "88cfdef2-f7d1-4213-9741-2e728b6335ed",
   "metadata": {},
   "outputs": [],
   "source": [
    "#A+B-5 10952\n",
    "while True: #for i in range(): ()안에 들어갈 반복 횟수가 없으므로 while문을 사용\n",
    "    a,b = map(int, input().split())\n",
    "    if a == 0 and b == 0:\n",
    "        break\n",
    "    else:\n",
    "        print(a+b)\n",
    "#while True:혹은 while 1: 은 '무한반복'을 의미"
   ]
  },
  {
   "cell_type": "code",
   "execution_count": 3,
   "id": "039d9b08-785d-41dc-98ee-1d802044bc36",
   "metadata": {},
   "outputs": [
    {
     "name": "stdin",
     "output_type": "stream",
     "text": [
      " 1 1\n"
     ]
    },
    {
     "name": "stdout",
     "output_type": "stream",
     "text": [
      "2\n"
     ]
    },
    {
     "name": "stdin",
     "output_type": "stream",
     "text": [
      " 2 3\n"
     ]
    },
    {
     "name": "stdout",
     "output_type": "stream",
     "text": [
      "5\n"
     ]
    },
    {
     "name": "stdin",
     "output_type": "stream",
     "text": [
      " 3 4\n"
     ]
    },
    {
     "name": "stdout",
     "output_type": "stream",
     "text": [
      "7\n"
     ]
    },
    {
     "name": "stdin",
     "output_type": "stream",
     "text": [
      " 9 8\n"
     ]
    },
    {
     "name": "stdout",
     "output_type": "stream",
     "text": [
      "17\n"
     ]
    },
    {
     "name": "stdin",
     "output_type": "stream",
     "text": [
      " 5 2\n"
     ]
    },
    {
     "name": "stdout",
     "output_type": "stream",
     "text": [
      "7\n"
     ]
    },
    {
     "name": "stdin",
     "output_type": "stream",
     "text": [
      " ㅌ\n"
     ]
    }
   ],
   "source": [
    "#A+B-4 10951\n",
    "while True:\n",
    "    try:\n",
    "        a,b = map(int, input().split())\n",
    "        print(a+b)\n",
    "    except:\n",
    "        break"
   ]
  },
  {
   "cell_type": "markdown",
   "id": "082dd2b8-aaf5-46ba-91b4-7e3bcb0748b2",
   "metadata": {},
   "source": [
    "## 4단계 1차원 배열"
   ]
  },
  {
   "cell_type": "code",
   "execution_count": null,
   "id": "0795276c-6b0e-4094-8e4e-9d8b46e1a01b",
   "metadata": {},
   "outputs": [],
   "source": [
    "#개수 세기 10807\n",
    "n = int(input())\n",
    "num = list(map(int, input().split()))\n",
    "v = int(input())\n",
    "\n",
    "counter = 0\n",
    "if len(num) == n:\n",
    "    for i in range(n):\n",
    "        if v == num[i]:\n",
    "            counter += 1\n",
    "        else:\n",
    "            pass\n",
    "print(counter)"
   ]
  },
  {
   "cell_type": "code",
   "execution_count": null,
   "id": "e8e5d240-e60f-4320-b32b-e31a2834a5e7",
   "metadata": {},
   "outputs": [],
   "source": [
    "#X보다 작은 수 10871\n",
    "n, x = map(int, input().split())\n",
    "a = list(map(int, input().split()))\n",
    "\n",
    "result = []\n",
    "if n == len(a):\n",
    "    for i in range(n):\n",
    "        if a[i] < x:\n",
    "            result.append(a[i])\n",
    "#print(result) #list[]형태\n",
    "\n",
    "'''list[]의 값을 빼낼 때, for문을 사용'''\n",
    "for i in result: #list[] to value\n",
    "    print(i, end=' ')"
   ]
  },
  {
   "cell_type": "code",
   "execution_count": null,
   "id": "74d53638-6e43-47c5-8e09-2d458799f776",
   "metadata": {},
   "outputs": [],
   "source": [
    "#최소, 최대 10818\n",
    "'''map()은 한 번 return 후 빈객체가 되므로, max(), min() 연달아 사용 불가\n",
    "n = int(input())\n",
    "num = map(int, input().split())\n",
    "min(num)\n",
    "max(num) #max() iterable argument is empty\n",
    "'''\n",
    "#내장함수 max(), min()\n",
    "n = int(input())\n",
    "num = list(map(int, input().split())) #항상 list(map())꼴로 사용\n",
    "print(min(num), max(num), end=' ')\n",
    "\n",
    "n = int(input())\n",
    "num = list(map(int, input().split()))\n",
    "\n",
    "#반복&조건문\n",
    "n = int(input())\n",
    "num = list(map(int, input().split()))\n",
    "max = num[0]\n",
    "min = num[0]\n",
    "for i in range(n):\n",
    "    if max < num[i]:\n",
    "        max = num[i]\n",
    "    if min > num[i]:\n",
    "        min = num[i]\n",
    "print(min, max)\n",
    "\n",
    "#sort()정렬 후 처음,마지막 값 출력\n",
    "n = int(input())\n",
    "num = list(map(int, input().split()))\n",
    "num.sort()\n",
    "print(num[0], num[-1])"
   ]
  },
  {
   "cell_type": "code",
   "execution_count": 58,
   "id": "f3d3b81a-be8d-4b06-8849-010ea9113403",
   "metadata": {},
   "outputs": [
    {
     "name": "stdin",
     "output_type": "stream",
     "text": [
      " 3\n",
      " 29\n",
      " 38\n",
      " 12\n",
      " 57\n",
      " 74\n",
      " 40\n",
      " 85\n",
      " 61\n"
     ]
    },
    {
     "name": "stdout",
     "output_type": "stream",
     "text": [
      "85\n",
      "8\n"
     ]
    }
   ],
   "source": [
    "#최댓값 2562\n",
    "'''TypeError: 'int' object is not callable\n",
    "예약어(min, max, print 같은거)를 변수명으로 사용하였기 때문\n",
    "예를 들어 min = min(A)라고 해주는 경우 오류 발생 : del min 해주기\n",
    "'''\n",
    "#내풀이\n",
    "array = []\n",
    "for i in range(9):\n",
    "    n = int(input())\n",
    "    array.append(n)\n",
    "print(max(array), array.index(max(array))+1) #list.index() : 특정원소의 인덱스값\n",
    "\n",
    "#선형탐색 세 번((max(a) 2번, a.index() 1번)하는 비효율적 코드\n",
    "a = [int(input()) for _ in range(9)]\n",
    "print(max(a), a.index(max(a)) + 1)\n",
    "\n",
    "#선형탐색 한 번 실시하는 미친코드\n",
    "v_i = [(int(input()), i + 1) for i in range(9)] #[(input,1),(input,2),(input,3), ... ,(input,9)]\n",
    "print(*max(v_i), sep=\"\\n\") #함수를 호출할 때 *가 사용되면' 이는 튜플 언패킹"
   ]
  },
  {
   "cell_type": "code",
   "execution_count": 16,
   "id": "08335107-56e6-441e-a4d3-6bf62fd8227e",
   "metadata": {},
   "outputs": [
    {
     "name": "stdin",
     "output_type": "stream",
     "text": [
      " 34\n",
      " 5\n",
      " 6\n",
      " 26\n",
      " 7\n",
      " 3\n",
      " 63\n",
      " 6\n",
      " 3\n"
     ]
    },
    {
     "name": "stdout",
     "output_type": "stream",
     "text": [
      "(63, 7)\n"
     ]
    }
   ],
   "source": [
    "'''튜플기초: 패킹/언패킹\n",
    "v_i = [(int(input()), i + 1) for i in range(9)]\n",
    "print(v_i) #[(input,1),(input,2),(input,3), ... ,(input,9)]\n",
    "print(*max(v_i), sep=\"\\n\") #함수를 호출할 때 *가 사용되면, 튜플 언패킹을 의미\n",
    "\n",
    "#이와 같이 매개변수 앞에 *가 오면 이는 다음을 의미한다.\n",
    "#\"나머지 값들은 튜플로 묶어서 이 변수에 저장하겠다.\" \n",
    "def show_nums(n1,n2,*other): # 세 번째 이후 값들은 튜플로 묶여 other에 전달\n",
    "\tprint(n1,n2,other,sep=', ')\n",
    "    \n",
    "show_nums(1,2,3,4) # 3,4는 리스트로 묶일 줄 알았는데 튜플로 묶인다. #1,2,(3,4)'''"
   ]
  },
  {
   "cell_type": "code",
   "execution_count": 7,
   "id": "b8126157-a69d-4f21-b304-0141098d7106",
   "metadata": {},
   "outputs": [
    {
     "name": "stdin",
     "output_type": "stream",
     "text": [
      " 5 4\n",
      " 1 2 3\n",
      " 3 4 4\n",
      " 1 4 1\n",
      " 2 2 2\n"
     ]
    },
    {
     "name": "stdout",
     "output_type": "stream",
     "text": [
      "1 2 1 1 0 "
     ]
    }
   ],
   "source": [
    "#공 넣기 10810\n",
    "n, m = map(int, input().split())\n",
    "\n",
    "basket = [0]*(n) #바구니 공 비우기\n",
    "\n",
    "for _ in range(m):\n",
    "    i,j,k = map(int, input().split())\n",
    "    for x in range(i, j+1):\n",
    "        basket[x-1] = k #basket[x] = k일때, 0 1 2 1 1로 출력되므로 런타임에러\n",
    "        #print(basket)\n",
    "\n",
    "for k in basket:\n",
    "    print(k, end=' ')\n",
    "\n",
    "#a = list(map(int, input().split()))\n",
    "#for x in range(a[0], a[1]+1): basket[x-1] = a[2]로도 가능"
   ]
  },
  {
   "cell_type": "code",
   "execution_count": 21,
   "id": "32d0bbe2-6a4c-4511-b278-db024b978188",
   "metadata": {},
   "outputs": [
    {
     "name": "stdin",
     "output_type": "stream",
     "text": [
      " 5 4\n",
      " 1 2\n"
     ]
    },
    {
     "name": "stdout",
     "output_type": "stream",
     "text": [
      "[2, 1, 3, 4, 5]\n"
     ]
    },
    {
     "name": "stdin",
     "output_type": "stream",
     "text": [
      " 3 4\n"
     ]
    },
    {
     "name": "stdout",
     "output_type": "stream",
     "text": [
      "[2, 1, 4, 3, 5]\n"
     ]
    },
    {
     "name": "stdin",
     "output_type": "stream",
     "text": [
      " 1 4\n"
     ]
    },
    {
     "name": "stdout",
     "output_type": "stream",
     "text": [
      "[3, 1, 4, 2, 5]\n"
     ]
    },
    {
     "name": "stdin",
     "output_type": "stream",
     "text": [
      " 2 2\n"
     ]
    },
    {
     "name": "stdout",
     "output_type": "stream",
     "text": [
      "[3, 1, 4, 2, 5]\n",
      "3 1 4 2 5 "
     ]
    }
   ],
   "source": [
    "#공 바꾸기 10813\n",
    "n, m = map(int, input().split())\n",
    "basket = []\n",
    "for i in range(1,n+1):\n",
    "    basket.append(i)\n",
    "#print(basket) : [1,2,3,4,5]\n",
    "\n",
    "for _ in range(m):\n",
    "    i, j = map(int, input().split())\n",
    "    basket[i-1], basket[j-1] = basket[j-1], basket[i-1]\n",
    "    # basket[i], baeket[j] 시, 2번째 3번째가 교환됨\n",
    "\n",
    "for i in basket:\n",
    "    print(i, end=' ')"
   ]
  },
  {
   "cell_type": "code",
   "execution_count": 66,
   "id": "440d534a-862d-45f3-bd33-342c04312697",
   "metadata": {},
   "outputs": [
    {
     "name": "stdin",
     "output_type": "stream",
     "text": [
      " df\n"
     ]
    },
    {
     "ename": "ValueError",
     "evalue": "invalid literal for int() with base 10: 'df'",
     "output_type": "error",
     "traceback": [
      "\u001b[1;31m---------------------------------------------------------------------------\u001b[0m",
      "\u001b[1;31mValueError\u001b[0m                                Traceback (most recent call last)",
      "Cell \u001b[1;32mIn[66], line 21\u001b[0m\n\u001b[0;32m     18\u001b[0m     student\u001b[38;5;241m.\u001b[39mappend(i)\n\u001b[0;32m     20\u001b[0m \u001b[38;5;28;01mfor\u001b[39;00m i \u001b[38;5;129;01min\u001b[39;00m \u001b[38;5;28mrange\u001b[39m(\u001b[38;5;241m28\u001b[39m):\n\u001b[1;32m---> 21\u001b[0m     submit \u001b[38;5;241m=\u001b[39m \u001b[38;5;28mint\u001b[39m(\u001b[38;5;28minput\u001b[39m())\n\u001b[0;32m     22\u001b[0m     student\u001b[38;5;241m.\u001b[39mremove(submit)\n\u001b[0;32m     24\u001b[0m \u001b[38;5;28;01mfor\u001b[39;00m i \u001b[38;5;129;01min\u001b[39;00m student:\n",
      "\u001b[1;31mValueError\u001b[0m: invalid literal for int() with base 10: 'df'"
     ]
    }
   ],
   "source": [
    "#과제 안 내신 분..? 5597\n",
    "'''all_student = []\n",
    "for i in range(1,31):\n",
    "    all_student.append(i)\n",
    "\n",
    "student = []\n",
    "for i in range(28):\n",
    "    submit = int(input())\n",
    "    student.append(submit)\n",
    "    if all_student[i] == student[i]:\n",
    "        all_student.remove(all_student[i])\n",
    "        \n",
    "for i in all_student:\n",
    "    print(i)'''\n",
    "\n",
    "student = []\n",
    "for i in range(1,31):\n",
    "    student.append(i)\n",
    "\n",
    "for i in range(28):\n",
    "    submit = int(input())\n",
    "    student.remove(submit)\n",
    "\n",
    "for i in student:\n",
    "    print(i)"
   ]
  },
  {
   "cell_type": "code",
   "execution_count": 65,
   "id": "0821b163-9cbc-4f3d-b28b-84aa4cefd306",
   "metadata": {},
   "outputs": [
    {
     "name": "stdin",
     "output_type": "stream",
     "text": [
      " 1\n",
      " 2\n",
      " 3\n",
      " 4\n",
      " 5\n",
      " 6\n",
      " 7\n",
      " 8\n",
      " 9\n",
      " 10\n"
     ]
    },
    {
     "name": "stdout",
     "output_type": "stream",
     "text": [
      "9\n"
     ]
    }
   ],
   "source": [
    "#나머지 3052\n",
    "nums = []\n",
    "for i in range(10):\n",
    "    num = int(input())\n",
    "    nums.append(num%42)\n",
    "\n",
    "nums.sort()\n",
    "count = 1\n",
    "for i in range(9):\n",
    "    if nums[i] < nums[i+1]:\n",
    "        count += 1\n",
    "\n",
    "print(count)"
   ]
  },
  {
   "cell_type": "code",
   "execution_count": 95,
   "id": "148f7c60-ddb5-4d20-92ed-ce86ac3bfdde",
   "metadata": {},
   "outputs": [
    {
     "name": "stdin",
     "output_type": "stream",
     "text": [
      " 5 4\n",
      " 1 2\n"
     ]
    },
    {
     "name": "stdout",
     "output_type": "stream",
     "text": [
      "[2, 1, 3, 4, 5]\n"
     ]
    },
    {
     "name": "stdin",
     "output_type": "stream",
     "text": [
      " 3 4\n"
     ]
    },
    {
     "name": "stdout",
     "output_type": "stream",
     "text": [
      "[2, 1, 4, 3, 5]\n"
     ]
    },
    {
     "name": "stdin",
     "output_type": "stream",
     "text": [
      " 1 4\n"
     ]
    },
    {
     "name": "stdout",
     "output_type": "stream",
     "text": [
      "[3, 4, 1, 2, 5]\n"
     ]
    },
    {
     "name": "stdin",
     "output_type": "stream",
     "text": [
      " 2 2\n"
     ]
    },
    {
     "name": "stdout",
     "output_type": "stream",
     "text": [
      "[3, 4, 1, 2, 5]\n"
     ]
    }
   ],
   "source": [
    "#바구니 뒤집기 10811\n",
    "'''다시풀어보기: 리스트슬라이싱'''\n",
    "n, m = map(int, input().split())\n",
    "basket = [] # [1,2,3,4,5]\n",
    "for i in range(1,n+1):\n",
    "    basket.append(i)\n",
    "\n",
    "for _ in range(m):\n",
    "    i, j = map(int, input().split())\n",
    "    rev = basket[i-1:j] #basket[i:j]면 i번째 i+1번째 값부터 적용되므로 주의할 것\n",
    "    rev.reverse() #rev.sort(reverse=True)쓰면, 1 4입력에서 4 3 2 1 5로 뜸\n",
    "    basket[i-1:j] = rev\n",
    "    #print(basket)\n",
    "\n",
    "for i in basket:\n",
    "    print(i, end=' ')"
   ]
  },
  {
   "cell_type": "code",
   "execution_count": 109,
   "id": "cb95af0a-b3e4-450b-922c-de2e22960bf9",
   "metadata": {},
   "outputs": [
    {
     "name": "stdin",
     "output_type": "stream",
     "text": [
      " 3\n",
      " 40 60 80\n"
     ]
    },
    {
     "name": "stdout",
     "output_type": "stream",
     "text": [
      "75.0\n"
     ]
    }
   ],
   "source": [
    "#평균 1546\n",
    "n = int(input())\n",
    "score = list(map(int, input().split()))\n",
    "\n",
    "m = max(score)\n",
    "total = [(i/m)*100 for i in score]\n",
    "\n",
    "print(sum(total)/n)"
   ]
  },
  {
   "cell_type": "markdown",
   "id": "5832566b-0afb-4e4a-a763-688f807334b5",
   "metadata": {},
   "source": [
    "### 5단계 문자열"
   ]
  },
  {
   "cell_type": "code",
   "execution_count": 3,
   "id": "b31ad568-dde8-48cf-ab83-68d6db942572",
   "metadata": {},
   "outputs": [
    {
     "name": "stdin",
     "output_type": "stream",
     "text": [
      " sprout\n",
      " 3\n"
     ]
    },
    {
     "name": "stdout",
     "output_type": "stream",
     "text": [
      "r\n"
     ]
    }
   ],
   "source": [
    "#문자와 문자열 27866\n",
    "'''s = input()\n",
    "n = int(input())\n",
    "print(s[n-1])'''\n",
    "print(input()[int(input())-1]) #숏코딩"
   ]
  },
  {
   "cell_type": "code",
   "execution_count": 4,
   "id": "fad9dc2b-5919-4ab5-8f56-0f803c863228",
   "metadata": {},
   "outputs": [
    {
     "name": "stdin",
     "output_type": "stream",
     "text": [
      " pulljima\n"
     ]
    },
    {
     "name": "stdout",
     "output_type": "stream",
     "text": [
      "8\n"
     ]
    }
   ],
   "source": [
    "#단어 길이 재기 2743\n",
    "print(len(input()))"
   ]
  },
  {
   "cell_type": "code",
   "execution_count": 12,
   "id": "97c30d36-b09c-46b0-8d2c-6a14659cf434",
   "metadata": {},
   "outputs": [
    {
     "name": "stdin",
     "output_type": "stream",
     "text": [
      " 3\n",
      " ache\n"
     ]
    },
    {
     "name": "stdout",
     "output_type": "stream",
     "text": [
      "ae\n"
     ]
    },
    {
     "name": "stdin",
     "output_type": "stream",
     "text": [
      " o\n"
     ]
    },
    {
     "name": "stdout",
     "output_type": "stream",
     "text": [
      "oo\n"
     ]
    },
    {
     "name": "stdin",
     "output_type": "stream",
     "text": [
      " ab\n"
     ]
    },
    {
     "name": "stdout",
     "output_type": "stream",
     "text": [
      "ab\n"
     ]
    }
   ],
   "source": [
    "#문자열 9086\n",
    "for i in range(int(input())):\n",
    "    w = input()\n",
    "    print(w[0]+w[-1])"
   ]
  },
  {
   "cell_type": "code",
   "execution_count": 17,
   "id": "bb3e52a3-8b39-434b-bea1-72e458e2bcc4",
   "metadata": {},
   "outputs": [
    {
     "name": "stdin",
     "output_type": "stream",
     "text": [
      " A\n"
     ]
    },
    {
     "name": "stdout",
     "output_type": "stream",
     "text": [
      "65\n"
     ]
    }
   ],
   "source": [
    "#아스키 코드 11654\n",
    "#ord() : ascii값 리턴\n",
    "#chr() : ascii에 해당하는 문자 리턴\n",
    "print(ord(input()))"
   ]
  },
  {
   "cell_type": "code",
   "execution_count": 1,
   "id": "e5dd5fde-f40b-453f-9053-3824c4ccf150",
   "metadata": {},
   "outputs": [
    {
     "name": "stdin",
     "output_type": "stream",
     "text": [
      " 5\n",
      " 54321\n"
     ]
    },
    {
     "name": "stdout",
     "output_type": "stream",
     "text": [
      "15\n"
     ]
    }
   ],
   "source": [
    "#숫자의 합 11720\n",
    "n = int(input())\n",
    "s = list(map(int, input()))\n",
    "print(sum(s))"
   ]
  },
  {
   "cell_type": "code",
   "execution_count": null,
   "id": "37cd6638-c76c-4c41-9f0f-951dd9b9b45d",
   "metadata": {},
   "outputs": [],
   "source": [
    "# 알파벳 찾기 10809\n",
    "'''다시풀기'''\n",
    "'''instance.index(i)는 특정 원소i의 인덱스를 반환해주는 함수'''\n",
    "s = input()\n",
    "sen = \"abcdefghijklmnopqrstuvwxyz\"\n",
    "for i in sen: #sen의 원소i가\n",
    "    if i in s: #s에도 있으면,\n",
    "        print(s.index(i), end=' ') #s의i의 index를 호출\n",
    "    else:\n",
    "        print(-1, end=' ')"
   ]
  },
  {
   "cell_type": "code",
   "execution_count": 14,
   "id": "976910a3-9cdc-4eed-9a7d-48dc76809156",
   "metadata": {},
   "outputs": [
    {
     "name": "stdin",
     "output_type": "stream",
     "text": [
      " 2\n",
      " 3 abc\n"
     ]
    },
    {
     "name": "stdout",
     "output_type": "stream",
     "text": [
      "aaabbbccc\n"
     ]
    },
    {
     "name": "stdin",
     "output_type": "stream",
     "text": [
      " 5 /htp\n"
     ]
    },
    {
     "name": "stdout",
     "output_type": "stream",
     "text": [
      "/////hhhhhtttttppppp\n"
     ]
    }
   ],
   "source": [
    "#문자열 반복 2675\n",
    "'''다시풀기'''\n",
    "#s = \"0123456789ABCDEFGHIJKLMNOPQRSTUVWXYZ\\$%*+-./:\"\n",
    "for _ in range(int(input())):\n",
    "    n, s = input().split()\n",
    "    for i in range(len(s)): #문자s길이만큼 원소s[i]를 곱해준다.\n",
    "        print(int(n)*s[i], end='')\n",
    "    print()"
   ]
  },
  {
   "cell_type": "code",
   "execution_count": 21,
   "id": "e9a6a4a2-3a3c-43b7-89c8-55150b4bb134",
   "metadata": {},
   "outputs": [
    {
     "name": "stdin",
     "output_type": "stream",
     "text": [
      " sdf bcb dsf  werwe sdf\n"
     ]
    },
    {
     "name": "stdout",
     "output_type": "stream",
     "text": [
      "5\n"
     ]
    }
   ],
   "source": [
    "#단어의 개수 1152\n",
    "s = input().split()\n",
    "print(len(s))"
   ]
  },
  {
   "cell_type": "code",
   "execution_count": 36,
   "id": "b763428f-8db5-4110-8e8d-f49f6a0fa008",
   "metadata": {},
   "outputs": [
    {
     "name": "stdin",
     "output_type": "stream",
     "text": [
      " 734 893\n"
     ]
    },
    {
     "name": "stdout",
     "output_type": "stream",
     "text": [
      "437\n",
      "437\n"
     ]
    },
    {
     "data": {
      "text/plain": [
       "'n = int(n[::-1])\\nm = int(m[::-1])\\nif n>m:\\n    print(n)\\nelse:\\n    print(b)'"
      ]
     },
     "execution_count": 36,
     "metadata": {},
     "output_type": "execute_result"
    }
   ],
   "source": [
    "#상수 2908\n",
    "'''max(), reversed() 이용'''\n",
    "''' ''.join(sequence) : sequence를 'sequence'문자열로 반환 '''\n",
    "n,m = input().split() #734 893을\n",
    "print(max(''.join(reversed(n)), ''.join(reversed(m)))) #437 398로 뒤집어 문자열로 반환\n",
    "\n",
    "'''n,m = input().split()\n",
    "n = int(n[::-1]) #뒤집기\n",
    "m = int(m[::-1])\n",
    "if n>m:\n",
    "    print(n)\n",
    "else:\n",
    "    print(b)'''"
   ]
  },
  {
   "cell_type": "code",
   "execution_count": null,
   "id": "f408263a-b20c-4eac-9b68-0dd9b54721f3",
   "metadata": {},
   "outputs": [],
   "source": [
    "#다이얼 5622\n"
   ]
  },
  {
   "cell_type": "code",
   "execution_count": 2,
   "id": "71705fd8-d8c9-4979-ad85-31aa3d404c60",
   "metadata": {},
   "outputs": [
    {
     "data": {
      "text/plain": [
       "'while True:\\n    try:\\n        print(input())\\n    except EOFError:\\n        break'"
      ]
     },
     "execution_count": 2,
     "metadata": {},
     "output_type": "execute_result"
    }
   ],
   "source": [
    "#그대로 출력하기 11718\n",
    "'''EOF(파일의끝, =입력값이 없어지는 상황)에 대해 알기'''\n",
    "'''참고) https://www.acmicpc.net/board/view/28332'''\n",
    "'''while True:\n",
    "    try:\n",
    "        print(input())\n",
    "    except EOFError:\n",
    "        break'''"
   ]
  },
  {
   "cell_type": "markdown",
   "id": "6fe61517-5d05-4b62-9575-4f2308817406",
   "metadata": {},
   "source": [
    "### 6단계 심화1"
   ]
  },
  {
   "cell_type": "code",
   "execution_count": 21,
   "id": "c96ef601-7346-4789-85d1-c621524e9792",
   "metadata": {},
   "outputs": [
    {
     "name": "stdout",
     "output_type": "stream",
     "text": [
      "         ,r'\"7\n",
      "r`-_   ,'  ,/\n",
      " \\. \". L_r'\n",
      "   `~\\/\n",
      "      |\n",
      "      |\n"
     ]
    },
    {
     "name": "stderr",
     "output_type": "stream",
     "text": [
      "<>:4: SyntaxWarning: invalid escape sequence '\\.'\n",
      "<>:5: SyntaxWarning: invalid escape sequence '\\/'\n",
      "<>:4: SyntaxWarning: invalid escape sequence '\\.'\n",
      "<>:5: SyntaxWarning: invalid escape sequence '\\/'\n",
      "C:\\Users\\찬호의 Notebook\\AppData\\Local\\Temp\\ipykernel_13620\\3907705446.py:4: SyntaxWarning: invalid escape sequence '\\.'\n",
      "  print(\" \\. \\\". L_r\\'\")\n",
      "C:\\Users\\찬호의 Notebook\\AppData\\Local\\Temp\\ipykernel_13620\\3907705446.py:5: SyntaxWarning: invalid escape sequence '\\/'\n",
      "  print(\"   `~\\/\")\n"
     ]
    }
   ],
   "source": [
    "#새싹 25083\n",
    "#' 또는 \"를 출력하기 위해서는, 기호들 '앞'에 ＼를 넣어줘야\n",
    "#파이썬에서 삼중따옴표의 특징: https://www.geeksforgeeks.org/triple-quotes-in-python/\n",
    "print(\"         ,r\\'\\\"7\")\n",
    "print(\"r`-_   ,\\'  ,/\")\n",
    "print(\" \\. \\\". L_r\\'\")\n",
    "print(\"   `~\\/\")\n",
    "print(\"      |\")\n",
    "print(\"      |\")"
   ]
  },
  {
   "cell_type": "code",
   "execution_count": 33,
   "id": "b5bf6f30-03d4-4333-aa81-7f001e230f85",
   "metadata": {},
   "outputs": [
    {
     "name": "stdin",
     "output_type": "stream",
     "text": [
      " 0 1 2 2 2 6\n"
     ]
    },
    {
     "name": "stdout",
     "output_type": "stream",
     "text": [
      "1 0 0 0 0 2\n"
     ]
    }
   ],
   "source": [
    "#킹,퀸,룩,비숍,나이트,폰 3003\n",
    "#n = list(map(int, input().split())) #1 1 2 2 2 8\n",
    "#print(1-n[0], 1-n[1], 2-n[2], 2-n[3], 2-n[4], 8-n[5])\n",
    "\n",
    "c = [1,1,2,2,2,8]\n",
    "n = list(map(int, input().split()))\n",
    "for i in range(len(n)):\n",
    "    c[i] -= n[i]\n",
    "print(*c) #언패킹"
   ]
  },
  {
   "cell_type": "code",
   "execution_count": 61,
   "id": "620a0f69-a692-4ba1-94ac-b03849ab45da",
   "metadata": {},
   "outputs": [
    {
     "name": "stdin",
     "output_type": "stream",
     "text": [
      " 5\n"
     ]
    },
    {
     "name": "stdout",
     "output_type": "stream",
     "text": [
      "    *\n",
      "   ***\n",
      "  *****\n",
      " *******\n",
      "*********\n",
      " *******\n",
      "  *****\n",
      "   ***\n",
      "    *\n"
     ]
    }
   ],
   "source": [
    "#별 찍기-7 2444\n",
    "'''역순출력: range(start,end,-1)\n",
    "공백 별개수(2n-1)\n",
    "4=5-1    1\n",
    "3=5-2    3\n",
    "2=5-3    5\n",
    "1=5-4    7\n",
    "0=5-5    9\n",
    "'''\n",
    "n = int(input())\n",
    "for i in range(1,n):\n",
    "    print(\" \"*(n-i)+\"*\"*(2*i-1))\n",
    "for i in range(n,0,-1): #역순출력: range(start,end,-1)\n",
    "    print(\" \"*(n-i)+\"*\"*(2*i-1))\n",
    "\n",
    "'''숏코딩을 보면 현타가 온다\n",
    "n=m=int(input())\n",
    "while l:=n-abs(m:m-1):print(' '*(n-l)+'*'*(l*2-1))\n",
    "'''"
   ]
  },
  {
   "cell_type": "code",
   "execution_count": 16,
   "id": "245ab7e3-e6cb-47e3-bed9-f91162dcface",
   "metadata": {},
   "outputs": [
    {
     "name": "stdin",
     "output_type": "stream",
     "text": [
      " noon\n"
     ]
    },
    {
     "name": "stdout",
     "output_type": "stream",
     "text": [
      "1\n"
     ]
    }
   ],
   "source": [
    "#팰린드롬인지 확인하기 10988\n",
    "w = input()\n",
    "t_boolean = 1\n",
    "for i in range(len(w)//2):\n",
    "    if w[i] != w[len(w)-i-1]: #w[i] == w[len(w)-i-1] 같다고 풀면 안 되네 흠\n",
    "        t_boolean = 0\n",
    "        break\n",
    "print(t_boolean)\n",
    "\n",
    "'''다른풀이\n",
    "w = input()\n",
    "if w == w[::-1]:\n",
    "    print(1)\n",
    "else:\n",
    "    print(0)'''\n",
    "    \n",
    "'''또다른풀이\n",
    "참고1: https://codingsmu.tistory.com/169\n",
    "    strs = strs.lower()\n",
    "    strs = re.sub('[^a-z0-9]','',strs)\n",
    "    #참고1-1: https://regexr.com/ \n",
    "        정규표현식[^a-z0-9] : 모든소문자와 숫자를 제외한(캐럿(^)) 문자 \n",
    "    #참고1-2: https://velog.io/@yoopark/r-prefix-in-regexp (정규식의 r prefix 의미)\n",
    "        def function(self, paragraph: str, banned: List[str]) -> str:\n",
    "            words = re.sub(r'[^\\w]','',paragraph)\n",
    "        #의 의미: paragraph 각 문자를 돌면서 [0-9a-zA-Z]에 해당 않는 문자는 Spacebar로 변환한다는 뜻\n",
    "        #아마 단어별로 split하기 편하게 전처리하는 작업 아닐까\n",
    "참고2: https://baechu-story.tistory.com/17\n",
    "    파이썬에서 함수 정의 시 def function() -> str\n",
    "    #return값의 자료형을 명시하는 용도로 코드 작동에 영향을 주지 않음\n",
    "'''"
   ]
  },
  {
   "cell_type": "code",
   "execution_count": 40,
   "id": "03171f80-b307-4fdb-b422-9e0e636a22e5",
   "metadata": {},
   "outputs": [
    {
     "name": "stdin",
     "output_type": "stream",
     "text": [
      " sisisisssll\n"
     ]
    },
    {
     "name": "stdout",
     "output_type": "stream",
     "text": [
      "S\n"
     ]
    }
   ],
   "source": [
    "#단어 공부 1157\n",
    "w = input().upper()  #mississipi\n",
    "s = list(set(w)) #['m','i','s','p']\n",
    "cnt = []\n",
    "for i in s:\n",
    "    cnt.append(w.count(i)) #[4,4,1,1]\n",
    "if cnt.count(max(cnt)) > 1: #cnt의 최대값(횟수) 1보다 크면 (=최대 횟수가 같은게 있으면)\n",
    "    print(\"?\")\n",
    "else:\n",
    "    print(s[cnt.index(max(cnt))])"
   ]
  },
  {
   "cell_type": "code",
   "execution_count": 52,
   "id": "3c5a6912-b7d2-4e62-9ed1-845605758340",
   "metadata": {},
   "outputs": [
    {
     "name": "stdin",
     "output_type": "stream",
     "text": [
      " ljes=njak\n"
     ]
    },
    {
     "name": "stdout",
     "output_type": "stream",
     "text": [
      "6\n"
     ]
    }
   ],
   "source": [
    "#크로아티아 알파벳 2941\n",
    "croa = ['c=','c-','dz=','d-','lj','nj','s=','z=']\n",
    "w = input()\n",
    "for i in croa: #if i in w:는 불필요한 코드\n",
    "        w = w.replace(i,'/') #croa단어를 1가지 임의 단어로 대체하여 문자열 길이 측정\n",
    "print(len(w))"
   ]
  },
  {
   "cell_type": "code",
   "execution_count": 54,
   "id": "b0af3ad4-f2e0-4bb9-bdb6-b65a1628b1ec",
   "metadata": {},
   "outputs": [
    {
     "name": "stdin",
     "output_type": "stream",
     "text": [
      " 3\n",
      " happy\n",
      " nen\n",
      " year\n"
     ]
    },
    {
     "name": "stdout",
     "output_type": "stream",
     "text": [
      "2\n"
     ]
    }
   ],
   "source": [
    "#그룹 단어 체커 1316\n",
    "n = int(input())\n",
    "cnt = n #그룹단어개수가 입력수만큼이라고 설정하고, 아니라면 빼준다.\n",
    "\n",
    "for i in range(n):\n",
    "    w = input()\n",
    "    for j in range(len(w)-1):\n",
    "        if w[j] == w[j+1]:\n",
    "            pass\n",
    "        elif w[j] in w[j+1:]: #w[j+1:] : j+1부터 마지막까지\n",
    "            cnt -= 1\n",
    "            break\n",
    "print(cnt)"
   ]
  },
  {
   "cell_type": "code",
   "execution_count": 60,
   "id": "ef38e729-fc63-4f17-98fd-6c31b3e8b759",
   "metadata": {},
   "outputs": [
    {
     "name": "stdin",
     "output_type": "stream",
     "text": [
      " 3.0\n",
      " 4.0\n",
      " 5.5\n"
     ]
    },
    {
     "name": "stdout",
     "output_type": "stream",
     "text": [
      "12.5\n"
     ]
    }
   ],
   "source": [
    "total = 0\n",
    "for i in range(3):\n",
    "    p = float(input())\n",
    "    total += p\n",
    "print(total)"
   ]
  },
  {
   "cell_type": "code",
   "execution_count": 66,
   "id": "47875323-cfa4-4034-af92-dd2a2060cd35",
   "metadata": {},
   "outputs": [
    {
     "name": "stdin",
     "output_type": "stream",
     "text": [
      " chem 3.0 A0\n",
      " bio 2.5 A+\n",
      " phys 2.5 B+\n"
     ]
    },
    {
     "name": "stdout",
     "output_type": "stream",
     "text": [
      "4.000000\n"
     ]
    },
    {
     "data": {
      "text/plain": [
       "\"평점을 list로 두개로 나눠 표현했을 때\\nr = ['A+', 'A0', 'B+', 'B0', 'C+', 'C0', 'D+', 'D0', 'F']\\ng = [4.5, 4.0, 3.5, 3.0, 2.5, 2.0, 1.5, 1.0, 0]\\nscoreXgrade = score * g[r.index(grade)] #grade에 해당하는 r의 index값에서부터 가져온 g값과 score를 곱한다.\\n\""
      ]
     },
     "execution_count": 66,
     "metadata": {},
     "output_type": "execute_result"
    }
   ],
   "source": [
    "#너의 평점은 25206\n",
    "rating = {\"A+\": 4.5, \"A0\": 4.0, \"B+\": 3.5, \"B0\": 3.0,\n",
    "          \"C+\": 2.5, \"C0\": 2.0, \"D+\": 1.5, \"D0\": 1.0, \"F\": 0.0}\n",
    "\n",
    "scoreXgrade = 0 #학점x등급별평점\n",
    "total = 0 #총학점\n",
    "\n",
    "for i in range(20): #20과목\n",
    "    subjet, score, grade = input().split()\n",
    "    score = float(score)\n",
    "    if grade != 'P': #P/F는 평점계산에서 제외(=Pass가 아닌것들만 계산)\n",
    "        scoreXgrade += score * rating[grade] #등급grade를 곱할 순 없으니, 등급별평점rating[grade]을 곱한다.\n",
    "        total += score\n",
    "        \n",
    "print('%.6f' % (scoreXgrade/total)) #'.6f': 소숫점아래 여섯자리까지 표현, print(format(),'.6f')도 가능\n",
    "\n",
    "'''평점을 list로 두개로 나눠 표현했을 때\n",
    "r = ['A+', 'A0', 'B+', 'B0', 'C+', 'C0', 'D+', 'D0', 'F']\n",
    "g = [4.5, 4.0, 3.5, 3.0, 2.5, 2.0, 1.5, 1.0, 0]\n",
    "scoreXgrade = score * g[r.index(grade)] #grade에 해당하는 r의 index값에서부터 가져온 g값과 score를 곱한다.\n",
    "\n",
    "포맷팅 1)문자열: '%s' %(str값) 2)정수: '%d' %(int값) 3)실수: '%f' %(숫자)\n",
    "참고: https://modulabs.co.kr/blog/python-strangethings/\n",
    "'''"
   ]
  },
  {
   "cell_type": "markdown",
   "id": "5de3eb53-b777-4d92-be1b-d36b89b4773e",
   "metadata": {},
   "source": [
    "### 7단계 2차원 배열"
   ]
  },
  {
   "cell_type": "code",
   "execution_count": 157,
   "id": "e53d40f6-7284-468d-bc5e-268a9afbc20f",
   "metadata": {},
   "outputs": [
    {
     "name": "stdin",
     "output_type": "stream",
     "text": [
      " 3 3\n",
      " 1 1 1\n",
      " 2 2 2\n",
      " 0 1 0\n",
      " 3 3 3\n",
      " 4 4 4\n",
      " 5 5 5\n"
     ]
    },
    {
     "name": "stdout",
     "output_type": "stream",
     "text": [
      "[[3, 3, 3], [4, 4, 4], [5, 5, 5]]\n",
      "4 4 4 \n",
      "6 6 6 \n",
      "5 6 5 \n"
     ]
    }
   ],
   "source": [
    "#행렬 덧셈 2738\n",
    "n, m = map(int, input().split())\n",
    "m_a = []\n",
    "m_b = []\n",
    "for i in range(n):\n",
    "    a = list(map(int, input().split()))\n",
    "    m_a.append(a)\n",
    "for i in range(n):\n",
    "    b = list(map(int, input().split()))\n",
    "    m_b.append(b)\n",
    "#print(m_a)\n",
    "#print(m_b) #ex) [[1,2,3], [2,3,4], [3,4,5]]\n",
    "for i in range(n):\n",
    "    for j in range(m):\n",
    "        result = m_a[i][j] + m_b[i][j]\n",
    "        print(result, end=' ') # 4 4 4 / 6 6 6 / 5 6 100\n",
    "    print() # 3x3행렬 모양으로 출력"
   ]
  },
  {
   "cell_type": "code",
   "execution_count": 137,
   "id": "9892fcfb-a083-4d51-9481-b06d7e31fd65",
   "metadata": {},
   "outputs": [
    {
     "name": "stdin",
     "output_type": "stream",
     "text": [
      " df\n"
     ]
    },
    {
     "ename": "ValueError",
     "evalue": "invalid literal for int() with base 10: 'df'",
     "output_type": "error",
     "traceback": [
      "\u001b[1;31m---------------------------------------------------------------------------\u001b[0m",
      "\u001b[1;31mValueError\u001b[0m                                Traceback (most recent call last)",
      "Cell \u001b[1;32mIn[137], line 4\u001b[0m\n\u001b[0;32m      2\u001b[0m column \u001b[38;5;241m=\u001b[39m []\n\u001b[0;32m      3\u001b[0m \u001b[38;5;28;01mfor\u001b[39;00m _ \u001b[38;5;129;01min\u001b[39;00m \u001b[38;5;28mrange\u001b[39m(\u001b[38;5;241m1\u001b[39m,\u001b[38;5;241m10\u001b[39m):\n\u001b[1;32m----> 4\u001b[0m     row \u001b[38;5;241m=\u001b[39m \u001b[38;5;28mlist\u001b[39m(\u001b[38;5;28mmap\u001b[39m(\u001b[38;5;28mint\u001b[39m, \u001b[38;5;28minput\u001b[39m()\u001b[38;5;241m.\u001b[39msplit()))\n\u001b[0;32m      5\u001b[0m     column\u001b[38;5;241m.\u001b[39mappend(row)\n\u001b[0;32m      7\u001b[0m \u001b[38;5;28;01mfor\u001b[39;00m i \u001b[38;5;129;01min\u001b[39;00m \u001b[38;5;28mrange\u001b[39m(\u001b[38;5;241m1\u001b[39m,\u001b[38;5;241m10\u001b[39m):\n",
      "\u001b[1;31mValueError\u001b[0m: invalid literal for int() with base 10: 'df'"
     ]
    }
   ],
   "source": [
    "#최댓값 2566\n",
    "                '''다시풀기'''\n",
    "'''런타임에러\n",
    "column = []\n",
    "for _ in range(1,10):\n",
    "    row = list(map(int, input().split()))\n",
    "    column.append(row)\n",
    "\n",
    "for i in range(1,10):\n",
    "    for j in range(1,10):\n",
    "        result = map(list, column[i][j])\n",
    "print(max(result), i, j)'''\n",
    "\n",
    "nums = 0\n",
    "col = 0\n",
    "row = 0\n",
    "for i in range(9):\n",
    "    line = list(map(int, input().split()))\n",
    "    if max(line) > nums:\n",
    "        nums = max(line)\n",
    "        col = i\n",
    "        row = line.index(nums)\n",
    "print(nums)\n",
    "print(col+1,row+1)"
   ]
  },
  {
   "cell_type": "code",
   "execution_count": 60,
   "id": "356f6329-4068-4ba1-b6ac-48c1df42a887",
   "metadata": {},
   "outputs": [
    {
     "name": "stdin",
     "output_type": "stream",
     "text": [
      " 123\n",
      " 123\n",
      " 123\n",
      " 213\n",
      " 123\n"
     ]
    },
    {
     "name": "stdout",
     "output_type": "stream",
     "text": [
      "111212221233333\n"
     ]
    }
   ],
   "source": [
    "#세로읽기 10798\n",
    "            '''다시풀기'''\n",
    "            '''1. 2차원배열 선언 방법 / 2.ouf of range설정(+조건문추가)'''\n",
    "sentence = []\n",
    "for i in range(5):\n",
    "    sentence.append(input())\n",
    "#print(sentence) #['abc','def', ... ,]\n",
    "#sentence[0] # 'abc'\n",
    "#sentence[0][0] #'a' 1차원배열도, 객체[i][j]꼴로 호출 가능\n",
    "\n",
    "result = \"\"\n",
    "for i in range(15):\n",
    "    for j in range(5):\n",
    "        if i < len(sentence[j]): # print(sentence[j][i]시, out of range 발생\n",
    "            result += sentence[j][i]\n",
    "print(result)"
   ]
  },
  {
   "cell_type": "code",
   "execution_count": 99,
   "id": "348ede04-c740-4a44-b7ab-92e02fd7fef7",
   "metadata": {},
   "outputs": [
    {
     "name": "stdin",
     "output_type": "stream",
     "text": [
      " 3\n",
      " 3 7\n",
      " 15 7\n",
      " 5 2\n"
     ]
    },
    {
     "name": "stdout",
     "output_type": "stream",
     "text": [
      "260\n"
     ]
    }
   ],
   "source": [
    "#색종이 2563\n",
    "'''색종이 있는 곳은 1로, 없는 곳은 0으로'''\n",
    "paper = [[0 for i in range(100)] for j in range(100)] #도화지크기 100x100, 0으로 초기화\n",
    "\n",
    "n = int(input()) #색종이 수\n",
    "for i in range(n):\n",
    "    x,y = map(int, input().split()) #(x,y): 3,7 / 15,7 / 5,2\n",
    "    \n",
    "    for i in range(x, x+10):\n",
    "        for j in range(y, y+10):\n",
    "            paper[i][j] = 1\n",
    "#paper[3].count(1) #10\n",
    "result = 0\n",
    "for i in range(100):\n",
    "    result += paper[i].count(1) #paper[i].count(1) 원소 중에서 1인 것을 카운트한다.\n",
    "\n",
    "print(result) #색종이 너비 합"
   ]
  },
  {
   "cell_type": "markdown",
   "id": "9fde1170-0a39-44d1-9b71-f99eb78c25f0",
   "metadata": {},
   "source": [
    "### 8단계 일반 수학1"
   ]
  },
  {
   "cell_type": "code",
   "execution_count": 4,
   "id": "e72cf090-9600-4d88-85f5-2ac17157a7da",
   "metadata": {},
   "outputs": [
    {
     "name": "stdin",
     "output_type": "stream",
     "text": [
      " zzzzz 36\n"
     ]
    },
    {
     "name": "stdout",
     "output_type": "stream",
     "text": [
      "60466175\n"
     ]
    }
   ],
   "source": [
    "#진법 변환 2745\n",
    "'''int(n, b) = b진법의 수 n을 10진법으로 표현'''\n",
    "n, b = input().split()\n",
    "print(int(n, int(b))) #int(zzzzz, 36) = 36진법의 수 zzzzz를 10진법으로 바꿔줌\n",
    "\n",
    "'''일반적풀이'''\n",
    "num_list = \"0123456789ABCDEFGHIJKLMNOPQRSTUVWXYZ\" # 0부터Z까지 포함된 문자열을 활용, 이 문자열의 index가 값이 된다.\n",
    "\n",
    "n, b = input().split() #n에 대문자 입력, b진법수 n\n",
    "n = n[::-1] # list[::-1]: 리스트순서뒤집기\n",
    "b = int(b) # input값 int변환\n",
    "\n",
    "result = 0\n",
    "for i in range(len(n)):\n",
    "    result += b**i * num_list.index(n[i])\n",
    "print(result)"
   ]
  },
  {
   "cell_type": "code",
   "execution_count": 10,
   "id": "a90d62e4-2ea6-4204-af21-aaf59cea30cd",
   "metadata": {},
   "outputs": [
    {
     "name": "stdin",
     "output_type": "stream",
     "text": [
      " 60466175 36\n"
     ]
    },
    {
     "name": "stdout",
     "output_type": "stream",
     "text": [
      "ZZZZZ\n"
     ]
    }
   ],
   "source": [
    "#진법 변환2 11005\n",
    "'''ex)256%10 = 6, 256 <= 25(초기화)\n",
    "      25%10 = 5, 25 <= 2(초기화)\n",
    "      2%10 = 2\n",
    "      652 -> 뒤집기 -> 256'''\n",
    "\n",
    "n, b = map(int, input().split()) #60466175 36\n",
    "num_list = \"0123456789ABCDEFGHIJKLMNOPQRSTUVWXYZ\"\n",
    "\n",
    "result = \"\"\n",
    "while n != 0:\n",
    "    result += num_list[n%b] #b로 나눈 나머지값 연결\n",
    "    n //= b #n값 초기화\n",
    "print(result[::-1])"
   ]
  },
  {
   "cell_type": "code",
   "execution_count": 57,
   "id": "6d8068d0-09d2-4615-8712-0774e2ae59bc",
   "metadata": {
    "scrolled": true
   },
   "outputs": [
    {
     "name": "stdin",
     "output_type": "stream",
     "text": [
      " 3\n",
      " 124\n",
      " 25\n",
      " 194\n"
     ]
    },
    {
     "name": "stdout",
     "output_type": "stream",
     "text": [
      "4 2 0 4 1 0 0 0 7 1 1 4 "
     ]
    }
   ],
   "source": [
    "#세탁소 시장 동혁 2720\n",
    "'''출력 관련해서, 다른 풀이도 참고'''\n",
    "t = int(input()) #3\n",
    "prices = [int(input()) for _ in range(t)] #124 25 194\n",
    "array = [25, 10, 5, 1] #동전 종류\n",
    "\n",
    "cnt = []\n",
    "for i in range(t):\n",
    "    for coin in array:\n",
    "        cnt.append(prices[i] // coin)\n",
    "        prices[i] %= coin #124//25 후 나머지 24를 초기화\n",
    "#print(cnt) #[4, 2, 0, 4, 1, 0, 0, 0, 7, 1, 1, 4]\n",
    "\n",
    "print(*cnt, end=' ') #4 2 0 4 1 0 0 0 7 1 1 4 / *args와 **kwargs이용"
   ]
  },
  {
   "cell_type": "code",
   "execution_count": 42,
   "id": "7fa3ef6a-c4ec-41d1-90fe-92f2dfc9ac38",
   "metadata": {},
   "outputs": [
    {
     "name": "stdin",
     "output_type": "stream",
     "text": [
      " 2\n"
     ]
    },
    {
     "name": "stdout",
     "output_type": "stream",
     "text": [
      "25\n"
     ]
    }
   ],
   "source": [
    "#중앙 이동 알고리즘 2903\n",
    "'''점의개수: 2x2=4=2**2, 3x3=9=3**2, 5x5=25=5**2'''\n",
    "n = int(input())\n",
    "print((2**n+1)**2)"
   ]
  },
  {
   "cell_type": "code",
   "execution_count": 3,
   "id": "1823041f-668c-4de8-98b1-dc394d0f5d0c",
   "metadata": {},
   "outputs": [
    {
     "name": "stdin",
     "output_type": "stream",
     "text": [
      " 13\n"
     ]
    },
    {
     "name": "stdout",
     "output_type": "stream",
     "text": [
      "3\n"
     ]
    }
   ],
   "source": [
    "#벌집 2292\n",
    "#1, 1+6=7, 1+6+12=7+12=19, 1+6+12+18=19+18=37, ... : an =1; an += 6*n\n",
    "\n",
    "routes = int(input()) #13\n",
    "\n",
    "an = 1; nums = 1\n",
    "while routes > an: #point! 입력값 > 점화식 이면, +1 해 출력한다\n",
    "    an += 6*nums\n",
    "    nums += 1\n",
    "print(nums) #3"
   ]
  },
  {
   "cell_type": "code",
   "execution_count": null,
   "id": "f6e03864-3a4d-4fb4-9c31-11ec4c70d982",
   "metadata": {},
   "outputs": [],
   "source": [
    "### 분수찾기 1193\n",
    "    '''다시 풀기/어려움'''\n",
    "1+2+3+4+5+6+...\n",
    "line\n",
    "1  1/1\n",
    "2  1/2 2/1 : +1/-1꼴\n",
    "3  3/1 2/2 1/3\n",
    "4  1/4 2/3 3/2 4/1 : +1/-1꼴\n",
    "5  5/1 4/2 3/3 2/4 1/5 ...\n",
    "\n",
    "num = int(input()) #4\n",
    "\n",
    "line = 1\n",
    "if line%2 == 0:\n",
    "    a = \n",
    "    b =\n",
    "else:\n",
    "\n",
    "print(a + '/' + b)"
   ]
  },
  {
   "cell_type": "code",
   "execution_count": 8,
   "id": "dfebaa15-2e41-44e6-a667-4d33f1f7718a",
   "metadata": {},
   "outputs": [
    {
     "name": "stdin",
     "output_type": "stream",
     "text": [
      " 2 1 5\n"
     ]
    },
    {
     "name": "stdout",
     "output_type": "stream",
     "text": [
      "4\n"
     ]
    }
   ],
   "source": [
    "#달팽이는 올라가고 싶다 2869\n",
    "a, b, v = map(int, input().split()) #2 1 5\n",
    "\n",
    "day = a-b #하루에 갈 수 있는 거리, 1\n",
    "heights = v-b #올라가야 할 거리, 4\n",
    "if heights%day == 0: #나머지가 0이면, 낮동안 정상 도달\n",
    "    print(heights//day)\n",
    "else: #나머지가 0이 아니면, 밤에 미끄러져서 하루+1해야\n",
    "    print(heights//day+1)"
   ]
  },
  {
   "cell_type": "markdown",
   "id": "2a9f1991-0216-4eb4-aed5-22562ea6e39f",
   "metadata": {},
   "source": [
    "### 9단계 약수, 배수와 소수"
   ]
  },
  {
   "cell_type": "code",
   "execution_count": 3,
   "id": "b1b57efc-6b4c-4ff3-a4dc-b5c144eb3c06",
   "metadata": {},
   "outputs": [
    {
     "name": "stdin",
     "output_type": "stream",
     "text": [
      " 0 0\n"
     ]
    }
   ],
   "source": [
    "#배수와 약수 5086\n",
    "while True:\n",
    "    a, b = map(int, input().split())\n",
    "    if a>b:\n",
    "        if a % b == 0:\n",
    "            print('multiple')\n",
    "        else:\n",
    "            print('neither')\n",
    "    elif a<b:\n",
    "        if b % a ==0:\n",
    "            print('factor')\n",
    "        else:\n",
    "            print('neither')\n",
    "    elif a==b and b==0:\n",
    "        break"
   ]
  },
  {
   "cell_type": "code",
   "execution_count": 6,
   "id": "118ea599-9baf-492f-9527-3eeeed5fd6ea",
   "metadata": {},
   "outputs": [
    {
     "name": "stdin",
     "output_type": "stream",
     "text": [
      " 6 3\n"
     ]
    },
    {
     "name": "stdout",
     "output_type": "stream",
     "text": [
      "3\n"
     ]
    }
   ],
   "source": [
    "#약수 구하기 2501\n",
    "n, k = map(int, input().split()) #6 3\n",
    "\n",
    "arr = []\n",
    "for i in range(1, n+1):\n",
    "    if n % i == 0:\n",
    "        arr.append(i) #[1 2 3 6]\n",
    "if len(arr) < k:\n",
    "    print(0)\n",
    "else:\n",
    "    print(arr[k-1])"
   ]
  },
  {
   "cell_type": "code",
   "execution_count": 14,
   "id": "f654b19a-77ff-40f6-b3d4-7b9c7cc780f1",
   "metadata": {},
   "outputs": [
    {
     "name": "stdin",
     "output_type": "stream",
     "text": [
      " 12\n"
     ]
    },
    {
     "name": "stdout",
     "output_type": "stream",
     "text": [
      "12 is NOT perfect.\n"
     ]
    },
    {
     "name": "stdin",
     "output_type": "stream",
     "text": [
      " -1\n"
     ]
    }
   ],
   "source": [
    "#약수들의 합 9506\n",
    "# '구분자'.join(리스트)\n",
    "while True:\n",
    "    n = int(input())\n",
    "    if n == -1:\n",
    "        break\n",
    "        \n",
    "    arr = []\n",
    "    for i in range(1,n):\n",
    "        if n % i == 0:\n",
    "            arr.append(i)\n",
    "            \n",
    "    if sum(arr) == n: #약수의합 = n이면, n이 완전수이면\n",
    "        print(n,'=',' + '.join(str(i) for i in arr)) #TypeError: sequence item 0: expected str instance, int found\n",
    "    else:\n",
    "        print(n, 'is NOT perfect.')"
   ]
  },
  {
   "cell_type": "code",
   "execution_count": 37,
   "id": "c11da50f-5447-4b7c-857d-a1cacd586f48",
   "metadata": {},
   "outputs": [
    {
     "name": "stdin",
     "output_type": "stream",
     "text": [
      " 4\n",
      " 2 3 4 8\n"
     ]
    },
    {
     "name": "stdout",
     "output_type": "stream",
     "text": [
      "2\n"
     ]
    }
   ],
   "source": [
    "#소수 찾기 1978\n",
    "'''다시풀기'''\n",
    "n = int(input()) #4\n",
    "arr = list(map(int, input().split())) #1 3 5 7\n",
    "\n",
    "cnt = 0 #소수의 개수\n",
    "for i in arr:\n",
    "    for j in range(2, i+1): #1은 소수가 아니므로, 2부터 i까지\n",
    "        if i % j == 0:\n",
    "            if j == i: #숫자가 i 도달 후 나누어지면, 그 수는 소수로 볼 수 있기에 +1해준다\n",
    "                cnt += 1\n",
    "            break\n",
    "print(cnt) #3"
   ]
  },
  {
   "cell_type": "code",
   "execution_count": 39,
   "id": "eb88ffce-1536-4148-92e5-168eb7f67ff1",
   "metadata": {},
   "outputs": [
    {
     "name": "stdin",
     "output_type": "stream",
     "text": [
      " 64\n",
      " 65\n"
     ]
    },
    {
     "name": "stdout",
     "output_type": "stream",
     "text": [
      "-1\n"
     ]
    }
   ],
   "source": [
    "#소수 2581\n",
    "m = int(input())\n",
    "n = int(input())\n",
    "\n",
    "number = []\n",
    "for i in range(m,n+1): #m~n수\n",
    "    error = 0\n",
    "    if i > 1: #1은 소수가 아니므로 제외\n",
    "        for j in range(2,i): #2~i에서 나눠지는 수는 소수가 아니므로 error +1\n",
    "            if i%j == 0:\n",
    "                error += 1\n",
    "                break\n",
    "        if error == 0: #error가 없으면 소수\n",
    "            number.append(i)\n",
    "if len(number) > 0:\n",
    "    print(sum(number))\n",
    "    print(min(number))\n",
    "else:\n",
    "    print(-1)"
   ]
  },
  {
   "cell_type": "code",
   "execution_count": 46,
   "id": "71f46ffc-e359-4f40-8fe2-a4b08a585c1f",
   "metadata": {},
   "outputs": [
    {
     "name": "stdin",
     "output_type": "stream",
     "text": [
      " 72\n"
     ]
    },
    {
     "name": "stdout",
     "output_type": "stream",
     "text": [
      "2\n",
      "2\n",
      "2\n",
      "3\n",
      "3\n"
     ]
    }
   ],
   "source": [
    "#소인수분해 11653\n",
    "n = int(input())\n",
    "\n",
    "for i in range(2,n+1): #2부터 나누기\n",
    "    if n % i == 0:\n",
    "        while n % i == 0: #나눌 수 없을 때까지 나누기, 이때 n값 n/i로 초기화 시켜주면서\n",
    "            print(i)\n",
    "            n = n/i"
   ]
  },
  {
   "cell_type": "markdown",
   "id": "433db50c-a9bb-424b-9dfb-9989b5da375b",
   "metadata": {},
   "source": [
    "### 10단계 기하:직사각형과 삼각형"
   ]
  },
  {
   "cell_type": "code",
   "execution_count": 1,
   "id": "66eedcff-fd85-43b9-b59f-7c5b608225b9",
   "metadata": {},
   "outputs": [
    {
     "name": "stdin",
     "output_type": "stream",
     "text": [
      " 3\n",
      " 4\n"
     ]
    },
    {
     "name": "stdout",
     "output_type": "stream",
     "text": [
      "12\n"
     ]
    }
   ],
   "source": [
    "#직사각형 27323\n",
    "a = int(input())\n",
    "b = int(input())\n",
    "print(a*b)"
   ]
  },
  {
   "cell_type": "code",
   "execution_count": 3,
   "id": "1790fdad-257f-48df-8c91-90195a47725a",
   "metadata": {},
   "outputs": [
    {
     "name": "stdin",
     "output_type": "stream",
     "text": [
      " 1 1 5 5\n"
     ]
    },
    {
     "name": "stdout",
     "output_type": "stream",
     "text": [
      "1\n"
     ]
    }
   ],
   "source": [
    "#직사각형에서 탈출 1085\n",
    "x,y,w,h = map(int, input().split()) #(0,0)~(w,h)\n",
    "print(min(x,y,w-x,h-y)) #최솟값"
   ]
  },
  {
   "cell_type": "code",
   "execution_count": 9,
   "id": "b2cc6ffc-cf03-4999-b04f-7d495f4d00f3",
   "metadata": {},
   "outputs": [
    {
     "name": "stdin",
     "output_type": "stream",
     "text": [
      " 5 5\n",
      " 5 7\n",
      " 7 5\n"
     ]
    },
    {
     "name": "stdout",
     "output_type": "stream",
     "text": [
      "7 7\n"
     ]
    }
   ],
   "source": [
    "#네 번째 점 3009\n",
    "w = []\n",
    "h = []\n",
    "for _ in range(3): #5 5 / 5 7 / 7 5\n",
    "    x, y = map(int, input().split())\n",
    "    w.append(x)\n",
    "    h.append(y)\n",
    "\n",
    "for i in range(3):\n",
    "    if w.count(w[i]) == 1: #5 5 7중 1개인 것을 출력\n",
    "        x = w[i]\n",
    "    if h.count(h[i]) == 1:\n",
    "        y = h[i]\n",
    "print(x,y) # 7 7"
   ]
  },
  {
   "cell_type": "code",
   "execution_count": 14,
   "id": "6b7f6d37-1bb3-467f-ba90-ed1ad024d29f",
   "metadata": {},
   "outputs": [
    {
     "name": "stdin",
     "output_type": "stream",
     "text": [
      " 3\n"
     ]
    },
    {
     "name": "stdout",
     "output_type": "stream",
     "text": [
      "12\n"
     ]
    }
   ],
   "source": [
    "#수학은 체육과목 입니다 15894\n",
    "'''\n",
    "2n-1\n",
    "1  4\n",
    "3  3+1+2+2 = 8\n",
    "5  3+1+2+1+2+3 = 12\n",
    "7  3+1+2+1+2+1+2+4 = 16\n",
    "'''\n",
    "\n",
    "n = int(input()) #정사각형 개수\n",
    "l = (2*n-1)*2 + 2\n",
    "print(l) #정사각형 둘레길이"
   ]
  },
  {
   "cell_type": "code",
   "execution_count": 19,
   "id": "ee552091-1108-411f-9930-26349d6f07ff",
   "metadata": {},
   "outputs": [
    {
     "name": "stdin",
     "output_type": "stream",
     "text": [
      " 4\n",
      " 2 1\n",
      " 3 2\n",
      " 5 2\n",
      " 3 4\n"
     ]
    },
    {
     "name": "stdout",
     "output_type": "stream",
     "text": [
      "9\n"
     ]
    }
   ],
   "source": [
    "# 대지 9063\n",
    "n = int(input()) #3\n",
    "w = []\n",
    "h = []\n",
    "for _ in range(n):\n",
    "    x, y = map(int, input().split()) #20 24 / 40 21 / 10 12\n",
    "    w.append(x)\n",
    "    h.append(y)\n",
    "w.sort() #오름차순정렬\n",
    "h.sort()\n",
    "print((w[-1] - w[0]) * (h[-1] - h[0])) #x,y값 최대-최소 길이 구해 곱하기"
   ]
  },
  {
   "cell_type": "code",
   "execution_count": 52,
   "id": "5f91a047-906d-4b97-82a3-302486c04ce2",
   "metadata": {},
   "outputs": [
    {
     "name": "stdin",
     "output_type": "stream",
     "text": [
      " 60\n",
      " 60\n",
      " 60\n"
     ]
    },
    {
     "name": "stdout",
     "output_type": "stream",
     "text": [
      "Equilateral\n"
     ]
    }
   ],
   "source": [
    "#삼각형 외우기 10101\n",
    "a = [int(input()) for _ in range(3)]\n",
    "\n",
    "if a[0]+a[1]+a[2] == 180:\n",
    "    if a[0] == a[1] == a[2]:\n",
    "        print('Equilateral')\n",
    "    else:\n",
    "        if a[0] == a[1] or a[1] == a[2] or a[2] == a[0]:\n",
    "            print('Isosceles')\n",
    "        elif a[0] != a[1] and a[1] != a[2]:\n",
    "            print('Scalene')\n",
    "else:\n",
    "    print('Error')"
   ]
  },
  {
   "cell_type": "code",
   "execution_count": 13,
   "id": "3fa8a7b3-34d1-4199-938d-bb7bef671781",
   "metadata": {},
   "outputs": [
    {
     "name": "stdin",
     "output_type": "stream",
     "text": [
      " 3 2 5\n"
     ]
    },
    {
     "name": "stdout",
     "output_type": "stream",
     "text": [
      "Scalene\n"
     ]
    },
    {
     "name": "stdin",
     "output_type": "stream",
     "text": [
      " 1 1 1000\n"
     ]
    },
    {
     "name": "stdout",
     "output_type": "stream",
     "text": [
      "Isosceles\n"
     ]
    },
    {
     "name": "stdin",
     "output_type": "stream",
     "text": [
      " 2 2 3\n"
     ]
    },
    {
     "name": "stdout",
     "output_type": "stream",
     "text": [
      "Isosceles\n"
     ]
    },
    {
     "name": "stdin",
     "output_type": "stream",
     "text": [
      " 2 2 7\n"
     ]
    },
    {
     "name": "stdout",
     "output_type": "stream",
     "text": [
      "Isosceles\n"
     ]
    },
    {
     "name": "stdin",
     "output_type": "stream",
     "text": [
      " 6 3 2\n"
     ]
    },
    {
     "name": "stdout",
     "output_type": "stream",
     "text": [
      "Invalid\n"
     ]
    },
    {
     "name": "stdin",
     "output_type": "stream",
     "text": [
      " 0 0 0 \n"
     ]
    }
   ],
   "source": [
    "#삼각형과 세 변 5073\n",
    "while True:\n",
    "    x,y,z = map(int, input().split()) #7 7 7 / 6 5 4 / 3 2 5 / 6 2 6 / 0 0 0\n",
    "    if x == y == z == 0:\n",
    "        break\n",
    "        \n",
    "    if sum((x,y,z)) <= 2*max(x,y,z): #TypeError: sum() takes at most 2 arguments (3 given) / sum(iterable, start)이므로 sum((1,2,3)) 괄호 2번 감싸야\n",
    "        print('Invalid')\n",
    "    else:\n",
    "        if x == y == z:\n",
    "            print('Equilateral')\n",
    "        elif x == y or y == z or z == x:\n",
    "            print('Isosceles')\n",
    "        else:\n",
    "            print('Scalene')"
   ]
  },
  {
   "cell_type": "code",
   "execution_count": 17,
   "id": "50d3e2cb-73d9-4e31-a426-ba080e5d6194",
   "metadata": {},
   "outputs": [
    {
     "name": "stdin",
     "output_type": "stream",
     "text": [
      " 41 64 16\n"
     ]
    },
    {
     "name": "stdout",
     "output_type": "stream",
     "text": [
      "113\n"
     ]
    }
   ],
   "source": [
    "#세 막대 14215\n",
    "a,b,c = map(int, input().split())\n",
    "if sum((a,b,c)) <= 2*max(a,b,c): #두 변의 합이 작으면\n",
    "    print(2*(sum((a,b,c))-max(a,b,c))-1)\n",
    "else:\n",
    "    print(sum((a,b,c,)))"
   ]
  }
 ],
 "metadata": {
  "kernelspec": {
   "display_name": "Python 3 (ipykernel)",
   "language": "python",
   "name": "python3"
  },
  "language_info": {
   "codemirror_mode": {
    "name": "ipython",
    "version": 3
   },
   "file_extension": ".py",
   "mimetype": "text/x-python",
   "name": "python",
   "nbconvert_exporter": "python",
   "pygments_lexer": "ipython3",
   "version": "3.12.4"
  }
 },
 "nbformat": 4,
 "nbformat_minor": 5
}
