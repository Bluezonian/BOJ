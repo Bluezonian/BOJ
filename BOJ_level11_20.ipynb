{
 "cells": [
  {
   "cell_type": "markdown",
   "id": "dd93b621-f48e-43f4-9972-2c419a1878f7",
   "metadata": {},
   "source": [
    "# BOJ_Level"
   ]
  },
  {
   "cell_type": "markdown",
   "id": "e83693d7-cd45-4db9-aa6e-74410912bfdd",
   "metadata": {},
   "source": [
    "### 11단계 시간 복잡도"
   ]
  },
  {
   "cell_type": "markdown",
   "id": "d0ee8fc2-4a60-44d3-a595-4b1fb54fa83c",
   "metadata": {},
   "source": [
    "O(1) - 상수 시간(Constant Time):\n",
    "입력 크기에 상관없이 항상 일정한 시간이 걸리는 경우입니다.\n",
    "예: 배열의 특정 인덱스에 접근하는 경우.\n",
    "\n",
    "O(log n) - 로그 시간(Logarithmic Time):\n",
    "입력 크기가 증가함에 따라 실행 시간이 로그 함수처럼 증가하는 경우입니다.\n",
    "예: 이진 탐색(Binary Search).\n",
    "\n",
    "O(n) - 선형 시간(Linear Time):\n",
    "입력 크기에 비례하여 실행 시간이 증가하는 경우입니다.\n",
    "예: 배열의 모든 요소를 한 번씩 순회하는 경우.\n",
    "\n",
    "O(n log n) - 선형 로그 시간(Linearithmic Time):\n",
    "입력 크기에 로그를 곱한 만큼 실행 시간이 증가하는 경우입니다.\n",
    "예: 병합 정렬(Merge Sort), 퀵 정렬(Quick Sort).\n",
    "\n",
    "O(n^2) - 이차 시간(Quadratic Time):\n",
    "입력 크기의 제곱에 비례하여 실행 시간이 증가하는 경우입니다.\n",
    "예: 이중 루프를 사용하는 버블 정렬(Bubble Sort), 삽입 정렬(Insertion Sort).\n",
    "\n",
    "O(2^n) - 지수 시간(Exponential Time):\n",
    "입력 크기에 대해 지수적으로 실행 시간이 증가하는 경우입니다.\n",
    "예: 피보나치 수열을 재귀적으로 계산하는 경우(단순 재귀).\n",
    "\n",
    "O(n!) - 계승 시간(Factorial Time):\n",
    "입력 크기에 대해 계승적으로 실행 시간이 증가하는 경우입니다.\n",
    "예: 외판원 문제(Traveling Salesman Problem)의 브루트 포스 알고리즘."
   ]
  },
  {
   "cell_type": "code",
   "execution_count": 6,
   "id": "b7ab66ca-fb81-4641-b567-ceea65173673",
   "metadata": {},
   "outputs": [
    {
     "name": "stdin",
     "output_type": "stream",
     "text": [
      " 1\n"
     ]
    },
    {
     "name": "stdout",
     "output_type": "stream",
     "text": [
      "1\n"
     ]
    },
    {
     "data": {
      "text/plain": [
       "0"
      ]
     },
     "execution_count": 6,
     "metadata": {},
     "output_type": "execute_result"
    }
   ],
   "source": [
    "#알고리즘 수업 - 알고리즘의 수행 시간 1 24262\n",
    "'''무슨 말이지'''\n",
    "n = int(input())\n",
    "count = 1\n",
    "degree = 0\n",
    "print(count)\n",
    "print(degree)"
   ]
  },
  {
   "cell_type": "code",
   "execution_count": 13,
   "id": "ba846341-f6d3-4922-84cf-140589bf4a07",
   "metadata": {},
   "outputs": [
    {
     "ename": "SyntaxError",
     "evalue": "invalid syntax. Maybe you meant '==' or ':=' instead of '='? (3298455290.py, line 8)",
     "output_type": "error",
     "traceback": [
      "\u001b[1;36m  Cell \u001b[1;32mIn[13], line 8\u001b[1;36m\u001b[0m\n\u001b[1;33m    answer = 0\u001b[0m\n\u001b[1;37m    ^\u001b[0m\n\u001b[1;31mSyntaxError\u001b[0m\u001b[1;31m:\u001b[0m invalid syntax. Maybe you meant '==' or ':=' instead of '='?\n"
     ]
    }
   ],
   "source": [
    "#알고리즘 수업 - 알고리즘의 수행 시간 2 24263\n",
    "'''for문 1번 = 선형(n)시간복잡도'''\n",
    "n = int(input())\n",
    "print(n)\n",
    "print(1) #n은 1차"
   ]
  },
  {
   "cell_type": "code",
   "execution_count": 14,
   "id": "b90b4525-49ee-47e4-b42b-277ceefd8cef",
   "metadata": {},
   "outputs": [
    {
     "name": "stdin",
     "output_type": "stream",
     "text": [
      " 3\n"
     ]
    },
    {
     "name": "stdout",
     "output_type": "stream",
     "text": [
      "9\n",
      "2\n"
     ]
    }
   ],
   "source": [
    "#알고리즘 수업 - 알고리즘의 수행 시간 3 24264\n",
    "'''2중for문 = 이차(n^2)시간복잡도'''\n",
    "n = int(input())\n",
    "print(n**2)\n",
    "print(2)"
   ]
  },
  {
   "cell_type": "code",
   "execution_count": 17,
   "id": "523d2467-2012-4680-a0e3-74a8053ca56f",
   "metadata": {},
   "outputs": [
    {
     "name": "stdin",
     "output_type": "stream",
     "text": [
      " 7\n"
     ]
    },
    {
     "name": "stdout",
     "output_type": "stream",
     "text": [
      "21\n",
      "2\n"
     ]
    }
   ],
   "source": [
    "#알고리즘 수업 - 알고리즘의 수행 시간 4 24265\n",
    "'''등차수열의 합에 관한 식\n",
    "    i : i ~ n-1 \n",
    "    j : i+1 ~ n\n",
    "n=7, i=1, j=2~7 sum=iXj\n",
    "    i=2, j=3~7\n",
    "    i=3, j=4~7\n",
    "    i=4, j=5~7\n",
    "    i=5, j=6~7\n",
    "    i=6, j=7\n",
    "    i=7, j=8 (x)\n",
    "n*(n-1) - (1+n-1)*(n-1)/2\n",
    "'''\n",
    "n = int(input())\n",
    "print(int(n*(n-1) - (1+n-1)*(n-1)/2))\n",
    "print(2)"
   ]
  },
  {
   "cell_type": "code",
   "execution_count": 18,
   "id": "908d6512-5612-42bd-8879-1f01e5c5042a",
   "metadata": {},
   "outputs": [
    {
     "name": "stdin",
     "output_type": "stream",
     "text": [
      " 7\n"
     ]
    },
    {
     "name": "stdout",
     "output_type": "stream",
     "text": [
      "343\n",
      "3\n"
     ]
    }
   ],
   "source": [
    "#알고리즘 수업 - 알고리즘의 수행 시간 5 24266\n",
    "'''3중for문 = 삼차(n^3)시간복잡도'''\n",
    "n = int(input())\n",
    "print(n**3)\n",
    "print(3)"
   ]
  },
  {
   "cell_type": "code",
   "execution_count": 22,
   "id": "1c5bb659-0cfa-4e52-a664-ff46a4cf4abd",
   "metadata": {},
   "outputs": [
    {
     "name": "stdin",
     "output_type": "stream",
     "text": [
      " 7\n"
     ]
    },
    {
     "name": "stdout",
     "output_type": "stream",
     "text": [
      "35\n",
      "3\n"
     ]
    }
   ],
   "source": [
    "#알고리즘 수업 - 알고리즘의 수행 시간 6 24267\n",
    "'''\n",
    "n=7, i=1,2,3,4,5\n",
    "     j=2,3,4,5,6\n",
    "     k=3,4,5,6,7\n",
    "     즉, 1~n까지 중복 없이 3개 뽑는 것 : nC3 = n!/(n-3)!3!\n",
    "'''\n",
    "n = int(input())\n",
    "print(int((n-2)*(n-1)*n/6))\n",
    "print(3)"
   ]
  },
  {
   "cell_type": "code",
   "execution_count": 25,
   "id": "c9959d70-7fc8-49e4-9a9f-4c3708c5677e",
   "metadata": {},
   "outputs": [
    {
     "name": "stdin",
     "output_type": "stream",
     "text": [
      " 7 7 \n",
      " 8\n",
      " 1\n"
     ]
    },
    {
     "name": "stdout",
     "output_type": "stream",
     "text": [
      "0\n"
     ]
    }
   ],
   "source": [
    "#알고리즘 수업 - 점근적 표기 1 24313\n",
    "a1, a0 = map(int, input().split())\n",
    "c = int(input())\n",
    "n = int(input())\n",
    "\n",
    "if a1*n + a0 <= c*n and a1 <= c: #a1<=c를 안 해주면, 오류 발생\n",
    "                                #a1, n, a0, c모두 양수이므로 a1<=c의 관계를 추가해 주면 된다.\n",
    "    print(1)\n",
    "else:\n",
    "    print(0)"
   ]
  },
  {
   "cell_type": "markdown",
   "id": "766e2220-1ee5-4445-9471-abe8beccd90a",
   "metadata": {},
   "source": [
    "### 12단계 브루트 포스"
   ]
  },
  {
   "cell_type": "code",
   "execution_count": 44,
   "id": "6d4f073e-ab87-4794-8c7b-89632478f1bc",
   "metadata": {},
   "outputs": [
    {
     "name": "stdin",
     "output_type": "stream",
     "text": [
      " 5 21\n",
      " 5 6 7 8 9\n"
     ]
    },
    {
     "name": "stdout",
     "output_type": "stream",
     "text": [
      "21\n"
     ]
    }
   ],
   "source": [
    "#블랙잭 2798\n",
    "from itertools import combinations\n",
    "'''3중for문 안 쓰는법 찾아보기(시간복잡도때문)'''\n",
    "n, m = map(int, input().split()) #카드개수, 최대값\n",
    "n_num = list(map(int, input().split()))\n",
    "\n",
    "result = 0\n",
    "for i in range(n):\n",
    "    for j in range(i+1,n):\n",
    "        for k in range(j+1,n):\n",
    "            if n_num[i] + n_num[j] + n_num[k] > m:\n",
    "                continue\n",
    "            else:\n",
    "                result = max(result, n_num[i] + n_num[j] + n_num[k])\n",
    "print(result)\n",
    "\n",
    "'''combinations(조합)을 이용한 풀이\n",
    "https://duwjdtn11.tistory.com/297참고'''\n",
    "n, m = map(int, input().split()) #카드개수, 최대값\n",
    "n_num = list(map(int, input().split()))\n",
    "result = 0\n",
    "\n",
    "for i in combinations(n_num, 3): #combinations를 list()로 감싸면, 튜플()값을 빼기 어려우니까\n",
    "    temp = sum(i)                #for문으로 원소값을 추출하여 합을 임시temp에다 넣어주고 부등식조건 달기\n",
    "    if result < temp <= m:\n",
    "        result = temp\n",
    "print(result)"
   ]
  },
  {
   "cell_type": "code",
   "execution_count": 62,
   "id": "5c0db41b-b9b5-4b1a-a8bc-ce1b7c16b996",
   "metadata": {},
   "outputs": [
    {
     "name": "stdin",
     "output_type": "stream",
     "text": [
      " 216\n"
     ]
    },
    {
     "name": "stdout",
     "output_type": "stream",
     "text": [
      "198\n"
     ]
    }
   ],
   "source": [
    "#분해합 2231\n",
    "'''다시풀기'''\n",
    "'''map(int, str(i))의 의미 알기'''\n",
    "#198의 분해합 = 198+1+9+8 = 216\n",
    "#n = m + m//100 + m//10 + m%10 (X 접근방식이 잘못됌)\n",
    "n = int(input()) #216\n",
    "\n",
    "for i in range(1, n+1): #(n):이면 오류\n",
    "    nums =  list(map(int, str(i))) #'''map(int, str(i)): 문자열의 각 자리수를 정수로 변경해주는 코드 ex)'123'->1, 2, 3'''\n",
    "    result = i + sum(nums) #분해합result = 생성자i + 각자리수 합sum(nums)\n",
    "\n",
    "    if result == n:\n",
    "        print(i)\n",
    "        break\n",
    "    if i == n: #생성자 없는 경우, 0출력\n",
    "        print(0)"
   ]
  },
  {
   "cell_type": "code",
   "execution_count": 75,
   "id": "b2acc608-58aa-4d07-a1d8-f8c6a69b78ad",
   "metadata": {},
   "outputs": [
    {
     "name": "stdin",
     "output_type": "stream",
     "text": [
      " 2 5 8 3 -4 -11\n"
     ]
    },
    {
     "name": "stdout",
     "output_type": "stream",
     "text": [
      "-1 2 "
     ]
    }
   ],
   "source": [
    "## 수학은 비대면강의입니다 19532\n",
    "a,b,c,d,e,f = map(int, input().split())\n",
    "\n",
    "for x in range(-999,1000):\n",
    "    for y in range(-999,1000):\n",
    "        if a*x + b*y == c and d*x + e*y == f:\n",
    "            print(x,y,end=' ')\n",
    "            break\n",
    "\n",
    "''' numpy 사용 시, 런타임에러발생\n",
    "import numpy as np\n",
    "A = np.array([[a,b],[d,e]])\n",
    "B = np.array([c,f])\n",
    "C = np.linalg.inv(A) #파이썬 역행렬 구하는 함수: np.linalg.inv()\n",
    "D = np.dot(C,B)      #행렬의곱 구하는 함수: np.dot(A,B)\n",
    "for i in D:\n",
    "    print(round(i), end=' ')\n",
    "'''\n",
    "''' 행렬식\n",
    "ax + by = c\n",
    "dx + ey = f\n",
    "    ae-bd != 0\n",
    "x = e -b )(c = ce-bf\n",
    "y  -d  a   f = -cd-af\n",
    "'''"
   ]
  },
  {
   "cell_type": "code",
   "execution_count": null,
   "id": "9e2800fd-f639-442d-8a85-6c181b1b4c44",
   "metadata": {},
   "outputs": [],
   "source": [
    "#체스판 다시 칠하기 1018\n",
    "'''어려움'''\n",
    "n, m = map(int, input().split()) # MxN\n",
    "\n",
    "row = []\n",
    "for i in range(n):\n",
    "        row.append(input())"
   ]
  },
  {
   "cell_type": "code",
   "execution_count": 55,
   "id": "77571573-9e4b-4fc2-8083-2da6bbf70b20",
   "metadata": {},
   "outputs": [
    {
     "name": "stdin",
     "output_type": "stream",
     "text": [
      " 7\n"
     ]
    },
    {
     "name": "stdout",
     "output_type": "stream",
     "text": [
      "6660\n"
     ]
    }
   ],
   "source": [
    "#영화감독 숌 1436\n",
    "#666이 들어가는 n번째 수 찾기 ex) 5666 다음 큰 수는 6660 이다.\n",
    "'''핵심은 if 666 in str(EndNum)의 의미 파악'''\n",
    "n = int(input())\n",
    "\n",
    "cnt = 0\n",
    "EndNum = 666 #int(종말번호)\n",
    "\n",
    "while True:\n",
    "    if '666' in str(EndNum): #str(종말번호) 안에 666이 포함되어 있다면\n",
    "        cnt += 1\n",
    "    if cnt == n: #카운트값이 입력값과 같다면\n",
    "        print(EndNum) #종말번호 출력\n",
    "        break #while문 탈출\n",
    "    EndNum += 1 #종말번호 1씩 증가: 667 668 .. 1666 .. 5666 .. 6000 .. 6660 .."
   ]
  },
  {
   "cell_type": "code",
   "execution_count": 65,
   "id": "a7dc07b7-8e92-4bd8-b3c9-a196be2838df",
   "metadata": {},
   "outputs": [
    {
     "name": "stdin",
     "output_type": "stream",
     "text": [
      " 18\n"
     ]
    },
    {
     "name": "stdout",
     "output_type": "stream",
     "text": [
      "4\n"
     ]
    }
   ],
   "source": [
    "#설탕 배탈 2839\n",
    "'''cnt=[5,3]으로 하는 것은 봉지별 개수 구할 때나 사용'''\n",
    "n = int(input()) #18\n",
    "cnt = 0\n",
    "while n >= 0: #설탕이 0kg이상 일때까지 반복\n",
    "    if n%5 == 0:\n",
    "        cnt += n//5\n",
    "        print(cnt)\n",
    "        break\n",
    "    n -= 3 #5의 배수가 될 때까지 설탕-3kg, 봉지+1개\n",
    "    cnt += 1\n",
    "else: #설탕이 0이 될때까지 나누어 떨어지지 않은 경우 else문 출력\n",
    "    print(-1)"
   ]
  },
  {
   "cell_type": "markdown",
   "id": "c8cd3388-a2ba-4597-bebf-02c79c356e34",
   "metadata": {},
   "source": [
    "### 13단계 정렬"
   ]
  },
  {
   "cell_type": "code",
   "execution_count": 27,
   "id": "1a9a13b3-e487-4b9d-90da-d656c0a9bb5c",
   "metadata": {},
   "outputs": [
    {
     "name": "stdin",
     "output_type": "stream",
     "text": [
      " 5\n",
      " 5\n",
      " 2\n",
      " 3\n",
      " 4\n",
      " 1\n"
     ]
    },
    {
     "name": "stdout",
     "output_type": "stream",
     "text": [
      "1\n",
      "2\n",
      "3\n",
      "4\n",
      "5\n"
     ]
    }
   ],
   "source": [
    "#수 정렬하기 2750\n",
    "n = int(input())\n",
    "nums = []\n",
    "for i in range(n):\n",
    "    nums.append(int(input()))\n",
    "    nums.sort()\n",
    "for j in nums:\n",
    "    print(j)\n",
    "\n",
    "'''\n",
    "#계수정렬 이용(범위 적을때 사용) 시 틀렸다고 출력됨\n",
    "\n",
    "n = int(input())\n",
    "arr = [int(input()) for _ in range(n) if -1000 <= n <= 1000]\n",
    "count = [0]*(max(arr)+1) #모든 범위를 포함하는 list 선언(0으로 초기화) / +1안 해주면, IndexError: list index out of range 발생\n",
    "#print(count) #[0,0,0,0,0,0]\n",
    "\n",
    "for i in range(len(arr)):\n",
    "    count[arr[i]] += 1 #각 데이터에 해당하는 index값 증가 ex) arr[0]=5, count(5)이므로 / count[] 6번째 인덱스에 1을 더해준다\n",
    "\n",
    "for i in range(len(count)):\n",
    "    for j in range(count[i]): #count[i]값 추출\n",
    "        print(i)\n",
    "'''"
   ]
  },
  {
   "cell_type": "code",
   "execution_count": 39,
   "id": "0083911d-46d3-48a8-80ca-94f5cbd8d3fd",
   "metadata": {},
   "outputs": [
    {
     "name": "stdin",
     "output_type": "stream",
     "text": [
      " 10\n",
      " 40\n",
      " 30\n",
      " 60\n",
      " 30\n"
     ]
    },
    {
     "name": "stdout",
     "output_type": "stream",
     "text": [
      "34\n",
      "30\n",
      "34\n",
      "30\n",
      "ModeResult(mode=30, count=2)\n"
     ]
    }
   ],
   "source": [
    "#대표값2 2587\n",
    "arr = [int(input()) for i in range(5)]\n",
    "arr.sort()\n",
    "ave = sum(arr)/5\n",
    "mid = arr[2]\n",
    "print(int(ave), mid, sep='\\n')\n",
    "\n",
    "'''\n",
    "#numpy사용 평균mean, 중간median\n",
    "#stats사용 최빈mode\n",
    "import numpy as np\n",
    "from scipy import stats\n",
    "print(int(np.mean(arr)))\n",
    "print(int(np.median(arr)))\n",
    "print(stats.mode(arr)) #mode=입력값, count=횟수\n",
    "'''"
   ]
  },
  {
   "cell_type": "code",
   "execution_count": 43,
   "id": "7ab70d3f-c6c7-4bfc-ae1d-6a1d255e776b",
   "metadata": {},
   "outputs": [
    {
     "name": "stdin",
     "output_type": "stream",
     "text": [
      " 5 2\n",
      " 100 76 85 93 98\n"
     ]
    },
    {
     "name": "stdout",
     "output_type": "stream",
     "text": [
      "98\n"
     ]
    }
   ],
   "source": [
    "#커트라인 25305\n",
    "n, k = map(int, input().split()) #응시자수, 수상자 수\n",
    "x = list(map(int, input().split())) #응시자 점수\n",
    "x.sort()\n",
    "\n",
    "print(x[-k]) #뒤에서 k번째 값 = 커트라인"
   ]
  },
  {
   "cell_type": "code",
   "execution_count": 47,
   "id": "d5463223-c3b9-443a-a17c-cc8bda4a2eea",
   "metadata": {},
   "outputs": [
    {
     "name": "stdin",
     "output_type": "stream",
     "text": [
      " 5\n",
      " 5\n",
      " 4\n",
      " 3\n",
      " 2\n",
      " 1\n"
     ]
    },
    {
     "name": "stdout",
     "output_type": "stream",
     "text": [
      "1\n",
      "2\n",
      "3\n",
      "4\n",
      "5\n"
     ]
    }
   ],
   "source": [
    "#수 정렬하기2 2751\n",
    "'''시간초과 발생: input()을 사용해도 시간초과가 안 되는 법 찾기\n",
    "Python3언어를 Pypy3로 바꾸어서 제출하니 통과됨\n",
    "\n",
    "Python3은 python code를 컴파일하여, bytecode로 바꾸고 인터프리터가 실행하는데 반해,\n",
    "Pypy3는 JIT(just-in-time)컴파일 방식을 도입한 방식으로, 자주 쓰이는 코드를 caching\n",
    "하는 기능이 있어서, 인터프리터 언어의 느린 실행속도를 개선할 수 있다.\n",
    "\n",
    "list.sort() : 리스트의 객체 메서드로, 원본 리스트 자체를 정렬하며, 파괴적\n",
    "sorted(literable, key, reverse) : 내장 함수, 원본 리스트는 유지되며, 비파괴적\n",
    "'''\n",
    "n = int(input())\n",
    "\n",
    "for i in sorted([int(input()) for _ in range(n) if n <= 1000000]):\n",
    "    print(i)"
   ]
  },
  {
   "cell_type": "code",
   "execution_count": 57,
   "id": "11f4e608-6633-435f-b8d0-e905527a6c0f",
   "metadata": {},
   "outputs": [
    {
     "name": "stdin",
     "output_type": "stream",
     "text": [
      " 10\n",
      " 5\n",
      " 2\n",
      " 3\n",
      " 1\n",
      " 4\n",
      " 2\n",
      " 3\n",
      " 5\n",
      " 1\n",
      " 7\n"
     ]
    },
    {
     "name": "stdout",
     "output_type": "stream",
     "text": [
      "1\n",
      "1\n",
      "2\n",
      "2\n",
      "3\n",
      "3\n",
      "4\n",
      "5\n",
      "5\n",
      "7\n"
     ]
    }
   ],
   "source": [
    "#수 정렬하기3 10989\n",
    "'''Pypy3제출 시 메모리초과, Python3제출 시 시간초과 발생 시 해결방법\n",
    "   (참고 : https://www.acmicpc.net/board/view/94174)\n",
    "1. 메모리초과\n",
    "    1) 경로압축: find()함수\n",
    "    2) Union by Rank: 큰(or작은)값 기준 합치기\n",
    "2. 시간초과\n",
    "    input()함수 대신 import sys; input = sys.stdin.readline 사용\n",
    "\n",
    "메모리관리법 링크1 : https://www.sunghyun.io/python-memory-management/\n",
    "메모리관리법 링크2 : https://yomangstartup.tistory.com/105\n",
    "'''\n",
    "\n",
    "'''무지성 리스트컴프리헨션의 문제점: 메모리초과\n",
    "n = int(input()) #10\n",
    "nums = [int(input()) for _ in range(n) if n <= 10000000] #1000만개의 숫자를 8MB이하로 저장할수 없으므로, 메모리초과가 발생\n",
    "for i in sorted(nums): print(i)\n",
    "#파이썬에서 정수int 하나가 28바이트를 차지하는데,\n",
    "#천만개의 정수를 리스트에 넣으면, 28바이트 * 1000만 = 280메가바이트 정도를 차지하게 됌\n",
    "'''\n",
    "\n",
    "'''계수정렬의 활용'''\n",
    "n = int(input())\n",
    "count = [0]*10001 #모든 범위를 포함하는 리스트 선언(값은 0으로 초기화)\n",
    "                  #count=[]; for i in range(10001): count.append(0)\n",
    "\n",
    "for i in range(n):\n",
    "    m = int(input())\n",
    "    count[m] += 1 #각 데이터에 해당하는 인덱스 값 증가\n",
    "                  #값이 0으로 된 10,000 크기의 리스트를 생성해 입력 받은 숫자에 1씩 더하면 첫 인덱스부터 순서대로 출력하면 되므로 정렬하지 않아도 되고 메모리 초과도 방지\n",
    "\n",
    "for i in range(len(count)):\n",
    "    for j in range(count[i]): #count[i]값 출력\n",
    "        print(i)"
   ]
  },
  {
   "cell_type": "code",
   "execution_count": 82,
   "id": "bd7506af-b19c-40ab-b8a2-953260f97564",
   "metadata": {},
   "outputs": [
    {
     "name": "stdin",
     "output_type": "stream",
     "text": [
      " 61423\n"
     ]
    },
    {
     "name": "stdout",
     "output_type": "stream",
     "text": [
      "64321\n"
     ]
    }
   ],
   "source": [
    "#소트인사이드 1427\n",
    "n = list(map(int, input()))\n",
    "m = ''\n",
    "for i in sorted(n, reverse=True):\n",
    "    m += str(i)\n",
    "print(m)"
   ]
  },
  {
   "cell_type": "code",
   "execution_count": 116,
   "id": "2034671a-8ade-45da-a11a-5e431cae2bb5",
   "metadata": {},
   "outputs": [
    {
     "name": "stdin",
     "output_type": "stream",
     "text": [
      " 3\n",
      " 3 4\n",
      " 1 1\n",
      " 1 -1\n"
     ]
    },
    {
     "name": "stdout",
     "output_type": "stream",
     "text": [
      "1 -1\n",
      "1 1\n",
      "3 4\n"
     ]
    },
    {
     "data": {
      "text/plain": [
       "\"\\nfor i in arr:\\n    for j in i:\\n        print(j,end=' ')\\n    print()\\n\""
      ]
     },
     "execution_count": 116,
     "metadata": {},
     "output_type": "execute_result"
    }
   ],
   "source": [
    "#좌표 정렬하기 11650\n",
    "n = int(input())\n",
    "#xi = [];yi = []\n",
    "arr = []\n",
    "for _ in range(n):\n",
    "    arr.append(list(map(int, input().split())))\n",
    "arr.sort()\n",
    "\n",
    "for x,y in arr:\n",
    "    print(x, y)\n",
    "\n",
    "\"\"\"\n",
    "for i in arr:\n",
    "    for j in i:\n",
    "        print(j,end=' ')\n",
    "    print()\n",
    "\"\"\""
   ]
  },
  {
   "cell_type": "code",
   "execution_count": 126,
   "id": "b393b76c-b872-4e8f-b395-84faf247a4bb",
   "metadata": {},
   "outputs": [
    {
     "name": "stdin",
     "output_type": "stream",
     "text": [
      " 5\n",
      " 0 4\n",
      " 1 2\n",
      " 1 -1\n",
      " 2 2\n",
      " 3 3\n"
     ]
    },
    {
     "name": "stdout",
     "output_type": "stream",
     "text": [
      "[[1, -1], [1, 2], [2, 2], [3, 3], [0, 4]]\n",
      "1 -1\n",
      "1 2\n",
      "2 2\n",
      "3 3\n",
      "0 4\n"
     ]
    }
   ],
   "source": [
    "#좌표 정렬하기2 11651\n",
    "'''다중조건정렬\n",
    "list.sort(key=lambda x:(x[1],x[0])) : 두번째값(열) 같을때, 첫번째값(행)기준 오름차순 정렬\n",
    "sorted(list, key=lambda x:(-x[0],x[1))) : 첫번째값 내림차순, 두번째값 오름차순\n",
    "참고) https://velog.io/@turningtwenty/PYTHON-sort-sorted-%EC%99%84%EB%B2%BD%EC%A0%95%EB%A6%AC\n",
    "'''\n",
    "n = int(input())\n",
    "arr = []\n",
    "for _ in range(n):\n",
    "    arr.append(list(map(int, input().split())))\n",
    "\n",
    "arr.sort(key=lambda x:(x[1], x[0])) #다중조건정렬: 두번째값같으면, 첫번째값기준 오름차순정렬\n",
    "#print(arr)\n",
    "\n",
    "for x,y in arr:\n",
    "    print(x, y)"
   ]
  },
  {
   "cell_type": "code",
   "execution_count": 146,
   "id": "bbed7ad5-8cc6-4a97-986a-13ace0e73853",
   "metadata": {},
   "outputs": [
    {
     "name": "stdin",
     "output_type": "stream",
     "text": [
      " 5\n",
      " it\n",
      " but\n",
      " im\n",
      " it\n",
      " i\n"
     ]
    },
    {
     "name": "stdout",
     "output_type": "stream",
     "text": [
      "{'i', 'but', 'im', 'it'}\n",
      "i\n",
      "im\n",
      "it\n",
      "but\n"
     ]
    }
   ],
   "source": [
    "#단어 정렬 1181\n",
    "'''set()의 활용: 집합자료형'''\n",
    "'''set()의 특징: 1)중복허용안함 2)순서가없음'''\n",
    "n = int(input())\n",
    "arr = [input() for i in range(n)]\n",
    "\n",
    "array = set(arr) #set()으로 중복값 제거\n",
    "    #print(array) # {'a','b','c'}꼴\n",
    "arr = list(array)\n",
    "\n",
    "arr.sort() #1오름차순정렬: 알파벳도 가능\n",
    "arr.sort(key=lambda x:len(x)) #2단어길이별정렬: 오름차순정렬을 안해주면, it but im 입력 시, it im but으로 됨\n",
    "\n",
    "for i in arr:\n",
    "    print(i)"
   ]
  },
  {
   "cell_type": "code",
   "execution_count": 167,
   "id": "56c347e5-d25d-4c20-88e4-22e17786a449",
   "metadata": {},
   "outputs": [
    {
     "name": "stdin",
     "output_type": "stream",
     "text": [
      " 2\n",
      " 9 a\n",
      " 11 b\n"
     ]
    },
    {
     "name": "stdout",
     "output_type": "stream",
     "text": [
      "11 b\n",
      "9 a\n"
     ]
    }
   ],
   "source": [
    "#나이순 정렬 10814\n",
    "'''\n",
    "n = int(input())\n",
    "arr = []\n",
    "for _ in range(n):\n",
    "    arr.append(list(input().split()))\n",
    "arr.sort(key=lambda x:(x[0]))\n",
    "\n",
    "for age, name in arr:\n",
    "    print(int(age), name) <- 마지막에 int감싼다고해서 str이 int로 바뀌지 않음\n",
    "#print(arr)\n",
    "#age와 name을 한꺼번에 받아서는 자료형타입 때문에 틀렸다고 나오는 듯\n",
    "#반례: 2 / 9 a 11 b\n",
    "'''\n",
    "\n",
    "n = int(input())\n",
    "user = []\n",
    "for _ in range(n):\n",
    "    age, name = input().split()\n",
    "    user.append([int(age), name]) #append안의 값이, 튜플()이든, 리스트[]이던 상관 없음\n",
    "#print(user)\n",
    "user.sort(key=lambda x:x[0])\n",
    "for i in user:\n",
    "    print(i[0], i[1])"
   ]
  },
  {
   "cell_type": "code",
   "execution_count": 192,
   "id": "7004c7d7-5f4a-4edc-9d17-24eda88672d1",
   "metadata": {},
   "outputs": [
    {
     "name": "stdin",
     "output_type": "stream",
     "text": [
      " 5\n",
      " 2 4 -10 4 -9\n"
     ]
    },
    {
     "name": "stdout",
     "output_type": "stream",
     "text": [
      "[-10, -9, 2, 4]\n",
      "{-10: 0, -9: 1, 2: 2, 4: 3}\n",
      "2\n",
      "3\n",
      "0\n",
      "3\n",
      "1\n"
     ]
    }
   ],
   "source": [
    "#좌표 압축 18870\n",
    "'''문제 이해 안됌'''\n",
    "'''결론은 입력값 중 가장 작은 값이 index=0 두고 푼다\n",
    "c참고) https://cdragon.tistory.com/entry/Baekjoon-%EB%B0%B1%EC%A4%80-18870%EB%B2%88-%EC%A2%8C%ED%91%9C%EC%95%95%EC%B6%95-%ED%8C%8C%EC%9D%B4%EC%8D%AC%EC%A0%95%EB%A0%AC\n",
    "'''\n",
    "n = int(input())\n",
    "x = list(map(int, input().split())) #2 4 -10 4 -9\n",
    "x_sort = sorted(list(set(x))) #set()으로 중복제거 후 list()에 담아 오름차순정렬\n",
    "#print(x_sort) #[-10,-9,2,4]\n",
    "dic = {x_sort[i]:i for i in range(len(x_sort))} #딕셔너리의 key값을 set리스트의 원소로 설정하고, value값을 index값으로 설정\n",
    "#print(dic) #{-10:0, -9:1, 2:2, 4:3}\n",
    "\n",
    "for i in x: #리스트x에 대해, 딕셔너리의 key에 대한 value값을 출력\n",
    "    print(dic[i],end=' ')"
   ]
  },
  {
   "cell_type": "markdown",
   "id": "369c7d6e-205e-4939-9e8c-2e704b85e99a",
   "metadata": {},
   "source": [
    "### 14단계 집합과 맵"
   ]
  },
  {
   "cell_type": "code",
   "execution_count": null,
   "id": "e50da901-b454-49ce-8642-5d136fe2db45",
   "metadata": {},
   "outputs": [],
   "source": [
    "'''숏코딩'''\n",
    "#p,q,r,s=open(0)\n",
    "#d={*q.split()}\n",
    "#print(*[+(i in d)for i in s.split()])\n",
    "f=open(0)\n",
    "while True:\n",
    "    line = f.readline()\n",
    "    if not line:\n",
    "        break\n",
    "    print(line)\n",
    "f.close()"
   ]
  },
  {
   "cell_type": "code",
   "execution_count": 214,
   "id": "09ea5473-ec4d-4061-bd4e-6fca3c49b504",
   "metadata": {},
   "outputs": [
    {
     "name": "stdin",
     "output_type": "stream",
     "text": [
      " 5\n",
      " 6 3 2 10 -10\n",
      " 8\n",
      " 10 9 -5 2 3 4 5 -10\n"
     ]
    },
    {
     "name": "stdout",
     "output_type": "stream",
     "text": [
      "1 0 0 1 1 0 0 1 "
     ]
    }
   ],
   "source": [
    "# 1. 10815 숫자 카드\n",
    "'''시간초과: list의 in 연산자는 매우 느리므로, 시간초과가 생길 가능성이 높다.\n",
    "# O(1)\n",
    "i in _set\n",
    "i in _dict\n",
    "i in _dict.keys\n",
    "\n",
    "# O(N)\n",
    "i in list(_dict.keys())\n",
    "i in [1,2,3]\n",
    "'''\n",
    "'''list대신 set을 사용해볼까? => OK'''\n",
    "n = int(input())\n",
    "n_l = set(map(int, input().split())) #list()대신 set()\n",
    "m = int(input())\n",
    "m_l = list(map(int, input().split()))\n",
    "\n",
    "for i in m_l: #O(N)\n",
    "    if i in n_l: #O(1)\n",
    "        print(1, end=' ')\n",
    "    else:\n",
    "        print(0, end=' ')\n",
    "\n",
    "'''좌표압축 18870에서 썼던 방식처럼 딕셔너리를 활용해볼까? => OK'''\n",
    "n = int(input()) #5\n",
    "n_l = list(map(int, input().split())) #6 3 2 10 -10\n",
    "m = int(input()) #8\n",
    "m_l = list(map(int, input().split())) #10 9 -5 2 3 4 5 -10\n",
    "\n",
    "dic = {} #dict()\n",
    "for i in range(len(n_l)):\n",
    "    dic[n_l[i]] = 0 #{6:0, 3:0, 2:0, 10:0, -10:0}\n",
    "for j in range(m): #0~7\n",
    "    if m_l[j] in dic: #ex) 10 in dic\n",
    "        print(1, end=' ')\n",
    "    else:\n",
    "        print(0, end=' ')"
   ]
  },
  {
   "cell_type": "code",
   "execution_count": 7,
   "id": "215eb95c-464a-47b8-8b70-d0bd02fd5e2f",
   "metadata": {},
   "outputs": [
    {
     "name": "stdin",
     "output_type": "stream",
     "text": [
      " 5 11\n",
      " abc\n",
      " bcd\n",
      " cde\n",
      " def\n",
      " jkjk\n",
      " abc\n",
      " bcd\n",
      " cde\n",
      " def\n",
      " ldi\n",
      " ewrn\n",
      " cvndjso\n",
      " werjds\n",
      " df\n",
      " sdf\n",
      " jh\n"
     ]
    },
    {
     "name": "stdout",
     "output_type": "stream",
     "text": [
      "4\n"
     ]
    }
   ],
   "source": [
    "# 2. 14425 문자열 집합\n",
    "n, m = map(int, input().split()) #5 11\n",
    "s = set([input() for _ in range(n)]) #s는 집합이라 했으므로\n",
    "#print(s) #{'',''}꼴\n",
    "count = 0\n",
    "for i in range(m):\n",
    "    s_ = input() #m의 문자열은 input 받자마자 집합s랑 비교해서 카운트\n",
    "    if s_ in s:\n",
    "        count += 1\n",
    "print(count)"
   ]
  },
  {
   "cell_type": "code",
   "execution_count": 9,
   "id": "8c5cac7a-1536-4eba-a6db-7198cf935fd5",
   "metadata": {},
   "outputs": [
    {
     "name": "stdin",
     "output_type": "stream",
     "text": [
      " 4\n",
      " baha enter\n",
      " asker enter\n",
      " baha leave\n",
      " atwk enter\n"
     ]
    },
    {
     "name": "stdout",
     "output_type": "stream",
     "text": [
      "atwk\n",
      "asker\n"
     ]
    }
   ],
   "source": [
    "# 3. 7785 회사에 있는 사람\n",
    "'''딕셔너리 기본 유형 문제'''\n",
    "n = int(input())\n",
    "dic = dict() #1)딕셔너리\n",
    "for _ in range(n):\n",
    "    name, state = input().split()\n",
    "    \n",
    "    if state == 'enter': #2)출입시, key:value = name:state로 받음\n",
    "        dic[name] = state\n",
    "    else: #퇴근시, del 딕셔너리[key값] 으로 삭제하며 아무것도 반환 않음 / pop(key값)은 삭제 후 해당 value를 반환\n",
    "        del dic[name]\n",
    "\n",
    "dic = sorted(dic.keys(), reverse=True) #사전 역순 정렬\n",
    "\n",
    "for key in dic:\n",
    "    print(key)"
   ]
  },
  {
   "cell_type": "code",
   "execution_count": 22,
   "id": "228bcc7c-1737-44e1-a6fb-91124496aa6b",
   "metadata": {},
   "outputs": [
    {
     "name": "stdin",
     "output_type": "stream",
     "text": [
      " 3 2\n",
      " abc\n",
      " def\n",
      " ghi\n",
      " 1\n"
     ]
    },
    {
     "name": "stdout",
     "output_type": "stream",
     "text": [
      "abc\n"
     ]
    },
    {
     "name": "stdin",
     "output_type": "stream",
     "text": [
      " def\n"
     ]
    },
    {
     "name": "stdout",
     "output_type": "stream",
     "text": [
      "2\n"
     ]
    }
   ],
   "source": [
    "# 4. 1620 나는야 포켓몬 마스터 이다솜\n",
    "'''dic()을 하나만 만들고 value로부터 key값 1개만을 갖고오는 방법은 없을까?'''\n",
    "n, m = map(int, input().split()) #26 5\n",
    "dic = dict()\n",
    "index = dict()\n",
    "for i in range(1, n+1): #{1:'abc', 2:'def', ...}꼴\n",
    "    name = input()\n",
    "    dic[i] = name\n",
    "    index[name] = i\n",
    "for j in range(m):\n",
    "    answer = input()\n",
    "    if answer.isdigit(): #isdigit():숫자형태 / .isalpha():알파벳형태\n",
    "        print(dic[int(answer)])\n",
    "    else:\n",
    "        print(index[answer])"
   ]
  },
  {
   "cell_type": "code",
   "execution_count": 47,
   "id": "68002c87-1316-48b2-a99e-4e9255f1b541",
   "metadata": {},
   "outputs": [
    {
     "name": "stdin",
     "output_type": "stream",
     "text": [
      " 5\n",
      " 6 3 2 10 10\n",
      " 3\n",
      " 10 9 2\n"
     ]
    },
    {
     "name": "stdout",
     "output_type": "stream",
     "text": [
      "{6: 1, 3: 1, 2: 1, 10: 2}\n",
      "2 0 1 "
     ]
    }
   ],
   "source": [
    "# 5. 10816 숫자 카드2\n",
    "'''이분탐색bisect(logN)로 풀겠다는 생각은 어떻게 떠올릴까'''\n",
    "n = int(input())\n",
    "n_ = list(map(int, input().split())) #6 3 2 10 10 10 -10 -10 7 3\n",
    "m = int(input())\n",
    "m_ = list(map(int, input().split())) #10 9 -5 2 3 4 5 -10\n",
    "'''시간초과\n",
    "    for i in range(m):\n",
    "    if m_[i] in n_:\n",
    "        print(n_.count(m_[i]), end= ' ')\n",
    "    else:\n",
    "        print(0, end= ' ')'''\n",
    "dic = dict()\n",
    "for i in n_:\n",
    "    if i in dic:\n",
    "        dic[i] += 1 #{6:1, 3:2, 2:1, 10:3, -10:2, 7:3}\n",
    "    else:\n",
    "        dic[i] = 1\n",
    "for j in m_:\n",
    "    if j in dic:\n",
    "        print(dic[j], end=' ')\n",
    "    else:\n",
    "        print(0, end=' ')"
   ]
  },
  {
   "cell_type": "code",
   "execution_count": 62,
   "id": "59609318-a2fd-4d70-992c-62b98dc51e46",
   "metadata": {},
   "outputs": [
    {
     "name": "stdin",
     "output_type": "stream",
     "text": [
      " 3 4\n",
      " a\n",
      " b\n",
      " c\n",
      " a\n",
      " c\n",
      " d\n",
      " e\n"
     ]
    },
    {
     "name": "stdout",
     "output_type": "stream",
     "text": [
      "2\n",
      "a\n",
      "c\n"
     ]
    }
   ],
   "source": [
    "# 6. 1764 듣보잡\n",
    "'''in set()일때 hashtable을 이용하므로 O(1)이지만, in list()일때 O(N)이다.\n",
    "set()에서 같은 원소값을 묶을 때 그냥 & 하면 된다.\n",
    "'''\n",
    "'''\n",
    "for i in list: 시간초과\n",
    "n, m = map(int, input().split())\n",
    "n_ = [input() for _ in range(n)]\n",
    "m_ = [input() for _ in range(m)]\n",
    "for i in n_:\n",
    "    if i in m_:\n",
    "        print(i)\n",
    "'''\n",
    "\n",
    "n, m = map(int, input().split())\n",
    "n_ = set([input() for _ in range(n)])\n",
    "m_ = set([input() for _ in range(m)])\n",
    "answer = sorted(list(n_&m_)) #set()의 원소를 교집합&으로 묶고 오름차순배열화\n",
    "print(len(answer))\n",
    "for i in answer:\n",
    "    print(i)"
   ]
  },
  {
   "cell_type": "code",
   "execution_count": 106,
   "id": "ff8f02ad-26bd-45bb-8b72-0b4e321c0461",
   "metadata": {},
   "outputs": [
    {
     "name": "stdin",
     "output_type": "stream",
     "text": [
      " 3\n",
      " 1 2 4\n",
      " 2 3 4 5 6\n"
     ]
    },
    {
     "name": "stdout",
     "output_type": "stream",
     "text": [
      "4\n"
     ]
    }
   ],
   "source": [
    "# 7. 1269 대칭 차집합\n",
    "a, b = map(int, input().split()) #3 5\n",
    "a_ = set(map(int, input().split())) #1 2 4\n",
    "b_ = set(map(int, input().split())) #2 3 4 5 6\n",
    "print(len(a_-b_)+len(b_-a_))\n",
    "\n",
    "'''zenith풀이'''\n",
    "_ = input()\n",
    "a = set(map(int, input().split()))\n",
    "a ^= set(map(int, input().split()))\n",
    "print(len(a))"
   ]
  },
  {
   "cell_type": "code",
   "execution_count": 104,
   "id": "476c35c6-eee8-4cb8-b9a9-f22c4142651f",
   "metadata": {
    "scrolled": true
   },
   "outputs": [
    {
     "name": "stdout",
     "output_type": "stream",
     "text": [
      "{1, 2, 3, 4, 5, 6} {1, 2, 3, 4, 5, 6}\n",
      "{2, 4} {2, 4}\n",
      "{1} {1}\n",
      "{1, 3, 5, 6} {1, 3, 5, 6}\n",
      "False False False\n",
      "False\n",
      "False False False\n",
      "False\n",
      "False False\n",
      "{1, 2, 4, 5}\n",
      "{1, 2, 4}\n",
      "{1, 2}\n",
      "{1, 3, 4, 5, 6}\n"
     ]
    }
   ],
   "source": [
    "'''집합(set)연산자 정리'''\n",
    "a = {1,2,4}\n",
    "b = {2,3,4,5,6}\n",
    "\n",
    "while True:\n",
    "    #집합연산자\n",
    "    print(set.union(a,b), a|b) #합집합\n",
    "    print(set.intersection(a,b), a&b) #교집합\n",
    "    print(set.difference(a,b), a-b) #차집합\n",
    "    print(set.symmetric_difference(a,b), a^b) #대칭차집합\n",
    "    #집합연산자(2): 리턴값 TrueorFalse\n",
    "    print(set.issubset(a,b), a.issubset(b), a<=b) #부분집합(두set이 같아도 True)\n",
    "    print(a<b) #진부분집합: 부분집합이지만 같지 않을때에만 True\n",
    "    print(set.issuperset(a,b), a.issuperset(b), a>=b) #상위집합\n",
    "    print(a>b) #진상위집합\n",
    "    print(set.isdisjoint(a,b), a.isdisjoint(b)) #겹치는요소가 있으면, False\n",
    "\n",
    "    #집합연산 후 할당연산자(=)사용\n",
    "    a|={5}; #a.update({5})\n",
    "    print(a) #{1,2,4,5,6}\n",
    "    a-={5}; #a.difference_update({5})\n",
    "    print(a) #{1,2,4}\n",
    "    a&={1,2}; #a.intersection_update({1,2})\n",
    "    print(a) #{1,2}\n",
    "    a^=b; #a.symmetric_difference_update(b)\n",
    "    print(a) #{1,2,4,5,6}\n",
    "    break"
   ]
  },
  {
   "cell_type": "code",
   "execution_count": 105,
   "id": "5e0178e8-57ac-429c-8b54-b95eabfabd7c",
   "metadata": {},
   "outputs": [
    {
     "name": "stdin",
     "output_type": "stream",
     "text": [
      " ababc\n"
     ]
    },
    {
     "name": "stdout",
     "output_type": "stream",
     "text": [
      "12\n"
     ]
    }
   ],
   "source": [
    "# 8. 11478 서로 다른 부분 문자열의 개수\n",
    "'''리스트슬라이싱써야되나? 틀렸습니다 뜸\n",
    "왠지 out of range가 뜨기도 하니 중간값을 잡고 양끝으로 넓혀가듯이 탐색하면 될거 같은데'''\n",
    "s = list(input())\n",
    "result = []\n",
    "for i in range(len(s)):\n",
    "    result.append(s[i])\n",
    "for i in range(1,len(s)):\n",
    "    result.append(s[i-1]+s[i])\n",
    "for i in range(2,len(s)):\n",
    "    result.append(s[i-2]+s[i-1]+s[i])\n",
    "for i in range(3, len(s)):\n",
    "    result.append(s[i-3]+s[i-2]+s[i-1]+s[i])\n",
    "for i in range(4, len(s)):\n",
    "    result.append(s[i-4]+s[i-3]+s[i-2]+s[i-1]+s[i])\n",
    "answer = set(result)\n",
    "print(len(answer))"
   ]
  },
  {
   "cell_type": "markdown",
   "id": "96bd012d-adda-421d-9af6-7afe850b9710",
   "metadata": {},
   "source": [
    "### 15단계 약수, 배수와 소수 2 (9) "
   ]
  },
  {
   "cell_type": "code",
   "execution_count": null,
   "id": "f9407aed-c609-458a-8002-15aeba4be63d",
   "metadata": {},
   "outputs": [],
   "source": [
    "#1. 1934 최소공배수\n",
    "'''재귀함수로 구현, 포인트는 lcm=a*b/gcd\n",
    "import sys\n",
    "sys.setrecursionlimit(10**6) <-1.RecursionError해결책 : 재귀함수깊이늘리기\n",
    "\n",
    "def gcd(a,b): #Greatest Common Divisor\n",
    "    if b != 0 and a % b == 0: # b!=0 안할 시 ZeroDivisionError 발생\n",
    "        return b\n",
    "    else:\n",
    "        return gcd(b, a&b)\n",
    "def gcd(a,b): #Greatest Common Divisor <-2.RecursionError해결책 : 재귀대신 반복문사용\n",
    "    while b>0:\n",
    "        a,b = b, a%b\n",
    "    return a\n",
    "        \n",
    "for i in range(int(input())): #RecursionError: python3기준 최대 재귀 깊이 1000\n",
    "    a, b = map(int, input().split())\n",
    "    def lcm(a,b): #Least Common Multiple\n",
    "        return a*b/gcd(a,b)\n",
    "    print(int(lcm(a,b)))'''\n",
    "\n",
    "def gcd(a,b): #RecursionError해결책 : 재귀대신 반복문사용\n",
    "    while b>0:\n",
    "        a,b = b, a%b\n",
    "    return a\n",
    "for i in range(int(input())):\n",
    "    a, b = map(int, input().split())\n",
    "    def lcm(a,b):\n",
    "        return a*b/gcd(a,b)\n",
    "    print(int(lcm(a,b)))\n",
    "    \n",
    "import math #math라이브러리: https://docs.python.org/ko/3/library/math.html\n",
    "for i in range(int(input())):\n",
    "    a, b = map(int, input().split())\n",
    "    print(math.lcm(a,b))"
   ]
  },
  {
   "cell_type": "code",
   "execution_count": 131,
   "id": "b5017c73-c930-47fc-a02a-f9b20b044e5c",
   "metadata": {},
   "outputs": [
    {
     "name": "stdin",
     "output_type": "stream",
     "text": [
      " 10 6\n"
     ]
    },
    {
     "name": "stdout",
     "output_type": "stream",
     "text": [
      "30\n",
      "30\n"
     ]
    }
   ],
   "source": [
    "# 2. 13241 최소공배수\n",
    "import math\n",
    "a,b = map(int, input().split())\n",
    "print(math.lcm(a,b))\n",
    "\n",
    "''' lcm=a*b/gcd\n",
    "def gcd(a,b): #10 6\n",
    "    while b>0:\n",
    "        a,b = b,a%b #6 4, 4 2, 2 0 \n",
    "    return a\n",
    "def lcm(a,b):\n",
    "    return a*b/gcd(a,b)\n",
    "print(int(lcm(a,b)))'''"
   ]
  },
  {
   "cell_type": "code",
   "execution_count": 157,
   "id": "2d15f4cf-76f6-452f-b4f9-e3c932fb49b8",
   "metadata": {},
   "outputs": [
    {
     "name": "stdin",
     "output_type": "stream",
     "text": [
      " 2 7\n",
      " 3 5\n"
     ]
    },
    {
     "name": "stdout",
     "output_type": "stream",
     "text": [
      "31 35\n"
     ]
    }
   ],
   "source": [
    "#3. 1735 분수 합\n",
    "import math\n",
    "a,a1 = map(int, input().split())\n",
    "b,b1 = map(int, input().split())\n",
    "#print(a*b1+b*a1, a1*b1) #자/모 약분 여부를 안 넣어줘서 틀림\n",
    "numerator = a*b1+b*a1 #자\n",
    "denominator = a1*b1 #모\n",
    "gcd = math.gcd(numerator, denominator)\n",
    "#print(gcd)\n",
    "if math.gcd(numerator, denominator) > 1:\n",
    "    print(int(numerator/gcd), int(denominator/gcd))\n",
    "else:\n",
    "    print(int(numerator), int(denominator))"
   ]
  },
  {
   "cell_type": "code",
   "execution_count": 175,
   "id": "fdb41e21-e39c-4455-9170-ff51257ad6bc",
   "metadata": {},
   "outputs": [
    {
     "name": "stdin",
     "output_type": "stream",
     "text": [
      " 3\n",
      " 9\n",
      " 3\n",
      " 1\n"
     ]
    },
    {
     "name": "stdout",
     "output_type": "stream",
     "text": [
      "[1, 3, 9]\n"
     ]
    }
   ],
   "source": [
    "# 4. 2485 가로수\n",
    "'''모든 가로수가 같은 간격이 되도록 새로 심어야 하는 가로수의 최소 갯수'''\n",
    "n = int(input()) #현재 심어져있는 나무 그루 4\n",
    "t = sorted(set(int(input()) for i in range(n)) #1 3 7 13\n",
    "print(t) #5 9 11 => 3\n"
   ]
  },
  {
   "cell_type": "code",
   "execution_count": 189,
   "id": "245d979b-0626-46e8-ae58-4abe19b0a6c9",
   "metadata": {},
   "outputs": [],
   "source": [
    "def prime(a): #2부터(a-1)까지의 수로 나누기\n",
    "    for i in range(2,a):\n",
    "        if a%i != 0:\n",
    "            return a\n",
    "        else:\n",
    "            return None"
   ]
  },
  {
   "cell_type": "code",
   "execution_count": 1,
   "id": "6e3a5308-2b70-4740-a57c-10d02fc93f79",
   "metadata": {},
   "outputs": [
    {
     "name": "stdin",
     "output_type": "stream",
     "text": [
      " 3\n",
      " 5\n"
     ]
    },
    {
     "name": "stdout",
     "output_type": "stream",
     "text": [
      "5\n"
     ]
    },
    {
     "name": "stdin",
     "output_type": "stream",
     "text": [
      " 6\n"
     ]
    },
    {
     "name": "stdout",
     "output_type": "stream",
     "text": [
      "7\n"
     ]
    },
    {
     "name": "stdin",
     "output_type": "stream",
     "text": [
      " 99\n"
     ]
    },
    {
     "name": "stdout",
     "output_type": "stream",
     "text": [
      "101\n"
     ]
    }
   ],
   "source": [
    "# 5. 4134 다음 소수\n",
    "'''소수함수정의'''\n",
    "def prime(a): #2부터(a-1)까지의 수로 나누기\n",
    "    for i in range(2,a):\n",
    "        if a%i == 0:\n",
    "            return False\n",
    "    return True\n",
    "'''시간초과'''\n",
    "n = int(input())\n",
    "for _ in range(n):\n",
    "    n = int(input())\n",
    "    while n <= 4*10**9: #소수일때,\n",
    "        if prime(n): #소수일때,\n",
    "            print(n)\n",
    "            break #break안하면 loop걸림\n",
    "        else:\n",
    "            n += 1"
   ]
  },
  {
   "cell_type": "code",
   "execution_count": 17,
   "id": "b9d5b2d0-21b5-4521-a753-7cd67b5b98cb",
   "metadata": {},
   "outputs": [
    {
     "name": "stdin",
     "output_type": "stream",
     "text": [
      " 1 16\n"
     ]
    },
    {
     "name": "stdout",
     "output_type": "stream",
     "text": [
      "1\n",
      "2\n",
      "3\n",
      "5\n",
      "7\n",
      "11\n",
      "13\n"
     ]
    }
   ],
   "source": [
    "# 6. 1929 소수 구하기\n",
    "'''정수론적 관점에서\n",
    "소수란? 임의의 양의 정수 m이 루트m 보다 작거나 같은 약수를 가지지 않으면 m은 소수.\n",
    "참고: https://8iggy.tistory.com/21\n",
    "\n",
    "math라이브러리에서\n",
    "- math.sqrt(x)는 x의제곱근(x**0.5)\n",
    "- math.pow(x,y)는 x의y승(x**y)을 반환\n",
    "- SQL에서 select sqrt(20/pi()); pi()는 원주율을 의미하며, 반지름을 구하는 공식이다.\n",
    "참고: https://docs.aws.amazon.com/ko_kr/clean-rooms/latest/sql-reference/r_SQRT.html\n",
    "'''\n",
    "import math\n",
    "def prime(x):\n",
    "    if x<2: return False #1 is not prime: 예외처리 해주지 않으면 틀림\n",
    "    for i in range(2,int(math.sqrt(x))+1): #2에서 n-1까지의 수로 나눠지지 않았을 때\n",
    "        if x%i == 0:\n",
    "            return False\n",
    "    return True\n",
    "\n",
    "m, n = map(int, input().split())\n",
    "for i in range(m, n+1):\n",
    "    if prime(i):\n",
    "        print(i)\n",
    "    else:\n",
    "        continue"
   ]
  },
  {
   "cell_type": "code",
   "execution_count": 37,
   "id": "2fdd649a-753b-4231-8756-3238d52eafa3",
   "metadata": {},
   "outputs": [
    {
     "name": "stdin",
     "output_type": "stream",
     "text": [
      " 0\n"
     ]
    }
   ],
   "source": [
    "#7. 4948 베르트랑 공준\n",
    "'''공준(postulate): 가정,조건\n",
    "Bertrand's postulate: (정수론에서 소수의 분포에 관한 정리로,)\n",
    "임의의 정수 n>=2에 대해 n<p<2n인 소수p가 항상 존재한다.\n",
    "'''\n",
    "'''으아아!! 시간초과!! while문 안을 if n <= 123456:로 감싸줘도 시간초과 발생'''\n",
    "import math\n",
    "def prime(x):\n",
    "    if x<2: return False\n",
    "    for i in range(2, int(math.sqrt(x))+1):\n",
    "        if x%i == 0:\n",
    "            return False\n",
    "    return True\n",
    "    \n",
    "while True:\n",
    "    n = int(input()) #n입력 먼저 받고, <n=0이면 break> 예외처리를 추가\n",
    "    if n == 0:\n",
    "        break\n",
    "    cnt = 0 #소수의 개수 담을 객체 0으로 초기화\n",
    "    for i in range(n+1, 2*n+1):\n",
    "        if prime(i):\n",
    "            cnt += 1\n",
    "    print(cnt)"
   ]
  },
  {
   "cell_type": "code",
   "execution_count": 117,
   "id": "4c1ef9b1-9d99-4c89-bd0c-5cc7a4580283",
   "metadata": {},
   "outputs": [
    {
     "name": "stdin",
     "output_type": "stream",
     "text": [
      " 5\n",
      " 6\n"
     ]
    },
    {
     "name": "stdout",
     "output_type": "stream",
     "text": [
      "1\n"
     ]
    },
    {
     "name": "stdin",
     "output_type": "stream",
     "text": [
      " 8\n"
     ]
    },
    {
     "name": "stdout",
     "output_type": "stream",
     "text": [
      "1\n"
     ]
    },
    {
     "name": "stdin",
     "output_type": "stream",
     "text": [
      " 10\n"
     ]
    },
    {
     "name": "stdout",
     "output_type": "stream",
     "text": [
      "2\n"
     ]
    },
    {
     "name": "stdin",
     "output_type": "stream",
     "text": [
      " 12\n"
     ]
    },
    {
     "name": "stdout",
     "output_type": "stream",
     "text": [
      "1\n"
     ]
    },
    {
     "name": "stdin",
     "output_type": "stream",
     "text": [
      " 100\n"
     ]
    },
    {
     "name": "stdout",
     "output_type": "stream",
     "text": [
      "6\n"
     ]
    }
   ],
   "source": [
    "# 8. 17103 골드바흐 파티션\n",
    "'''Goldbach's conjecture\n",
    "2보다 큰 모든 짝수는 두 개의 소수(Prime number)의 합으로 표시할 수 있다.\n",
    "ex)4=2+2 / 6=3+3 / 8=3+5 / 10=3+7=5+5 / 12=5+7 / ...\n",
    "'''\n",
    "'''중복조합 사용 시, 메모리초과'''\n",
    "from itertools import combinations_with_replacement #중복조합\n",
    "import math\n",
    "def prime(x):\n",
    "    if x<2: return False\n",
    "    for i in range(2, int(math.sqrt(x))+1):\n",
    "        if x%i == 0:\n",
    "            return False\n",
    "    return True\n",
    "\n",
    "m = int(input())\n",
    "for _ in range(m):\n",
    "    n = int(input()) #n은 짝수\n",
    "    arr = []\n",
    "    for i in range(2,n+1):\n",
    "        if prime(i):\n",
    "            arr.append(i)\n",
    "    #print(arr)\n",
    "    result = 0\n",
    "    for a,b in list(combinations_with_replacement(arr,2)):\n",
    "        if a+b == n:\n",
    "            result += 1\n",
    "    print(result)"
   ]
  },
  {
   "cell_type": "code",
   "execution_count": 40,
   "id": "78d220b3-a8d7-4b8b-b627-f8535d23ef49",
   "metadata": {},
   "outputs": [
    {
     "name": "stdin",
     "output_type": "stream",
     "text": [
      " 36\n"
     ]
    },
    {
     "name": "stdout",
     "output_type": "stream",
     "text": [
      "6\n"
     ]
    }
   ],
   "source": [
    "# 9. 13909 창문 닫기\n",
    "'''                              n\n",
    "1,1 1 = 1 (s)\n",
    "2,10 1      ~    \n",
    "3,100 1 = 3 (e)                  2\n",
    "4,1001 2 = 1+3 (s)\n",
    "5,10010 2\n",
    "6,100100 2        ~\n",
    "7,1001000 2\n",
    "8,10010000 2 = 3+5 (e)           3\n",
    "9,100100001 3 = 1+3+5 (s)\n",
    "10,1001000010 3            ~\n",
    "...\n",
    "15,100100001000000 3 = 3+5+7 (e) 4\n",
    "16,1001000010000001 4 = 1+3+5+7 (s)\n",
    "...'''\n",
    "#an = 1+3+5+7+9 = 2n-1 (n>=2) : \n",
    "#Sn = n^2 -1 (n>=2) : Sn번째 숫자까지, 열려있는 창문 수는 n-1\n",
    "import math\n",
    "n = int(input())\n",
    "#for i in range(2, int(math.sqrt(n+1))+1): 여기서 계속 끝end점만 제대로 출력되고, 시작start점에 대한 정보를 찾기 어려웠음\n",
    "#    print(int(math.sqrt(n+1))-1)\n",
    "\n",
    "m = int(math.sqrt(n))\n",
    "if math.pow(m,2) <= n <= math.pow(m+1,2)-1: # (s)~(e)\n",
    "    print(m)"
   ]
  },
  {
   "cell_type": "code",
   "execution_count": null,
   "id": "3725030e-b8a7-4172-979e-1fc022daec49",
   "metadata": {},
   "outputs": [],
   "source": [
    "# 9. 13909 창문 닫기\n",
    "'''알아보기 쉽게 다시 정리했습니다.'''\n",
    "#1st. 입력값n이 속한 범위를 찾아내기(시작start과 끝end 둘 다 알아내야 함)\n",
    "#2nd. n에 대한 열려있는 창문수m의 상관관계를 찾아내기\n",
    "import math\n",
    "n=int(input())\n",
    "m=int(math.sqrt(n)) #n과 m의 상관관계\n",
    "if math.pow(m,2)<=n<=math.pow(m+1,2)-1: #n이 속한 범위\n",
    "    print(m)\n",
    "    \n",
    "'''\n",
    "문제풀이 중 교착상태에 걸린 이유?\n",
    "1st. 끝end점 기준으로만 생각해서 시작start점에 대한 값이 출력이 잘못되서 나옴 (시간소요:90%이상)\n",
    "2nd. 입력값n과 m의 상관관계를 찾지 못함 (시간소요:10%)\n",
    "'''\n",
    "\n",
    "'''\n",
    "다른사람의 풀이\n",
    "1. n과 m의 상관관계만 구한다면, 범위는 필요없어진다.\n",
    "2. 1을 결과로 갖는 창문은 어떤수m의 제곱수이므로, n제곱수의 제곱근m을 구해주면 된다.\n",
    "'''"
   ]
  },
  {
   "cell_type": "markdown",
   "id": "edb15dc8-8d22-4f41-9bc1-3f9a38d8d874",
   "metadata": {},
   "source": [
    "### 16단계 스택, 큐, 덱 (11)"
   ]
  },
  {
   "cell_type": "code",
   "execution_count": 65,
   "id": "2f2028c4-903c-4c18-8b4e-90f03efe4814",
   "metadata": {},
   "outputs": [
    {
     "name": "stdin",
     "output_type": "stream",
     "text": [
      " 9\n",
      " 4\n"
     ]
    }
   ],
   "source": [
    "# 1. 28278 스택2\n",
    "import sys\n",
    "n = int(sys.stdin.readline()) #9, int(input())하면, 시간초과 발생\n",
    "stack = []\n",
    "for _ in range(n): #0~8\n",
    "    m = list(map(int, sys.stdin.readline().split())) #list형태가 아니면, ValueError 발생\n",
    "    if m[0] == 1:\n",
    "        stack.append(m[1])\n",
    "    elif m[0] == 2:\n",
    "        if len(stack) != 0:\n",
    "            print(stack.pop())\n",
    "        else:\n",
    "            print(-1)\n",
    "    elif m[0] == 3:\n",
    "        print(len(stack))\n",
    "    elif m[0] == 4:\n",
    "        if len(stack) != 0:\n",
    "            print(0)\n",
    "        else:\n",
    "            print(1)\n",
    "    elif m[0] == 5:\n",
    "        if len(stack) != 0:\n",
    "            print(stack[-1])\n",
    "        else:\n",
    "            print(-1)\n",
    "    else:\n",
    "        break"
   ]
  },
  {
   "cell_type": "code",
   "execution_count": null,
   "id": "fbf6dcb4-1ff2-471b-94be-df32850c2c05",
   "metadata": {},
   "outputs": [],
   "source": [
    "# 2. 10773 제로\n",
    "n = int(input())\n",
    "stack = []\n",
    "for _ in range(n):\n",
    "    m = int(input())\n",
    "    if m != 0:\n",
    "        stack.append(m)\n",
    "    else:\n",
    "        stack.pop()\n",
    "print(stack)"
   ]
  },
  {
   "cell_type": "code",
   "execution_count": 64,
   "id": "0277bb0c-2f90-4797-b7f9-7f40fd386799",
   "metadata": {},
   "outputs": [
    {
     "name": "stdin",
     "output_type": "stream",
     "text": [
      " 1\n",
      " (())(\n"
     ]
    },
    {
     "name": "stdout",
     "output_type": "stream",
     "text": [
      "(\n",
      "No\n"
     ]
    }
   ],
   "source": [
    "# 3. 9012 괄호\n",
    "'''조건 걸기가 어렵네'''\n",
    "'''t = int(input())\n",
    "for i in range(t):\n",
    "    vps = list(input()) #split()필요없음 : 무지성으로 넣지 말 것!\n",
    "    #print(vps[-1])\n",
    "    if vps.count('(') != vps.count(')') or vps[0] != '(' or vps[-1] != ')':\n",
    "        print('No')\n",
    "    else:\n",
    "        print('YES')'''\n",
    "\n",
    "'''append()와 pop()이 상쇄되어 일정한 값을 유지하게끔 조건 설정'''\n",
    "t = int(input())\n",
    "for i in range(t):\n",
    "    vps = list(input())\n",
    "    #print(vps)\n",
    "    cnt = 0 #'('과 ')'을 담아줄 객체 생성\n",
    "    for j in range(len(vps)):\n",
    "        if vps[j] == '(':\n",
    "            cnt += 1\n",
    "        elif vps[j] == ')':\n",
    "            cnt -= 1\n",
    "        #print(cnt) #())(()의 경우: 미해결..인 줄 알았는데..?!\n",
    "        if cnt < 0: #-1이 되는 순간 '())'형태가 되므로 잘못된 형식이 된다\n",
    "            print('NO')\n",
    "            break\n",
    "    if cnt == 0:\n",
    "        print('YES')\n",
    "    elif cnt > 0:\n",
    "        print('NO')"
   ]
  },
  {
   "cell_type": "code",
   "execution_count": 41,
   "id": "c2a4f2e8-11af-46ed-8205-481ae9e21fc1",
   "metadata": {},
   "outputs": [
    {
     "name": "stdin",
     "output_type": "stream",
     "text": [
      " .\n"
     ]
    }
   ],
   "source": [
    "# 4. 4949 균형잡힌 세상\n",
    "'''\n",
    "계속되는 NameError발생.........\n",
    "from line13 to line18(elif ~ break)내용: 잘 체크할 것'''\n",
    "while True:\n",
    "    a = input() #list로 받아버리면, 마침표'.'가 입력됐을 때, break를 할 수 X\n",
    "    #print(s)\n",
    "    arr = []\n",
    "    if a == \".\": #'.'로 써서 NameError가 뜨나;그런가..?\n",
    "        break\n",
    "       \n",
    "    for i in a:\n",
    "        if i == '[' or i == '(':\n",
    "            arr.append(i)\n",
    "        elif i == ']':\n",
    "            if len(arr) != 0 and arr[-1] == '[': #len(arr) != 0 조건들어가야\n",
    "                arr.pop()\n",
    "            else:\n",
    "                arr.append(']')\n",
    "                break\n",
    "        elif i == ')':\n",
    "            if len(arr) != 0 and arr[-1] == '(':\n",
    "                arr.pop() #arra.pop()..아 오타.................\n",
    "            else:\n",
    "                arr.append(')')\n",
    "                break\n",
    "                \n",
    "    if len(arr) == 0:\n",
    "        print('yes')\n",
    "    else:\n",
    "        print('no')\n",
    "    '''\n",
    "    아래는 '잘못된 접근법'. <9012 괄호>처럼 접근하려했지만, 애매했다.\n",
    "    그래서, str로 받아 list에 append/pop하는 방식으로 접근했다.\n",
    "    \n",
    "    for i in range(len(s)):\n",
    "        if s[i] == '(':\n",
    "            cnt += 1\n",
    "        elif s[i] == ')':\n",
    "            cnt -= 1\n",
    "        elif s[i] == '[':\n",
    "            cnt += 2\n",
    "        elif s[i] == ']':\n",
    "            cnt -= 2\n",
    "        if cnt < 0:\n",
    "            print('NO')\n",
    "            break\n",
    "    if cnt == 0:\n",
    "        print('YES')\n",
    "    elif cnt > 0:\n",
    "        print('NO')'''"
   ]
  },
  {
   "cell_type": "code",
   "execution_count": null,
   "id": "a3dabcb9-0d9b-404b-8c14-5e5787c74a6c",
   "metadata": {},
   "outputs": [],
   "source": [
    "# 5-1. 10845 큐\n",
    "'''12789 도키도키 간식드리미 풀기 전 단계의 queue문제'''\n",
    "from collections import deque\n",
    "import sys\n",
    "n = int(sys.stdin.readline().strip())\n",
    "dq = deque()\n",
    "\n",
    "for i in range(n):\n",
    "    l = sys.stdin.readline().strip().split()\n",
    "    if l[0] == 'push':\n",
    "        dq.append(l[1])\n",
    "    elif l[0] == 'pop':\n",
    "        if len(dq) != 0:\n",
    "            print(dq.popleft())\n",
    "        else:\n",
    "            print(-1)\n",
    "    elif l[0] == 'size':\n",
    "        print(len(dq))\n",
    "    elif l[0] == 'empty':\n",
    "        if len(dq) == 0:\n",
    "            print(1)\n",
    "        else:\n",
    "            print(0)\n",
    "    elif l[0] == 'front':\n",
    "        if len(dq) != 0:\n",
    "            print(dq[0])\n",
    "        else:\n",
    "            print(-1)\n",
    "    elif l[0] == 'back':\n",
    "        if len(dq) != 0:\n",
    "            print(dq[-1])\n",
    "        else:\n",
    "            print(-1)"
   ]
  },
  {
   "cell_type": "code",
   "execution_count": 63,
   "id": "dd34ce38-209e-4273-83e4-21435d2b8fc2",
   "metadata": {},
   "outputs": [
    {
     "name": "stdin",
     "output_type": "stream",
     "text": [
      " 5\n",
      " 5 4 1 3 2\n"
     ]
    },
    {
     "name": "stdout",
     "output_type": "stream",
     "text": [
      "Nice\n"
     ]
    }
   ],
   "source": [
    "# 5-2. 12789 도키도키 간식드리미\n",
    "'''list형식의 입력값 외에 하나 더 list를 생성해야'''\n",
    "'''sys.exit() 특징\n",
    "1) 종료코드를 반환하며 기본값은 0이다.\n",
    "2) return은 함수의 종료이며, sys.exit()은 더 큰 범위인 스크립트 전체가 종료된다.\n",
    "3) break는 반복문을 중단할때 사용한다.'''\n",
    "import sys\n",
    "n = int(input()) #5\n",
    "wait = list(map(int, input().split())) #5 4 1 3 2\n",
    "tmp = []\n",
    "target = 1\n",
    "for i in wait:\n",
    "    tmp.append(i)\n",
    "    while tmp and tmp[-1] == target: #tmp끝원소가 1일때(->2->3..점차증가)\n",
    "        tmp.pop() #while list: if list is not None and some value present in it\n",
    "        target += 1\n",
    "        #print(tmp)\n",
    "    if len(tmp) > 1 and tmp[-1] > tmp[-2]:\n",
    "        print('Sad')\n",
    "        sys.exit() #그냥 break 시 틀렸다고 나옴.\n",
    "if tmp == 0:\n",
    "    print('Sad')\n",
    "else:\n",
    "    print('Nice')"
   ]
  },
  {
   "cell_type": "code",
   "execution_count": 65,
   "id": "57d3a0fb-2b05-4918-ac11-11d7636eed27",
   "metadata": {},
   "outputs": [
    {
     "ename": "ValueError",
     "evalue": "invalid literal for int() with base 10: ''",
     "output_type": "error",
     "traceback": [
      "\u001b[1;31m---------------------------------------------------------------------------\u001b[0m",
      "\u001b[1;31mValueError\u001b[0m                                Traceback (most recent call last)",
      "Cell \u001b[1;32mIn[65], line 4\u001b[0m\n\u001b[0;32m      2\u001b[0m \u001b[38;5;28;01mfrom\u001b[39;00m \u001b[38;5;21;01mcollections\u001b[39;00m \u001b[38;5;28;01mimport\u001b[39;00m deque\n\u001b[0;32m      3\u001b[0m \u001b[38;5;28;01mimport\u001b[39;00m \u001b[38;5;21;01msys\u001b[39;00m\n\u001b[1;32m----> 4\u001b[0m n \u001b[38;5;241m=\u001b[39m \u001b[38;5;28mint\u001b[39m(sys\u001b[38;5;241m.\u001b[39mstdin\u001b[38;5;241m.\u001b[39mreadline()\u001b[38;5;241m.\u001b[39mstrip())\n\u001b[0;32m      5\u001b[0m dq \u001b[38;5;241m=\u001b[39m deque()\n\u001b[0;32m      7\u001b[0m \u001b[38;5;28;01mfor\u001b[39;00m i \u001b[38;5;129;01min\u001b[39;00m \u001b[38;5;28mrange\u001b[39m(n):\n",
      "\u001b[1;31mValueError\u001b[0m: invalid literal for int() with base 10: ''"
     ]
    }
   ],
   "source": [
    "# 6. 18258 큐2\n",
    "from collections import deque\n",
    "import sys\n",
    "n = int(sys.stdin.readline().strip())\n",
    "dq = deque()\n",
    "\n",
    "for i in range(n):\n",
    "    l = sys.stdin.readline().strip().split()\n",
    "    if l[0] == 'push':\n",
    "        dq.append(l[1])\n",
    "    elif l[0] == 'pop':\n",
    "        if len(dq) != 0:\n",
    "            print(dq.popleft())\n",
    "        else:\n",
    "            print(-1)\n",
    "    elif l[0] == 'size':\n",
    "        print(len(dq))\n",
    "    elif l[0] == 'empty':\n",
    "        if len(dq) == 0:\n",
    "            print(1)\n",
    "        else:\n",
    "            print(0)\n",
    "    elif l[0] == 'front':\n",
    "        if len(dq) != 0:\n",
    "            print(dq[0])\n",
    "        else:\n",
    "            print(-1)\n",
    "    elif l[0] == 'back':\n",
    "        if len(dq) != 0:\n",
    "            print(dq[-1])\n",
    "        else:\n",
    "            print(-1)"
   ]
  },
  {
   "cell_type": "code",
   "execution_count": 86,
   "id": "2d01b35d-2899-413e-9568-70beb81df582",
   "metadata": {},
   "outputs": [
    {
     "name": "stdin",
     "output_type": "stream",
     "text": [
      " 6\n"
     ]
    },
    {
     "name": "stdout",
     "output_type": "stream",
     "text": [
      "4\n"
     ]
    }
   ],
   "source": [
    "# 7. 2164 카드2\n",
    "#4321 -> 243 / 1 -> 42 / 1,3 -> 4 / 1,3,2\n",
    "from collections import deque\n",
    "n = int(input())\n",
    "dq = deque()\n",
    "for i in range(1,n+1):\n",
    "    dq.append(i)\n",
    "#print(dq) #[1,2,3,4,..] :출력비교위함\n",
    "for _ in range(n-1):\n",
    "    dq.popleft()\n",
    "    dq.append(dq.popleft())\n",
    "print(dq[0])"
   ]
  },
  {
   "cell_type": "code",
   "execution_count": 209,
   "id": "245c9ad9-b885-4a5d-a4b1-a8ff67579e69",
   "metadata": {},
   "outputs": [
    {
     "name": "stdin",
     "output_type": "stream",
     "text": [
      " 7 3\n"
     ]
    },
    {
     "name": "stdout",
     "output_type": "stream",
     "text": [
      "<3, 6, 2, 7, 5, 1, 4 >\n"
     ]
    }
   ],
   "source": [
    "# 8. 11866 요세푸스 문제0\n",
    "#(7,3) = 3627514, 원에서 사람이 제거되는 순서 123'456'7 / 3 6 ..\n",
    "'''deque.rotate()를 사용할 줄 아는가?'''\n",
    "'''출력형식이 list가 아닌 <>형태로, f'{}'말고, 절대\"\\b\"를 사용해선 안된다.'''\n",
    "'''참고) https://djm03178.tistory.com/29'''\n",
    "from collections import deque\n",
    "n,k = list(map(int, input().split())) #7 3\n",
    "dq = deque()\n",
    "for i in range(1,n+1):\n",
    "    dq.append(i)\n",
    "#print(dq) #[1,2,3,4,5,6,7]\n",
    "st = \"<\"\n",
    "for i in range(n):\n",
    "    dq.rotate(-k) #dq.rotate():오른쪽방향으로 1칸씩 회전\n",
    "    #print(dq)\n",
    "    st += f'{dq.pop()}, '\n",
    "print(st[:-2].rstrip(),\"\\b>\") #<3, 6, 2, 7, 6, 1, 4>"
   ]
  },
  {
   "cell_type": "code",
   "execution_count": 213,
   "id": "d399d215-47fe-4ac7-baf7-35a09fecd39d",
   "metadata": {},
   "outputs": [
    {
     "name": "stdin",
     "output_type": "stream",
     "text": [
      " 7 3\n"
     ]
    },
    {
     "name": "stdout",
     "output_type": "stream",
     "text": [
      "<3, 6, 2, 7, 5, 1, 4>\n"
     ]
    }
   ],
   "source": [
    "# 8. 11866 요세푸스 문제0\n",
    "#(7,3) = 3627514, 원에서 사람이 제거되는 순서 123'456'7 / 3 6 ..\n",
    "'''deque.rotate()를 사용할 줄 아는가?'''\n",
    "'''출력형식이 list가 아닌 <>형태로, f'{}'말고, .join()을 사용할 줄 아는가?'''\n",
    "from collections import deque\n",
    "n,k = list(map(int, input().split())) #7 3\n",
    "dq = deque()\n",
    "for i in range(1,n+1):\n",
    "    dq.append(i)\n",
    "#print(dq) #[1,2,3,4,5,6,7]\n",
    "st = []\n",
    "for i in range(n):\n",
    "    dq.rotate(-k) #dq.rotate():오른쪽방향으로 1칸씩 회전\n",
    "    #print(dq)\n",
    "    st.append(str(dq.pop())) #str형식으로 바꿔줘야\n",
    "print('<'+ ', '.join(st) +'>')"
   ]
  },
  {
   "cell_type": "code",
   "execution_count": 220,
   "id": "1745bb30-549d-4700-9ea3-9eb5156810b1",
   "metadata": {},
   "outputs": [
    {
     "ename": "ValueError",
     "evalue": "invalid literal for int() with base 10: ''",
     "output_type": "error",
     "traceback": [
      "\u001b[1;31m---------------------------------------------------------------------------\u001b[0m",
      "\u001b[1;31mValueError\u001b[0m                                Traceback (most recent call last)",
      "Cell \u001b[1;32mIn[220], line 5\u001b[0m\n\u001b[0;32m      2\u001b[0m \u001b[38;5;28;01mfrom\u001b[39;00m \u001b[38;5;21;01mcollections\u001b[39;00m \u001b[38;5;28;01mimport\u001b[39;00m deque\n\u001b[0;32m      3\u001b[0m \u001b[38;5;28;01mimport\u001b[39;00m \u001b[38;5;21;01msys\u001b[39;00m\n\u001b[1;32m----> 5\u001b[0m n \u001b[38;5;241m=\u001b[39m \u001b[38;5;28mint\u001b[39m(sys\u001b[38;5;241m.\u001b[39mstdin\u001b[38;5;241m.\u001b[39mreadline())\n\u001b[0;32m      6\u001b[0m dq \u001b[38;5;241m=\u001b[39m deque()\n\u001b[0;32m      8\u001b[0m \u001b[38;5;28;01mfor\u001b[39;00m i \u001b[38;5;129;01min\u001b[39;00m \u001b[38;5;28mrange\u001b[39m(n):\n",
      "\u001b[1;31mValueError\u001b[0m: invalid literal for int() with base 10: ''"
     ]
    }
   ],
   "source": [
    "# 9. 28279 덱2\n",
    "from collections import deque\n",
    "import sys\n",
    "\n",
    "n = int(sys.stdin.readline())\n",
    "dq = deque()\n",
    "\n",
    "for i in range(n):\n",
    "    m = list(map(int, sys.stdin.readline().split()))\n",
    "    if m[0] == 1:\n",
    "        dq.appendleft(m[1])\n",
    "    elif m[0] == 2:\n",
    "        dq.append(m[1])\n",
    "    elif m[0] == 3:\n",
    "        if len(dq) != 0:\n",
    "            print(dq.popleft())\n",
    "        else:\n",
    "            print(-1)\n",
    "    elif m[0] == 4:\n",
    "        if len(dq) != 0:\n",
    "            print(dq.pop())\n",
    "        else:\n",
    "            print(-1)\n",
    "    elif m[0] == 5:\n",
    "        print(len(dq))\n",
    "    elif m[0] == 6:\n",
    "        if len(dq) == 0:\n",
    "            print(1)\n",
    "        else:\n",
    "            print(0)\n",
    "    elif m[0] == 7:\n",
    "        if len(dq) != 0:\n",
    "            print(dq[0])\n",
    "        else:\n",
    "            print(-1)\n",
    "    elif m[0] == 8:\n",
    "        if len(dq) != 0:\n",
    "            print(dq[-1])\n",
    "        else:\n",
    "            print(-1)"
   ]
  },
  {
   "cell_type": "code",
   "execution_count": 261,
   "id": "b27f2ac5-9a34-4789-858d-2088197e2233",
   "metadata": {},
   "outputs": [
    {
     "name": "stdin",
     "output_type": "stream",
     "text": [
      " 5\n",
      " 3 2 1 -3 -1\n"
     ]
    },
    {
     "name": "stdout",
     "output_type": "stream",
     "text": [
      "3\n",
      "deque([-3, -1, 2, 1])\n",
      "-3\n",
      "deque([2, 1, -1])\n",
      "2\n"
     ]
    },
    {
     "ename": "IndexError",
     "evalue": "deque index out of range",
     "output_type": "error",
     "traceback": [
      "\u001b[1;31m---------------------------------------------------------------------------\u001b[0m",
      "\u001b[1;31mIndexError\u001b[0m                                Traceback (most recent call last)",
      "Cell \u001b[1;32mIn[261], line 19\u001b[0m\n\u001b[0;32m     17\u001b[0m \u001b[38;5;28;01mfor\u001b[39;00m i \u001b[38;5;129;01min\u001b[39;00m \u001b[38;5;28mrange\u001b[39m(\u001b[38;5;28mlen\u001b[39m(dq)):\n\u001b[0;32m     18\u001b[0m     \u001b[38;5;28mprint\u001b[39m(dq\u001b[38;5;241m.\u001b[39mpopleft())\n\u001b[1;32m---> 19\u001b[0m     dq\u001b[38;5;241m.\u001b[39mrotate(dq[i])\n\u001b[0;32m     20\u001b[0m     \u001b[38;5;28mprint\u001b[39m(dq)\n\u001b[0;32m     21\u001b[0m \u001b[38;5;28mprint\u001b[39m(result)\n",
      "\u001b[1;31mIndexError\u001b[0m: deque index out of range"
     ]
    }
   ],
   "source": [
    "# 10. 2346 풍선 터뜨리기\n",
    "'''\n",
    "풍선 원형 배열: n) 1 ... i-1 i i+1 ... n (1\n",
    "풍선 안 종이) -n<=p<=n, p만큼 이동\n",
    "ex) 풍선 1 2 3 4 5\n",
    "    종이 3 2 1 -3 -1\n",
    "터짐순서 1 4 5 3 2\n",
    "'''\n",
    "from collections import deque\n",
    "n = int(input()) #5\n",
    "p = list(map(int, input().split())) #3 2 1 -3 -1\n",
    "dq = deque()\n",
    "for i in p:\n",
    "    dq.append(i)\n",
    "#print(dq)\n",
    "result = []\n",
    "for i in range(len(dq)):\n",
    "    print(dq.popleft())\n",
    "    dq.rotate(dq[i])\n",
    "    print(dq)\n",
    "print(result)"
   ]
  },
  {
   "cell_type": "code",
   "execution_count": 301,
   "id": "82e0ea28-1544-47e1-b607-2b703360156e",
   "metadata": {
    "scrolled": true
   },
   "outputs": [
    {
     "name": "stdin",
     "output_type": "stream",
     "text": [
      " 5\n",
      " 3 2 1 -3 -1\n"
     ]
    },
    {
     "name": "stdout",
     "output_type": "stream",
     "text": [
      "1 4 5 3 2\n"
     ]
    }
   ],
   "source": [
    "# 10. 2346 풍선 터뜨리기\n",
    "'''\n",
    "풍선 원형 배열: n) 1 ... i-1 i i+1 ... n (1\n",
    "풍선 안 종이) -n<=p<=n, p만큼 이동\n",
    "ex) 풍선 1 2 3 4 5\n",
    "    종이 3 2 1 -3 -1\n",
    "터짐순서 1 4 5 3 2\n",
    "'''\n",
    "'''dict()처럼, idx에대한 원소값을 갖는 형태를 구성해야 할듯?'''\n",
    "'''enumerate(iterable, start=) : 열거객체반환'''\n",
    "'''if p>0: rotate(p-1); if p<0: rotate(p)로 해도 문제에서 요구하는 결과값이 나오지만,\n",
    "원판에서, \"양수가 적혀 있을 경우에는 오른쪽으로 이동\" = \"시계반대방향으로회전\"을 의미하며\n",
    "\"음수가 적혀 있을 때는 왼쪽으로 이동\" = \"시계방으로회전\"을 의미하기때문에,\n",
    "-(p-1)과 -p만큼 회전시켜주는 것이 맞다.\n",
    "'''\n",
    "from collections import deque\n",
    "n = int(input()) #5\n",
    "dq = deque(enumerate(map(int, input().split()), start=1)) #3 2 1 -3 -1\n",
    "#print(dq) #deque([(1, 3), (2, 2), (3, 1), (4, -3), (5, -1)])\n",
    "#print(dq.popleft()) #(1, 3)\n",
    "result = []\n",
    "for _ in range(n):\n",
    "    idx, p = dq.popleft() #튜플(1,3)을 각 원소형태1 3로 받고\n",
    "    result.append(str(idx))\n",
    "    #dq.rotate(p-1) #출력값이 다름\n",
    "    if p>0:\n",
    "        dq.rotate(-(p-1)) #원판에서 회전시, 시계반대방향으로 회전해야함\n",
    "    elif p<0:\n",
    "        dq.rotate(-p) #p\n",
    "print(' '.join(result)) #str()로 변환"
   ]
  },
  {
   "cell_type": "code",
   "execution_count": 313,
   "id": "9e0a1ce5-cb92-4654-a426-d26eff0fbe49",
   "metadata": {},
   "outputs": [
    {
     "name": "stdin",
     "output_type": "stream",
     "text": [
      " 4\n",
      " 1 2 3 4\n"
     ]
    },
    {
     "name": "stdout",
     "output_type": "stream",
     "text": [
      "deque([1, 4])\n",
      "[2, 3]\n"
     ]
    }
   ],
   "source": [
    "# 11. 24511 queuestack\n",
    "'''문제이해가 안되었다..'''\n",
    "from collections import deque\n",
    "n = int(input()) #4\n",
    "#ds = list(map(int, input().split())) #0 1 1 0\n",
    "el = list(map(int, input().split())) #1 2 3 4\n",
    "#m = int(input()) #3\n",
    "#c = list(map(int, input().split())) #2 4 7\n",
    "\n",
    "dq = deque()\n",
    "st = []\n",
    "for i in range(n):\n",
    "    if ds[i] == 0: #queue\n",
    "        dq.append(el[i])\n",
    "    elif ds[i] == 1: #stack\n",
    "        st.append(el[i])\n",
    "print(dq)\n",
    "print(st)"
   ]
  },
  {
   "cell_type": "markdown",
   "id": "4474728c-500d-4109-adb5-d9968ec8dd1e",
   "metadata": {
    "jp-MarkdownHeadingCollapsed": true
   },
   "source": [
    "### 17단계 절취선\n",
    "##### 아래에 있는 단계들은 공사중이고 많이 수정될 예정"
   ]
  },
  {
   "cell_type": "markdown",
   "id": "18e50da4-e1c1-4b81-8354-a44c7a9fa0f6",
   "metadata": {},
   "source": [
    "### 18단계 스택 단계와 합침(1)"
   ]
  },
  {
   "cell_type": "code",
   "execution_count": null,
   "id": "0c50d0e5-8b1b-4b54-9944-f8fa06f397d1",
   "metadata": {},
   "outputs": [],
   "source": [
    "# 10831 오늘은 코딩하고 싶은 날"
   ]
  },
  {
   "cell_type": "markdown",
   "id": "407d6ecc-c4ad-462b-a17b-28052f1f5037",
   "metadata": {},
   "source": [
    "오늘은 코딩하고 싶은 날.\n",
    "\r\n",
    "비가 올 때는 역시 코딩이.\r\n",
    "\r\n",
    "시원한 막걸리에 파전, 그리고 노트북만 있다면 나는 외롭지않지.\r\n",
    "\r\n",
    "오늘도 내 머릿속엔 코드가 빙 돈다.\r\n",
    "\r\n",
    "내 머릿속의 코드. 어떻게 하면 조금 더 최적화  수 있을까?\r\n",
    "\r\n",
    "인생은 다이나믹. 다이나믹 프로그래밍을 잘하기 위해서 다이나믹을 금 더 연습한다.\r\n",
    "\r\n",
    "어제를 되돌아보자. 어제를 되돌아보기 위해백트래킹을 연습하자.\r\n",
    "\r\n",
    "내일은 오늘보다 조금 더 욕심을 내야지. 욕심을 내기 해서 그리디를 연습하자.\r\n",
    "\r\n",
    "내 인생 설계. 그래프로 나타내 보자. DFS로 살아야 까? BFS로 살아야 할까?\r\n",
    "\r\n",
    "어떻게 살면 트리같이 사클 없는 인생을 살 수 있을까?\r\n",
    "\r\n",
    "비가 오는 오늘. 하수도가 넘치지 않기 위해 머릿속으로 네트워크 플로우 알고리즘을 돌리면서 집에 간다."
   ]
  },
  {
   "cell_type": "markdown",
   "id": "51704ffb-9726-4118-986b-e3214cf51979",
   "metadata": {},
   "source": [
    "### 19단계 조합론(5)"
   ]
  },
  {
   "cell_type": "code",
   "execution_count": 3,
   "id": "f2b52936-3030-46c7-a23b-118d538f7222",
   "metadata": {},
   "outputs": [
    {
     "name": "stdin",
     "output_type": "stream",
     "text": [
      " 3\n"
     ]
    },
    {
     "name": "stdout",
     "output_type": "stream",
     "text": [
      "6\n"
     ]
    }
   ],
   "source": [
    "# 1. 15439 베라의 패션\n",
    "# 상의와 하의가 서로 다른 색상인 조합의 가짓수를 출력한다.\n",
    "#from itertools import combinations #필요없네..?\n",
    "n = int(input())\n",
    "print(n*(n-1))"
   ]
  },
  {
   "cell_type": "code",
   "execution_count": 4,
   "id": "d1b1584a-ed44-44c8-8411-699d09c66994",
   "metadata": {},
   "outputs": [
    {
     "name": "stdin",
     "output_type": "stream",
     "text": [
      " 3\n"
     ]
    },
    {
     "name": "stdout",
     "output_type": "stream",
     "text": [
      "6\n"
     ]
    }
   ],
   "source": [
    "# 2. 24723 녹색거탑\n",
    "# 측면의 개수 = 바닥으로 내려오는 경우의 수 = 2**윗면의개수\n",
    "n = int(input())\n",
    "print(2**n)"
   ]
  },
  {
   "cell_type": "code",
   "execution_count": 8,
   "id": "98b6b6f0-c4fb-4f95-8deb-57d77671a6db",
   "metadata": {},
   "outputs": [
    {
     "name": "stdin",
     "output_type": "stream",
     "text": [
      " 10\n"
     ]
    },
    {
     "name": "stdout",
     "output_type": "stream",
     "text": [
      "3628800\n"
     ]
    }
   ],
   "source": [
    "# 3. 10872 팩토리얼\n",
    "n = int(input())\n",
    "def factorial(n):\n",
    "    if n <= 1: return 1\n",
    "    return n*factorial(n-1)\n",
    "print(factorial(n))"
   ]
  },
  {
   "cell_type": "code",
   "execution_count": 41,
   "id": "ccb70342-c6ee-45c3-b55c-9d64cba41bde",
   "metadata": {},
   "outputs": [
    {
     "name": "stdin",
     "output_type": "stream",
     "text": [
      " 5 2\n"
     ]
    },
    {
     "name": "stdout",
     "output_type": "stream",
     "text": [
      "10\n"
     ]
    },
    {
     "name": "stdin",
     "output_type": "stream",
     "text": [
      " 5 2\n"
     ]
    },
    {
     "data": {
      "text/plain": [
       "2"
      ]
     },
     "execution_count": 41,
     "metadata": {},
     "output_type": "execute_result"
    }
   ],
   "source": [
    "# 4. 11050 이항 계수 1\n",
    "# 이항계수 = 조합의 가짓수\n",
    "def factorial(m):\n",
    "    cnt = 1\n",
    "    for i in range(1,m+1):\n",
    "        cnt *= i\n",
    "    return cnt\n",
    "n,k = map(int, input().split())\n",
    "l = factorial(n-k) #n,k보다 윗줄에 선언해야 된다.\n",
    "n = factorial(n)\n",
    "k = factorial(k)\n",
    "print(int(n/(k*l)))"
   ]
  },
  {
   "cell_type": "code",
   "execution_count": 44,
   "id": "299d6350-d51a-4fa7-b479-13cbb6e9f315",
   "metadata": {},
   "outputs": [
    {
     "name": "stdin",
     "output_type": "stream",
     "text": [
      " 5 2\n"
     ]
    },
    {
     "name": "stdout",
     "output_type": "stream",
     "text": [
      "10\n"
     ]
    }
   ],
   "source": [
    "import math\n",
    "n,k = map(int, input().split())\n",
    "print(int(math.factorial(n)/(math.factorial(k)*math.factorial(n-k))))"
   ]
  },
  {
   "cell_type": "code",
   "execution_count": 70,
   "id": "2d4456a8-c54b-49a0-ac9f-683cbe0b18fb",
   "metadata": {},
   "outputs": [
    {
     "name": "stdin",
     "output_type": "stream",
     "text": [
      " 1 5\n"
     ]
    },
    {
     "name": "stdout",
     "output_type": "stream",
     "text": [
      "2.708333333333333\n"
     ]
    }
   ],
   "source": [
    "# 5. 1010 다리 놓기\n",
    "''' 3 5\n",
    "3C1 2C1 1C1 = 3 2 1 = 6\n",
    "5P3 = 5!/2! '''\n",
    "n, m = map(int, input().split()) # n < m\n",
    "#횟수: (m-n-1)\n",
    "#경우의수: k=n~m, n-1Ck-1\n",
    "\n",
    "def fa(x):\n",
    "    cnt = 1\n",
    "    for i in range(1,x+1):\n",
    "        cnt *= i\n",
    "    return cnt\n",
    "comb = 0\n",
    "for k in range(n,m+1):\n",
    "    comb += fa(n-1)/(fa(n-k)*fa(k-1))\n",
    "print(comb)"
   ]
  },
  {
   "cell_type": "markdown",
   "id": "73910165-772a-4ee8-b9c9-dad76e8e41dd",
   "metadata": {},
   "source": [
    "### 20단계 심화 2(5)"
   ]
  },
  {
   "cell_type": "code",
   "execution_count": 85,
   "id": "caf1dbcb-96b0-4201-a070-e3e9c1e38781",
   "metadata": {},
   "outputs": [
    {
     "name": "stdin",
     "output_type": "stream",
     "text": [
      " 2\n",
      " 4 2\n"
     ]
    },
    {
     "name": "stdout",
     "output_type": "stream",
     "text": [
      "8\n"
     ]
    }
   ],
   "source": [
    "# 1. 1037 약수\n",
    "'''for문 돌릴 필요없네..?'''\n",
    "n = int(input()) # 1과N을 제외한, N의 약수의 개수\n",
    "a = sorted(list(map(int, input().split()))) # N의 약수\n",
    "N = a[0]*a[-1]\n",
    "print(N)"
   ]
  },
  {
   "cell_type": "code",
   "execution_count": 7,
   "id": "248dc86b-f6ac-4816-9b7b-a9f3b94df0de",
   "metadata": {},
   "outputs": [
    {
     "name": "stdin",
     "output_type": "stream",
     "text": [
      " 3\n",
      " 3\n",
      " ENTER\n",
      " 3\n"
     ]
    },
    {
     "name": "stdout",
     "output_type": "stream",
     "text": [
      "2\n"
     ]
    }
   ],
   "source": [
    "# 2. 25192 인사성 밝은 곰곰이\n",
    "'''set()으로 중복처리 해줬는데도 틀렸다고 뜨네? 흠..'''\n",
    "'''import re\n",
    "n = int(input())\n",
    "cnt = []\n",
    "for _ in range(n):\n",
    "    m = re.sub('[^a-zA-Z0-9]','',input()) #그냥 input()해서 문제였던건가? 아니네\n",
    "    if m != \"ENTER\":\n",
    "        cnt.append(m)\n",
    "    else: pass\n",
    "print(len(set(cnt))) #set()중복처리'''\n",
    "\n",
    "# 두번째 풀이, set(), [a-z0-9]의 정규식은 필요없으며,\n",
    "n = int(input())\n",
    "arr = set() #중복확인을 위한 집합set과 (<-배열list선언 시 시간초과 발생)\n",
    "cnt = 0 #개수세기를 위한 정수형 객체를 각각 선언해야\n",
    "for _ in range(n):\n",
    "    m = input()\n",
    "    if m != \"ENTER\":\n",
    "        if m not in arr:\n",
    "            cnt += 1\n",
    "            arr.add(m)\n",
    "    else:\n",
    "        arr.clear() # \"ENTER\"만나면 들어갈 값 초기화 arr=[]\n",
    "print(cnt)"
   ]
  },
  {
   "cell_type": "code",
   "execution_count": 132,
   "id": "dbde3390-e668-4927-8e6f-6f7888e373f6",
   "metadata": {},
   "outputs": [
    {
     "name": "stdin",
     "output_type": "stream",
     "text": [
      " 3\n",
      " 123 abc\n",
      " abc ddd\n",
      " ddd d\n"
     ]
    },
    {
     "name": "stdout",
     "output_type": "stream",
     "text": [
      "0\n"
     ]
    }
   ],
   "source": [
    "# 3. 26069 붙임성 좋은 총총이\n",
    "# 첫번째 시도 : \"ChongChong\"를 찾고나서 부터 cnt++해줄 목적으로 리스트슬라이싱?을 생각함\n",
    "'''n = int(input())\n",
    "cnt = 0\n",
    "for _ in range(n):\n",
    "    i = list(map(str, input().split()))\n",
    "    if i[0] == \"ChongChong\" or i[1] == \"ChongChong\":\n",
    "        cnt += 1\n",
    "print(cnt)'''\n",
    "# 두번째 시도 : 아예 집합set 자료구조에 \"ChongChong\"을 선언 후  입력값들이 set에 있으면, add해준다.\n",
    "# 포인트 : 추지 않고 있던 사람이 추고 있던 사람을 만나게 된다면, 만난 시점 이후로 추게 된다.\n",
    "n = int(input())\n",
    "cnt = {\"ChongChong\"}\n",
    "for i in range(n):\n",
    "    x,y = input().split() #x[0], x[1]형태로 선언하기 귀찮으니 객체y를 하나 더 선언\n",
    "    if x in cnt:\n",
    "        cnt.add(y)\n",
    "    if y in cnt:\n",
    "        cnt.add(x)\n",
    "print(len(cnt))"
   ]
  },
  {
   "cell_type": "code",
   "execution_count": null,
   "id": "30a51fb0-a3dc-486e-bc26-4d26703aebaa",
   "metadata": {},
   "outputs": [],
   "source": [
    "# 두번째 시도 : 아예 집합set 자료구조에 \"ChongChong\"을 선언 후  입력값들이 set에 있으면, add해준다.\n",
    "# 포인트 : 추지 않고 있던 사람이 추고 있던 사람을 만나게 된다면, 만난 시점 이후로 추게 된다.\n",
    "n = int(input())\n",
    "cnt = {\"ChongChong\"}\n",
    "for i in range(n):\n",
    "    x,y = input().split() #x[0], x[1]형태로 선언하기 귀찮으니 객체y를 하나 더 선언\n",
    "    if x in cnt:\n",
    "        cnt.add(y)\n",
    "    if y in cnt:\n",
    "        cnt.add(x)\n",
    "print(len(cnt))"
   ]
  },
  {
   "cell_type": "code",
   "execution_count": 60,
   "id": "c5ed149c-c2ef-4359-ac6b-8b37efe51cc6",
   "metadata": {},
   "outputs": [
    {
     "name": "stdin",
     "output_type": "stream",
     "text": [
      " 5\n",
      " 1\n",
      " 3\n",
      " 8\n",
      " -2\n",
      " 2\n"
     ]
    },
    {
     "name": "stdout",
     "output_type": "stream",
     "text": [
      "2\n",
      "2\n",
      "10\n",
      "-1\n"
     ]
    }
   ],
   "source": [
    "# 4. 2108 통계학\n",
    "'''재도전'''\n",
    "'''최빈값 알고리즘'''\n",
    "def sol(arr):\n",
    "    while len(arr) != 0:\n",
    "        for idx, item in enumerate(set(arr)):\n",
    "            arr.remove(item)\n",
    "        if idx == 0: return item\n",
    "    return -1\n",
    "\n",
    "n = int(input()) #n is odd\n",
    "m = sorted([int(input()) for _ in range(n)])\n",
    "\n",
    "print(int(sum(m)/n)) # avg\n",
    "print(m[int(n/2)]) # median\n",
    "print(sol(m)) # mode\n",
    "#print(m) #def다음 리스트m값이 초기화됨\n",
    "print(max(m)-min(m)) # diff"
   ]
  },
  {
   "cell_type": "code",
   "execution_count": 81,
   "id": "a143e870-de03-4a76-ad49-49962234cb51",
   "metadata": {},
   "outputs": [
    {
     "name": "stdin",
     "output_type": "stream",
     "text": [
      " 7 4\n",
      " appearance\n",
      " append\n",
      " attendance\n",
      " swim\n",
      " mouse\n",
      " mouse\n",
      " mouse\n"
     ]
    },
    {
     "name": "stdout",
     "output_type": "stream",
     "text": [
      "[('appearance', 1), ('attendance', 1), ('append', 1), ('mouse', 3), ('swim', 1)]\n"
     ]
    }
   ],
   "source": [
    "# 5. 20920 영단어 암기는 괴로워\n",
    "'''Counter.most_common() : 등장횟수 내림차순 정렬'''\n",
    "from collections import Counter\n",
    "n, m = map(int, input().split()) #n,m = 단어개수,기준이상출력\n",
    "arr = []\n",
    "for i in range(1, n+1):\n",
    "    wd = input()\n",
    "    if len(wd) >= m:\n",
    "        arr.append(wd)\n",
    "c = Counter(arr)\n",
    "#for i,j in c.most_common():print(i) #단어길이 긴게 먼저 출력 안되네\n",
    "d = sorted(c.most_common(), key=lambda x : len(x[0]), reverse=True)\n",
    "print(d) #이러면 등장횟수 내림차순 정렬이 안되고"
   ]
  },
  {
   "cell_type": "code",
   "execution_count": null,
   "id": "c05d4757-ff0d-413c-ad3c-941ebd045bea",
   "metadata": {},
   "outputs": [],
   "source": []
  },
  {
   "cell_type": "code",
   "execution_count": 92,
   "id": "320e2cc4-cb01-4500-8f20-428149e5bc1b",
   "metadata": {},
   "outputs": [
    {
     "name": "stdin",
     "output_type": "stream",
     "text": [
      " 10\n"
     ]
    },
    {
     "name": "stdout",
     "output_type": "stream",
     "text": [
      "3628800\n"
     ]
    }
   ],
   "source": [
    "# 1. 27433 팩토리얼2\n",
    "def factorial(n):\n",
    "    if n <= 1:\n",
    "        return 1\n",
    "    else:\n",
    "        return n * factorial(n-1)\n",
    "print(factorial(int(input()))) #factorial(int(input()))만 하면 틀림"
   ]
  },
  {
   "cell_type": "code",
   "execution_count": 133,
   "id": "0c4b0551-000c-44bb-a54d-6379915d4a8a",
   "metadata": {},
   "outputs": [
    {
     "name": "stdin",
     "output_type": "stream",
     "text": [
      " 1\n"
     ]
    },
    {
     "name": "stdout",
     "output_type": "stream",
     "text": [
      "1\n"
     ]
    }
   ],
   "source": [
    "# 2. 10870 피보나치 수 5\n",
    "#\"0\" 1 1 2 3 5 8 13 21\n",
    "def fibo(x):\n",
    "    if x<2 :return x #if x<=2 : return 2는 0번째 값을 가져올 수 없음\n",
    "    return fibo(x-1) + fibo(x-2)\n",
    "print(fibo(int(input())))"
   ]
  },
  {
   "cell_type": "code",
   "execution_count": 151,
   "id": "f20c94af-9fb3-4315-940d-d29a1f0fb107",
   "metadata": {},
   "outputs": [
    {
     "name": "stdin",
     "output_type": "stream",
     "text": [
      " 5\n",
      " aaa\n"
     ]
    },
    {
     "name": "stdout",
     "output_type": "stream",
     "text": [
      "1 3\n"
     ]
    },
    {
     "name": "stdin",
     "output_type": "stream",
     "text": [
      " abba\n"
     ]
    },
    {
     "name": "stdout",
     "output_type": "stream",
     "text": [
      "1 4\n"
     ]
    },
    {
     "name": "stdin",
     "output_type": "stream",
     "text": [
      " ababa\n"
     ]
    },
    {
     "name": "stdout",
     "output_type": "stream",
     "text": [
      "1 4\n"
     ]
    },
    {
     "name": "stdin",
     "output_type": "stream",
     "text": [
      " abc\n"
     ]
    },
    {
     "name": "stdout",
     "output_type": "stream",
     "text": [
      "0 2\n"
     ]
    },
    {
     "name": "stdin",
     "output_type": "stream",
     "text": [
      " pal\n"
     ]
    },
    {
     "name": "stdout",
     "output_type": "stream",
     "text": [
      "0 2\n"
     ]
    }
   ],
   "source": [
    "# 3. 25501 재귀의 귀재\n",
    "'''다시 풀어보기 / 펠린드롬 알고리즘 외우기'''\n",
    "'''global변수선언 방식과 활용법 알기, def recursion(s,l,r,cnt):방식도 가능'''\n",
    "#문제에 제시된 코드를 python문법으로 따라 입력하면,\n",
    "def recursion(s, l, r): #str, left:startN, right:endN\n",
    "    global cnt #recursion함수 호출 횟수 : global변수로 선언\n",
    "    cnt += 1\n",
    "    if l>=r: return 1\n",
    "    elif s[l] != s[r]: return 0\n",
    "    else: return recursion(s, l+1, r-1) #startN -> 중앙값 <- endN 을 향한다.\n",
    "\n",
    "def isPalindrome(s):\n",
    "    return recursion(s, 0, len(s)-1)\n",
    "\n",
    "#print('ABBA', isPalindrome('ABBA')) #1\n",
    "#print('ABC', isPalindrome('ABC')) #0\n",
    "\n",
    "for _ in range(int(input())):\n",
    "    cnt = 0\n",
    "    print(isPalindrome(input()), cnt)"
   ]
  },
  {
   "cell_type": "code",
   "execution_count": 2,
   "id": "62eb5b0e-46f9-4f7f-98a8-2290a14657b9",
   "metadata": {},
   "outputs": [
    {
     "name": "stdin",
     "output_type": "stream",
     "text": [
      " 5 7\n",
      " 4 5 1 3 2\n"
     ]
    },
    {
     "name": "stdout",
     "output_type": "stream",
     "text": [
      "3\n"
     ]
    }
   ],
   "source": [
    "# 4. 24060 알고리즘 수업 - 병합 정렬1\n",
    "'''다시 풀어보기 / 알고리즘 암기'''\n",
    "def merge_sort(arr):\n",
    "    if len(arr) <= 1:\n",
    "        return arr\n",
    "    mid = (len(arr)+1)//2 #중앙값 설정\n",
    "    left = merge_sort(arr[:mid]) #앞쪽 정렬\n",
    "    right = merge_sort(arr[mid:]) #뒷쪽 정렬\n",
    "\n",
    "    sorted_arr = []\n",
    "    i=j=0\n",
    "    while i < len(left) and j < len(right): #TypeError: '<' not supported between instances of 'int' and 'list'\n",
    "        if left[i] <= right[j]:\n",
    "            sorted_arr.append(left[i])\n",
    "            ans.append(left[i])\n",
    "            i += 1\n",
    "        else:\n",
    "            sorted_arr.append(right[j])\n",
    "            ans.append(right[j])\n",
    "            j += 1\n",
    "    while i <len(left): #앞쪽 배열이 남는 경우\n",
    "        sorted_arr.append(left[i])\n",
    "        ans.append(left[i])\n",
    "        i += 1\n",
    "    while j < len(right): #뒷쪽 배열이 남는 경우\n",
    "        sorted_arr.append(right[j])\n",
    "        ans.append(right[j])\n",
    "        j += 1\n",
    "    return sorted_arr\n",
    "\n",
    "ans = []\n",
    "n,k = map(int, input().split())\n",
    "a = list(map(int, input().split()))\n",
    "merge_sort(a)\n",
    "\n",
    "print(ans[k-1] if k <= len(ans) else -1)"
   ]
  },
  {
   "cell_type": "code",
   "execution_count": 8,
   "id": "c0cdaab4-9108-4fdf-8bdd-5f24a0b4c5bb",
   "metadata": {},
   "outputs": [
    {
     "name": "stdin",
     "output_type": "stream",
     "text": [
      " 0\n"
     ]
    },
    {
     "name": "stdout",
     "output_type": "stream",
     "text": [
      "-\n"
     ]
    },
    {
     "name": "stdin",
     "output_type": "stream",
     "text": [
      " 1\n"
     ]
    },
    {
     "name": "stdout",
     "output_type": "stream",
     "text": [
      "- -\n"
     ]
    },
    {
     "name": "stdin",
     "output_type": "stream",
     "text": [
      " 2\n"
     ]
    },
    {
     "name": "stdout",
     "output_type": "stream",
     "text": [
      "- -   - -\n"
     ]
    },
    {
     "name": "stdin",
     "output_type": "stream",
     "text": [
      " 3\n"
     ]
    },
    {
     "name": "stdout",
     "output_type": "stream",
     "text": [
      "- -   - -         - -   - -\n"
     ]
    },
    {
     "name": "stdin",
     "output_type": "stream",
     "text": [
      " 0\n"
     ]
    },
    {
     "name": "stdout",
     "output_type": "stream",
     "text": [
      "-\n"
     ]
    },
    {
     "name": "stdin",
     "output_type": "stream",
     "text": [
      " 1\n"
     ]
    },
    {
     "name": "stdout",
     "output_type": "stream",
     "text": [
      "- -\n"
     ]
    },
    {
     "name": "stdin",
     "output_type": "stream",
     "text": [
      " df\n"
     ]
    }
   ],
   "source": [
    "# 5. 4779 칸토어 집합\n",
    "'''\n",
    "cantor(0) = '-'\n",
    "cantor(1) = cantor(0)+' '*3**0+cantor(0) = '- -'\n",
    "cantor(2) = cantor(1)+' '*3**1+cantor(1) = '- -   - -'\n",
    "cantor(3) = cantor(2)+' '*3**2+cantor(2) = '- -   - -         - -   - -'\n",
    "'''\n",
    "\n",
    "def cantor(n):\n",
    "    if n == 0:\n",
    "        return '-'\n",
    "    return cantor(n-1)+' '*3**(n-1)+cantor(n-1)\n",
    "\n",
    "while True:\n",
    "    try:\n",
    "        print(cantor(int(input())))\n",
    "    except:\n",
    "        break"
   ]
  },
  {
   "cell_type": "code",
   "execution_count": 58,
   "id": "26731f3d-fa32-45a6-ac1d-ad98bd5ecfc1",
   "metadata": {},
   "outputs": [
    {
     "name": "stdin",
     "output_type": "stream",
     "text": [
      " 9\n"
     ]
    },
    {
     "name": "stdout",
     "output_type": "stream",
     "text": [
      "*********\n",
      "* ** ** *\n",
      "*********\n",
      "***   ***\n",
      "* *   * *\n",
      "***   ***\n",
      "*********\n",
      "* ** ** *\n",
      "*********\n"
     ]
    }
   ],
   "source": [
    "# 6. 2447 별 찍기 -10\n",
    "'''흠..왜 항상 마무리를 못짓지..?'''\n",
    "'''핵심풀이\n",
    "1. x=1일때만 '*'를 반환해주면서,\n",
    "2. a에 (x/3)꼴을 재귀를 통해 호출(=['*'])하면,\n",
    "3. for문으로 상/중/하 나누어서 배열에 담기\n",
    "4. 재귀함수에 넣은 입력값을 '\\n'.join 조인으로 출력\n",
    "참고) https://velog.io/@miiingirok/%EC%95%8C%EA%B3%A0%EB%A6%AC%EC%A6%98-%EB%B0%B1%EC%A4%80-2447.-%EB%B3%84-%EC%B0%8D%EA%B8%B0Python\n",
    "'''\n",
    "def star(x): #x= 3,9,27..\n",
    "    if x == 1: return ['*']\n",
    "    arr = []\n",
    "    a = star(int(x//3))\n",
    "    #print(x) #3, 9, ..\n",
    "    #print(a) #['*'], ['***','* *','***'], ..\n",
    "    #print(arr) #[], [], ..\n",
    "    for i in a:\n",
    "        arr.append(i*3)\n",
    "    for i in a:\n",
    "        arr.append(i+' '*(x//3)+i)\n",
    "    for i in a:\n",
    "        arr.append(i*3)\n",
    "    return arr\n",
    "    \n",
    "n = int(input())\n",
    "print('\\n'.join(star(n))) # *** * * ***, ..."
   ]
  },
  {
   "cell_type": "code",
   "execution_count": 61,
   "id": "216a810a-0c0f-4411-9bda-ad1a411b52b1",
   "metadata": {},
   "outputs": [
    {
     "name": "stdin",
     "output_type": "stream",
     "text": [
      " 4\n"
     ]
    },
    {
     "name": "stdout",
     "output_type": "stream",
     "text": [
      "15\n",
      "1 2\n",
      "1 3\n",
      "2 3\n",
      "1 2\n",
      "3 1\n",
      "3 2\n",
      "1 2\n",
      "1 3\n",
      "2 3\n",
      "2 1\n",
      "3 1\n",
      "2 3\n",
      "1 2\n",
      "1 3\n",
      "2 3\n"
     ]
    }
   ],
   "source": [
    "# 7. 11729 하노이 탑 이동 순서\n",
    "'''\n",
    "내생각)\n",
    "1. (x-1)번째 원판이 3에 있을때, 1~(x-2)번째 원판이 2에 순차적으로 쌓여있으면 된다.\n",
    "2. 원판수n 짝수일때, 최상단원판1이 2부터\n",
    "           홀수일때, 최상단원판1이 3부터 쌓기 시작한다.\n",
    "3. 옮긴수k (예상) 1 3 7 15 .. 2^n-1 인가?\n",
    "코딩)\n",
    "그런데 문제는 코딩으로 못 옮기겠음.. 흠..\n",
    "해설)\n",
    "1. 풀이1.이 이 문제의 핵심으로 잘 짚었으나, 짝/홀 나누는 것까지 생각 안해도 된다.\n",
    "2. 재귀함수 선언 시, 원판수, 시작막대, 끝막대까지 3개의 변수를 넣어줘야 한다.\n",
    "3. \n",
    "참고) https://study-all-night.tistory.com/6 '''\n",
    "def hanoi(x,s,e):\n",
    "    if x==1:\n",
    "        print(s,e)\n",
    "        return\n",
    "    else:\n",
    "        hanoi(x-1,s,6-s-e) #막대번호1 2 3을 합치면 6이며, s,e번호를 알고있기 때문\n",
    "        print(s,e)\n",
    "        hanoi(x-1,6-s-e,e)\n",
    "        \n",
    "n = int(input())\n",
    "print(2**n -1)\n",
    "hanoi(n,1,3)"
   ]
  },
  {
   "cell_type": "code",
   "execution_count": 89,
   "id": "4d272805-b0b7-4aac-99aa-599c79a04ef1",
   "metadata": {},
   "outputs": [
    {
     "name": "stdin",
     "output_type": "stream",
     "text": [
      " 4 4\n"
     ]
    },
    {
     "name": "stdout",
     "output_type": "stream",
     "text": [
      "1 2 3 4\n",
      "1 2 4 3\n",
      "1 3 2 4\n",
      "1 3 4 2\n",
      "1 4 2 3\n",
      "1 4 3 2\n",
      "2 1 3 4\n",
      "2 1 4 3\n",
      "2 3 1 4\n",
      "2 3 4 1\n",
      "2 4 1 3\n",
      "2 4 3 1\n",
      "3 1 2 4\n",
      "3 1 4 2\n",
      "3 2 1 4\n",
      "3 2 4 1\n",
      "3 4 1 2\n",
      "3 4 2 1\n",
      "4 1 2 3\n",
      "4 1 3 2\n",
      "4 2 1 3\n",
      "4 2 3 1\n",
      "4 3 1 2\n",
      "4 3 2 1\n"
     ]
    }
   ],
   "source": [
    "# 1. 15649 N과 M (1)\n",
    "#1차시도 : nCr,nPr\n",
    "'''\n",
    "from itertools import permutations\n",
    "n,m = map(int, input().split())\n",
    "nums = [i for i in range(1, n+1)]\n",
    "nPr = permutations(nums, m) #TypeError: Expected int as r\n",
    "for i in nPr:\n",
    "    for j in i:\n",
    "        print(j, end=' ')\n",
    "    print()\n",
    "'''\n",
    "#2차시도 : 백트래킹, 임의집하에서 원소의 순서를 선택하는 문제 푸는 데 적합\n",
    "#참고 : https://jie0025.tistory.com/455\n",
    "'''\n",
    "def backtracking():\n",
    "    if len(array) == m:\n",
    "        print(\" \".join(map(str, array)))\n",
    "        return\n",
    "    for i in range(1, n+1):\n",
    "        if i not in array:\n",
    "            array.append(i)\n",
    "            backtracking()\n",
    "            array.pop()\n",
    "n,m = map(int, input().split())\n",
    "array = []\n",
    "backtracking()\n",
    "'''\n",
    "#3차시도 : 백트래킹, DFS로 제한조건을 위배하는 노드는 제외(가지치기)하는 것\n",
    "n,m = map(int, input().split()) #입력을 리스트로 받고, stack쌓는 것과 비슷\n",
    "s = []\n",
    "visited = [False]*(n+1)\n",
    "def dfs(): #dfs, 재귀로 반복 : 리스트s 안에 m개 요소가 쌓이면 출력해준다.\n",
    "    if len(s) == m: #ex) m=2일 경우, s=[1,2]가 되면 출력\n",
    "        print(' '.join(map(str, s)))\n",
    "        return\n",
    "    for i in range(1, n+1): #이미 방문한 경우 제외\n",
    "        if visited[i]:\n",
    "            continue\n",
    "        visited[i] = True #방문처리 후, s에 값i추가. dfs 재실행함\n",
    "        s.append(i)\n",
    "        dfs()\n",
    "        s.pop()\n",
    "        visited[i] = False\n",
    "dfs()"
   ]
  },
  {
   "cell_type": "code",
   "execution_count": null,
   "id": "77ca8897-190a-4d2e-994d-050c9811d755",
   "metadata": {},
   "outputs": [],
   "source": [
    "# 2. 15650 N과 M (2)"
   ]
  },
  {
   "cell_type": "code",
   "execution_count": null,
   "id": "4e0a3b92-5a8d-4ee8-814b-5f75bb67bebe",
   "metadata": {},
   "outputs": [],
   "source": [
    "# 3. 15651 N과 M (3)"
   ]
  },
  {
   "cell_type": "code",
   "execution_count": null,
   "id": "fcfe3312-f1a8-4ea5-8b7e-4de616a6450c",
   "metadata": {},
   "outputs": [],
   "source": [
    "# 4. 15652 N과 M (4)"
   ]
  },
  {
   "cell_type": "code",
   "execution_count": null,
   "id": "d19c47f2-1db3-4021-b120-9dfd2c4cfd6e",
   "metadata": {},
   "outputs": [],
   "source": [
    "# 5. 9663 N-Queen"
   ]
  },
  {
   "cell_type": "code",
   "execution_count": null,
   "id": "574692c1-476c-4282-8a83-be878b9bb676",
   "metadata": {},
   "outputs": [],
   "source": [
    "# 6. 2580 스도쿠"
   ]
  },
  {
   "cell_type": "code",
   "execution_count": null,
   "id": "6e7ee0f7-5dbe-47ed-8afb-f2279494ba3c",
   "metadata": {},
   "outputs": [],
   "source": [
    "# 7. 14888 연산자 끼워넣기"
   ]
  },
  {
   "cell_type": "code",
   "execution_count": null,
   "id": "dd344112-ba19-44da-91b3-659f86d8ba34",
   "metadata": {},
   "outputs": [],
   "source": [
    "# 8. 14889 스타트와 링크"
   ]
  }
 ],
 "metadata": {
  "kernelspec": {
   "display_name": "Python 3 (ipykernel)",
   "language": "python",
   "name": "python3"
  },
  "language_info": {
   "codemirror_mode": {
    "name": "ipython",
    "version": 3
   },
   "file_extension": ".py",
   "mimetype": "text/x-python",
   "name": "python",
   "nbconvert_exporter": "python",
   "pygments_lexer": "ipython3",
   "version": "3.12.4"
  }
 },
 "nbformat": 4,
 "nbformat_minor": 5
}
